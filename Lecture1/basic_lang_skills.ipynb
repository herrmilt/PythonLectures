{
 "cells": [
  {
   "cell_type": "markdown",
   "id": "6ade308e",
   "metadata": {},
   "source": [
    "# Basic language skills\n",
    "<a id='sec_basic_lang_skills'></a>\n",
    "\n",
    "### Expressions\n",
    "In Python, an expression is a combination of values, variables, and operators that evaluates to a result. Here's an example of an expression:"
   ]
  },
  {
   "cell_type": "code",
   "execution_count": null,
   "id": "a70e8b5d",
   "metadata": {
    "scrolled": true
   },
   "outputs": [],
   "source": [
    "2 + 3 * 4"
   ]
  },
  {
   "cell_type": "markdown",
   "id": "d4cff2be",
   "metadata": {},
   "source": [
    "In this expression, we have the values 2, 3, and 4, and the operators + and *. The expression will be evaluated, and the result will be returned.\n",
    "\n",
    "### Data Types\n",
    "Python has several built-in data types, including:\n",
    "\n",
    "- Integer: Represents whole numbers without decimals. Example: 42\n",
    "- Float: Represents real numbers with decimals. Example: 3.14\n",
    "- String: Represents a sequence of characters. Example: 'Hello, World!'\n",
    "- Boolean: Represents either True or False.\n",
    "- List: Represents an ordered collection of items. Example: [1, 2, 3]\n",
    "- Tuple: Similar to a list, but immutable (cannot be modified). Example: (1, 2, 3)\n",
    "- Dictionary: Represents a collection of key-value pairs. Example: {'name': 'John', 'age': 25}\n",
    "\n",
    "Here's an example of using different data types in a Jupyter Notebook:"
   ]
  },
  {
   "cell_type": "code",
   "execution_count": null,
   "id": "a19afd70",
   "metadata": {},
   "outputs": [],
   "source": [
    "age = 25\n",
    "height = 1.75\n",
    "name = 'John Doe'\n",
    "is_student = True\n",
    "\n",
    "name"
   ]
  },
  {
   "cell_type": "markdown",
   "id": "c0065737",
   "metadata": {},
   "source": [
    "### Operations\n",
    "Python supports various operations that can be performed on different data types. Some common operations include:\n",
    "\n",
    "- Arithmetic operators: +, -, *, /, % (modulus), ** (exponentiation)\n",
    "- Comparison operators: == (equal to), != (not equal to), >, <, >=, <=\n",
    "- Logical operators: and, or, not\n",
    "- String concatenation: +\n",
    "- List operations: indexing, slicing, appending, extending, etc."
   ]
  },
  {
   "cell_type": "code",
   "execution_count": null,
   "id": "0f4a8d30",
   "metadata": {},
   "outputs": [],
   "source": [
    "x = 5\n",
    "y = 3\n",
    "x + y"
   ]
  },
  {
   "cell_type": "code",
   "execution_count": null,
   "id": "eb510850",
   "metadata": {},
   "outputs": [],
   "source": [
    "name1 = 'John'\n",
    "name2 = 'Doe'\n",
    "full_name = name1 + ' ' + name2\n",
    "full_name"
   ]
  },
  {
   "cell_type": "markdown",
   "id": "508a6cbe",
   "metadata": {},
   "source": [
    "### Identation\n",
    "\n",
    "In Python, indentation plays a crucial role in defining the structure and scope of your code. It is used to group statements together and indicate the blocks of code that should be executed together. \n",
    "\n",
    "#### Indentation in Control Structures\n",
    "Indentation is particularly important when working with control structures such as loops and conditionals. "
   ]
  },
  {
   "cell_type": "code",
   "execution_count": null,
   "id": "e4e1c2fc",
   "metadata": {},
   "outputs": [],
   "source": [
    "fruits = ['apple', 'banana', 'orange']\n",
    "\n",
    "for fruit in fruits:\n",
    "    print(\"*\" * 10)\n",
    "    print(fruit)  # Indented block of code within the loop\n",
    "\n",
    "if len(fruits) > 3:\n",
    "    print(\"There are more than 3 fruits!\")  # Indented block of code within the if statement\n",
    "    print()"
   ]
  },
  {
   "cell_type": "markdown",
   "id": "80a45a8b",
   "metadata": {},
   "source": [
    "Nesting in identation"
   ]
  },
  {
   "cell_type": "code",
   "execution_count": null,
   "id": "7bfc697c",
   "metadata": {},
   "outputs": [],
   "source": [
    "x = 10\n",
    "y = 5\n",
    "\n",
    "if x > y:\n",
    "    print(\"x is greater than y\")\n",
    "    if x > 10:\n",
    "        print(\"x is also greater than 10\")\n",
    "    else:\n",
    "        print(\"x is not greater than 10\")\n",
    "else:\n",
    "    print(\"x is less than or equal to y\")\n"
   ]
  },
  {
   "cell_type": "markdown",
   "id": "e418b50c",
   "metadata": {},
   "source": [
    "#### Indentation in Function Definitions\n",
    "Indentation is also used in defining functions. The indented block following the function declaration represents the function body. \n",
    "\n"
   ]
  },
  {
   "cell_type": "code",
   "execution_count": null,
   "id": "8afc81e2",
   "metadata": {},
   "outputs": [],
   "source": [
    "def greet(name):\n",
    "    print(\"greet function called!\")\n",
    "    print(\"Hello, \" + name + \"!\")  \n",
    "\n",
    "greet(\"Alice\")  "
   ]
  },
  {
   "cell_type": "markdown",
   "id": "f98841c2",
   "metadata": {},
   "source": [
    "### Variables\n",
    "\n",
    "In Python, variables are dynamically typed, which means you can assign values of different types to the same variable, and the type of the variable can change dynamically. "
   ]
  },
  {
   "cell_type": "code",
   "execution_count": null,
   "id": "52b5214e",
   "metadata": {},
   "outputs": [],
   "source": [
    "x = 5  # Assigning an integer value to variable x\n",
    "print(x)  \n",
    "\n",
    "y = \"Hello\"  \n",
    "print(y)  \n"
   ]
  },
  {
   "cell_type": "markdown",
   "id": "71b89ce3",
   "metadata": {},
   "source": [
    "You can change the type of a variable by assigning a value of a different type to it. Here's an example:"
   ]
  },
  {
   "cell_type": "code",
   "execution_count": null,
   "id": "26d845d1",
   "metadata": {},
   "outputs": [],
   "source": [
    "x = 5  # x is an integer\n",
    "print(x)  \n",
    "\n",
    "x = \"Hello\"  # Assigning a string value to x, changing its type\n",
    "print(x)  \n"
   ]
  },
  {
   "cell_type": "markdown",
   "id": "3407343c",
   "metadata": {},
   "source": [
    "Python dynamically infers the type of a variable based on the assigned value. Here's an example:"
   ]
  },
  {
   "cell_type": "code",
   "execution_count": null,
   "id": "654ee307",
   "metadata": {},
   "outputs": [],
   "source": [
    "x = 5  # x is inferred as an integer\n",
    "print(type(x)) \n",
    "\n",
    "x = 3.14  # x is inferred as a float\n",
    "print(type(x))  \n",
    "\n",
    "x = \"Cat\" # x is inferred as a string\n",
    "print(type(x))  "
   ]
  },
  {
   "cell_type": "markdown",
   "id": "29aa87b3",
   "metadata": {},
   "source": [
    "In Python, **None** is a special value that represents the absence of a value or the lack of a specific object. It is often used to indicate that a variable or object does not have a meaningful value or has not been assigned yet"
   ]
  },
  {
   "cell_type": "code",
   "execution_count": null,
   "id": "34584b78",
   "metadata": {},
   "outputs": [],
   "source": [
    "name = None\n",
    "print(name)  \n",
    "\n",
    "if name is None:\n",
    "    print(\"The name is not assigned.\")\n",
    "else:\n",
    "    print(\"The name is:\", name)\n"
   ]
  },
  {
   "cell_type": "markdown",
   "id": "2577508c",
   "metadata": {},
   "source": [
    "### Assignments\n",
    "\n",
    "In Python, you can perform assignments to variables, including assigning multiple values simultaneously and chaining assignments"
   ]
  },
  {
   "cell_type": "code",
   "execution_count": null,
   "id": "03efbc15",
   "metadata": {
    "scrolled": true
   },
   "outputs": [],
   "source": [
    "x, y, z = 10, 'Hello', 3.14\n",
    "print(x)\n",
    "print(y)\n",
    "print(z)"
   ]
  },
  {
   "cell_type": "markdown",
   "id": "da531a7c",
   "metadata": {},
   "source": [
    "Python allows you to chain assignments, where the value of one variable is assigned to multiple variables simultaneously."
   ]
  },
  {
   "cell_type": "code",
   "execution_count": null,
   "id": "b170e53c",
   "metadata": {},
   "outputs": [],
   "source": [
    "x = y = z = 20\n",
    "print(x)\n",
    "print(y)\n",
    "print(z)"
   ]
  },
  {
   "cell_type": "markdown",
   "id": "978151a6",
   "metadata": {},
   "source": [
    "Python also allows you to swap values between variables using a single line of code without needing an intermediate variable"
   ]
  },
  {
   "cell_type": "code",
   "execution_count": null,
   "id": "6b9a4d70",
   "metadata": {},
   "outputs": [],
   "source": [
    "x = 10\n",
    "y = \"red\"\n",
    "\n",
    "x, y = y, x  # Swap the values of x and y\n",
    "\n",
    "print(x)\n",
    "print(y)"
   ]
  },
  {
   "cell_type": "markdown",
   "id": "1478a1ce",
   "metadata": {},
   "source": [
    "In Python, a fundamental concept is that everything is an object. This means that all data, including numbers, strings, functions, and even classes, are objects with their own properties and methods. "
   ]
  },
  {
   "cell_type": "code",
   "execution_count": null,
   "id": "f54a9fc8",
   "metadata": {},
   "outputs": [],
   "source": [
    "x = 10\n",
    "print(x.bit_length())"
   ]
  },
  {
   "cell_type": "markdown",
   "id": "474552f7",
   "metadata": {},
   "source": [
    "Python follows the principle of \"assignment does not duplicate objects,\" which means that assigning a variable does not create a new copy of the object.\n",
    "- In Python, when you assign a variable to a value, it creates a reference to the existing object rather than creating a new copy of the object. "
   ]
  },
  {
   "cell_type": "code",
   "execution_count": null,
   "id": "195e8065",
   "metadata": {},
   "outputs": [],
   "source": [
    "x = [1, 2, 3]\n",
    "y = x\n",
    "\n",
    "x.append(4)\n",
    "\n",
    "print(x)  \n",
    "print(y)  "
   ]
  },
  {
   "cell_type": "markdown",
   "id": "42778b98",
   "metadata": {},
   "source": [
    "The concept of reference is important to understand in Python. Variables are references to objects rather than containers that hold values.\n",
    "\n",
    "By understanding that everything is an object and that assignment does not duplicate objects, you can work effectively with data in Python. This knowledge is particularly useful when dealing with mutable objects like lists, dictionaries, or custom classes."
   ]
  },
  {
   "cell_type": "markdown",
   "id": "b2ce4049",
   "metadata": {},
   "source": [
    "## Solved exercises"
   ]
  },
  {
   "cell_type": "markdown",
   "id": "c312531d",
   "metadata": {},
   "source": [
    "### Tips"
   ]
  },
  {
   "cell_type": "code",
   "execution_count": null,
   "id": "92eaa493",
   "metadata": {
    "scrolled": true
   },
   "outputs": [],
   "source": [
    "# In Python, to iterate over all values from 0 to n-1, you can use range(n).\n",
    "for idx in range(5):\n",
    "    print(idx)"
   ]
  },
  {
   "cell_type": "code",
   "execution_count": null,
   "id": "1026ac72",
   "metadata": {},
   "outputs": [],
   "source": [
    "# To check if an element is not present in a list, you can use **not in**.\n",
    "print('a' not in ['b', 'c', 'd'])"
   ]
  },
  {
   "cell_type": "code",
   "execution_count": null,
   "id": "cf66bac9",
   "metadata": {
    "scrolled": false
   },
   "outputs": [],
   "source": [
    "# To input data from the keyboard, you can use input().\n",
    "v = float(input(\"enter value\"))\n",
    "print(v)\n",
    "v2 = int(input(\"enter other value\"))\n",
    "print(v2)"
   ]
  },
  {
   "cell_type": "markdown",
   "id": "c0c08c8c",
   "metadata": {},
   "source": [
    "### Exercises"
   ]
  },
  {
   "cell_type": "markdown",
   "id": "c48359fb",
   "metadata": {},
   "source": [
    "1. Given the quantity of existing worlds, implement a \"Hello World\" program that greets each one of them. The worlds are named World 1, Worls 2, etc..."
   ]
  },
  {
   "cell_type": "code",
   "execution_count": null,
   "id": "619921fd",
   "metadata": {},
   "outputs": [],
   "source": [
    "worlds_count = 3\n",
    "for i in range(worlds_count):\n",
    "    print(\"Hello world\", i +1, \"!\")"
   ]
  },
  {
   "cell_type": "markdown",
   "id": "deb3de35",
   "metadata": {},
   "source": [
    "2. Enter the name of a person and greet them."
   ]
  },
  {
   "cell_type": "code",
   "execution_count": null,
   "id": "0eafc2a3",
   "metadata": {},
   "outputs": [],
   "source": [
    "name = input(\"Enter name:\")\n",
    "print(\"Hello \" + name + \"!\")"
   ]
  },
  {
   "cell_type": "markdown",
   "id": "6050266f",
   "metadata": {},
   "source": [
    "3. Please enter the amount of money for a person and the currency you want to convert. You should use variables to store the conversion rates."
   ]
  },
  {
   "cell_type": "code",
   "execution_count": null,
   "id": "5f0ad287",
   "metadata": {},
   "outputs": [],
   "source": [
    "rate_euro = 8.3\n",
    "rate_usd = 7.1\n",
    "rate_cup = 0.15\n",
    "\n",
    "rmb = float(input(\"Enter the amount in RMB\"))\n",
    "currency = input(\"Entre destination currency(eur,usd,cup):\")\n",
    "rate = 0\n",
    "if currency.lower() == 'eur':\n",
    "    rate = rate_euro\n",
    "elif currency.lower() == 'usd':\n",
    "    rate = rate_usd\n",
    "elif currency.lower() == 'cup':\n",
    "    rate = rate_cup\n",
    "if rate > 0:\n",
    "    converted = rmb / rate\n",
    "    print(\"Result is\", converted, currency)\n",
    "else:\n",
    "    print(\"Wrong currency:\", moneda)\n"
   ]
  },
  {
   "cell_type": "markdown",
   "id": "7a3ca349",
   "metadata": {},
   "source": [
    "4. Enter two integer numbers and print their quotient and remainder of the division.\n",
    "Always divide the larger number by the smaller one."
   ]
  },
  {
   "cell_type": "code",
   "execution_count": null,
   "id": "56d3770f",
   "metadata": {},
   "outputs": [],
   "source": [
    "n = int(input(\"Enter the first number: \"))\n",
    "m = int(input(\"Enter the second number: \"))\n",
    "if m > n:\n",
    "    m, n = n, m\n",
    "r = n % m\n",
    "c = n // m\n",
    "print(\"quotient =\", c, \", remainder =\", r)\n"
   ]
  },
  {
   "cell_type": "markdown",
   "id": "3fe52bb3",
   "metadata": {},
   "source": [
    "5. Enter the maximum current demand and the set of energy contributions  (ends with a negative value).\n",
    "If the demand is greater than the total contribution, print 'Blackout!'.\n",
    "In all cases, print the generation shortfall or excess."
   ]
  },
  {
   "cell_type": "code",
   "execution_count": null,
   "id": "e01a5617",
   "metadata": {},
   "outputs": [],
   "source": [
    "demand = float(input(\"Enter maximum demand: \"))\n",
    "contribution = 0\n",
    "total_contribution = 0\n",
    "\n",
    "while contribution >= 0:\n",
    "    contribution = float(input(\"Enter contribution (negative to finish): \"))\n",
    "    if contribution > 0:\n",
    "        total_contribution += contribution\n",
    "\n",
    "if total_contribution < demand:\n",
    "    print(\"Blackout! Shortfall:\", demand - total_contribution)\n",
    "elif demand < total_contribution:\n",
    "    print(\"Excess:\", total_contribution - demand)\n",
    "else:\n",
    "    print(\"Contribution equal to demand.\")\n"
   ]
  },
  {
   "cell_type": "markdown",
   "id": "d07706db",
   "metadata": {},
   "source": [
    "### Sequences"
   ]
  },
  {
   "cell_type": "markdown",
   "id": "050504d4",
   "metadata": {},
   "source": [
    "6. Create a list of tuples, where each tuple contains the data of a person: name, age, gender. Initialize the list with data of 3 people."
   ]
  },
  {
   "cell_type": "code",
   "execution_count": 24,
   "id": "28c8728b",
   "metadata": {},
   "outputs": [
    {
     "data": {
      "text/plain": [
       "[('Peter', 12, 'M'), ('Jane', 23, 'F'), ('Joseph', 16, 'M')]"
      ]
     },
     "execution_count": 24,
     "metadata": {},
     "output_type": "execute_result"
    }
   ],
   "source": [
    "persons = [(\"Peter\", 12, \"M\"), \n",
    "           (\"Jane\", 23, \"F\"), \n",
    "           (\"Joseph\", 16, \"M\")]\n",
    "persons\n"
   ]
  },
  {
   "cell_type": "markdown",
   "id": "f10f936d",
   "metadata": {},
   "source": [
    "6.a) Print the data of the last person"
   ]
  },
  {
   "cell_type": "code",
   "execution_count": 25,
   "id": "acdd43b5",
   "metadata": {},
   "outputs": [
    {
     "data": {
      "text/plain": [
       "('Joseph', 16, 'M')"
      ]
     },
     "execution_count": 25,
     "metadata": {},
     "output_type": "execute_result"
    }
   ],
   "source": [
    "persons[-1]"
   ]
  },
  {
   "cell_type": "markdown",
   "id": "94206a56",
   "metadata": {},
   "source": [
    "6.b) Print the name of the second person"
   ]
  },
  {
   "cell_type": "code",
   "execution_count": 26,
   "id": "3722b121",
   "metadata": {
    "scrolled": true
   },
   "outputs": [
    {
     "name": "stdout",
     "output_type": "stream",
     "text": [
      "Jane\n"
     ]
    }
   ],
   "source": [
    "print(persons[1][0])"
   ]
  },
  {
   "cell_type": "markdown",
   "id": "83ecaf72",
   "metadata": {},
   "source": [
    "6.c) Print the data of a person given their name (input from the keyboard)"
   ]
  },
  {
   "cell_type": "code",
   "execution_count": 30,
   "id": "0895aad0",
   "metadata": {},
   "outputs": [
    {
     "name": "stdout",
     "output_type": "stream",
     "text": [
      "0\n",
      "1\n",
      "2\n",
      "3\n",
      "4\n",
      "5\n",
      "6\n",
      "7\n",
      "8\n",
      "9\n"
     ]
    }
   ],
   "source": [
    "for i in range(10):\n",
    "    print(i)"
   ]
  },
  {
   "cell_type": "code",
   "execution_count": 32,
   "id": "bc01b503",
   "metadata": {},
   "outputs": [
    {
     "data": {
      "text/plain": [
       "[('Peter', 12, 'M'), ('Jane', 23, 'F'), ('Joseph', 16, 'M')]"
      ]
     },
     "execution_count": 32,
     "metadata": {},
     "output_type": "execute_result"
    }
   ],
   "source": [
    "persons"
   ]
  },
  {
   "cell_type": "code",
   "execution_count": 28,
   "id": "84e2f608",
   "metadata": {},
   "outputs": [
    {
     "name": "stdout",
     "output_type": "stream",
     "text": [
      "Name: vasdgasf\n"
     ]
    }
   ],
   "source": [
    "name = input(\"Name: \")\n",
    "for idx in range(len(persons)):\n",
    "    if persons[idx][0] == name:\n",
    "        print(persons[idx])\n"
   ]
  },
  {
   "cell_type": "code",
   "execution_count": 33,
   "id": "c3aa12bf",
   "metadata": {},
   "outputs": [
    {
     "name": "stdout",
     "output_type": "stream",
     "text": [
      "Name: Peter\n",
      "('Peter', 12, 'M')\n"
     ]
    }
   ],
   "source": [
    "name = input(\"Name: \")\n",
    "for person in persons:\n",
    "    if person[0] == name:\n",
    "        print(person)\n",
    "    "
   ]
  },
  {
   "cell_type": "markdown",
   "id": "3fc3a6d5",
   "metadata": {},
   "source": [
    "7. From the following list:"
   ]
  },
  {
   "cell_type": "code",
   "execution_count": 35,
   "id": "87b6c58a",
   "metadata": {},
   "outputs": [],
   "source": [
    "l = [3, 5, 6, 2, 4, 6, 7, 9, 12, 2, 3, 5]"
   ]
  },
  {
   "cell_type": "code",
   "execution_count": 36,
   "id": "beb49401",
   "metadata": {},
   "outputs": [
    {
     "name": "stdout",
     "output_type": "stream",
     "text": [
      "3\n",
      "5\n",
      "7\n",
      "9\n",
      "3\n",
      "5\n"
     ]
    }
   ],
   "source": [
    "for n in l:\n",
    "    if n % 2 == 1:\n",
    "        print(n)"
   ]
  },
  {
   "cell_type": "markdown",
   "id": "267a63a3",
   "metadata": {},
   "source": [
    "a) Print the odd numbers:"
   ]
  },
  {
   "cell_type": "code",
   "execution_count": null,
   "id": "2d3262cd",
   "metadata": {},
   "outputs": [],
   "source": [
    "l = [3, 5, 6, 2, 4, 6, 7, 9, 12, 2, 3, 5]\n",
    "for v in l:\n",
    "    if v % 2 == 0:\n",
    "        print(v)"
   ]
  },
  {
   "cell_type": "markdown",
   "id": "9134c946",
   "metadata": {},
   "source": [
    "b) Count odd numbers"
   ]
  },
  {
   "cell_type": "code",
   "execution_count": null,
   "id": "a8faad19",
   "metadata": {},
   "outputs": [],
   "source": [
    "c = 0\n",
    "for v in l:\n",
    "    if v%2 == 1:\n",
    "        c += 1\n",
    "print(c)"
   ]
  },
  {
   "cell_type": "markdown",
   "id": "1167a424",
   "metadata": {},
   "source": [
    "c) Add all the numbers"
   ]
  },
  {
   "cell_type": "code",
   "execution_count": 44,
   "id": "03c63868",
   "metadata": {},
   "outputs": [
    {
     "name": "stdout",
     "output_type": "stream",
     "text": [
      "512\n"
     ]
    }
   ],
   "source": [
    "# s = 0\n",
    "for v in l:\n",
    "    s = s + v\n",
    "print(s)"
   ]
  },
  {
   "cell_type": "markdown",
   "id": "d8803d14",
   "metadata": {},
   "source": [
    "8. From the following list:"
   ]
  },
  {
   "cell_type": "code",
   "execution_count": null,
   "id": "4663acac",
   "metadata": {},
   "outputs": [],
   "source": [
    "m = [2, 3, -5, 3, 4, -2, -7, 4, 7]"
   ]
  },
  {
   "cell_type": "markdown",
   "id": "00b10416",
   "metadata": {},
   "source": [
    "a) Determine if the sum (of absolute values) of positive numbers is greater than negative numbers. Use two variables to store the sums."
   ]
  },
  {
   "cell_type": "code",
   "execution_count": null,
   "id": "a492461b",
   "metadata": {},
   "outputs": [],
   "source": [
    "sum_pos, sum_neg = 0, 0\n",
    "for v in m:\n",
    "    if v > 0:\n",
    "        sum_pos += v\n",
    "    else:\n",
    "        sum_neg += abs(v)\n",
    "print(sum_pos > sum_neg)\n"
   ]
  },
  {
   "cell_type": "markdown",
   "id": "aee7f611",
   "metadata": {},
   "source": [
    "b) Create a new list with positive numbers"
   ]
  },
  {
   "cell_type": "code",
   "execution_count": null,
   "id": "99082587",
   "metadata": {},
   "outputs": [],
   "source": [
    "l_pos = []\n",
    "for v in m:\n",
    "    if v > 0:\n",
    "        l_pos.append(v)\n",
    "print(l_pos)"
   ]
  },
  {
   "cell_type": "markdown",
   "id": "df18d511",
   "metadata": {},
   "source": [
    "9. Given the following list"
   ]
  },
  {
   "cell_type": "code",
   "execution_count": 45,
   "id": "8d7172f4",
   "metadata": {},
   "outputs": [],
   "source": [
    "n = [3, 5, -9, 7, 5, 7, 8, -10, -1, 9, -6, -5, 0, 1, -6, -7, -8, -6, 9, -4]"
   ]
  },
  {
   "cell_type": "markdown",
   "id": "1958f857",
   "metadata": {},
   "source": [
    "a) Extract a list with the first 5 values"
   ]
  },
  {
   "cell_type": "code",
   "execution_count": 46,
   "id": "f5e70e08",
   "metadata": {},
   "outputs": [
    {
     "name": "stdout",
     "output_type": "stream",
     "text": [
      "[3, 5, -9, 7, 5]\n"
     ]
    }
   ],
   "source": [
    "print(n[:5])"
   ]
  },
  {
   "cell_type": "markdown",
   "id": "eb935ae7",
   "metadata": {},
   "source": [
    "b) Extract a list with the last 5 values"
   ]
  },
  {
   "cell_type": "code",
   "execution_count": 47,
   "id": "355023ff",
   "metadata": {},
   "outputs": [
    {
     "name": "stdout",
     "output_type": "stream",
     "text": [
      "[-7, -8, -6, 9, -4]\n"
     ]
    }
   ],
   "source": [
    "print(n[-5:])"
   ]
  },
  {
   "cell_type": "markdown",
   "id": "48553639",
   "metadata": {},
   "source": [
    "c) Extract a list with 5 intermediate values"
   ]
  },
  {
   "cell_type": "code",
   "execution_count": 48,
   "id": "3e936096",
   "metadata": {},
   "outputs": [
    {
     "name": "stdout",
     "output_type": "stream",
     "text": [
      "[-1, 9, -6, -5, 0]\n"
     ]
    }
   ],
   "source": [
    "print(n[len(n)//2-2:len(n)//2+3])"
   ]
  },
  {
   "cell_type": "code",
   "execution_count": 50,
   "id": "1ae38702",
   "metadata": {},
   "outputs": [
    {
     "data": {
      "text/plain": [
       "[3, -9, 5, 8, -1, -6, 0, -6, -8, 9]"
      ]
     },
     "execution_count": 50,
     "metadata": {},
     "output_type": "execute_result"
    }
   ],
   "source": [
    "result = []\n",
    "for i in range(len(n)):\n",
    "    if i % 2 == 1:\n",
    "        result.append(n[i])\n",
    "result"
   ]
  },
  {
   "cell_type": "markdown",
   "id": "5dcf1154",
   "metadata": {},
   "source": [
    "d) Extract a list with the values at even positions"
   ]
  },
  {
   "cell_type": "code",
   "execution_count": 52,
   "id": "2c2e2b83",
   "metadata": {},
   "outputs": [
    {
     "data": {
      "text/plain": [
       "[5, 7, 7, -10, 9, -5, 1, -7, -6, -4]"
      ]
     },
     "execution_count": 52,
     "metadata": {},
     "output_type": "execute_result"
    }
   ],
   "source": [
    "n[1::2]"
   ]
  },
  {
   "cell_type": "markdown",
   "id": "20da43ac",
   "metadata": {},
   "source": [
    "e) Calculate the difference between the first half and second half of the values"
   ]
  },
  {
   "cell_type": "code",
   "execution_count": null,
   "id": "a5749b6e",
   "metadata": {},
   "outputs": [],
   "source": [
    "print(sum(n[:len(n)//2]) - sum(n[len(n)//2:]))"
   ]
  },
  {
   "cell_type": "markdown",
   "id": "591ef360",
   "metadata": {},
   "source": [
    "10. Given the following list with integer values"
   ]
  },
  {
   "cell_type": "code",
   "execution_count": 53,
   "id": "7f871c70",
   "metadata": {},
   "outputs": [],
   "source": [
    "l = [19, 5, 6, 16, 1, 2, 16, 7, 2, 4]"
   ]
  },
  {
   "cell_type": "markdown",
   "id": "57eab3cb",
   "metadata": {},
   "source": [
    "a) Create a new list with dupplicated values"
   ]
  },
  {
   "cell_type": "code",
   "execution_count": 54,
   "id": "552cf758",
   "metadata": {},
   "outputs": [
    {
     "data": {
      "text/plain": [
       "[19, 5, 6, 16, 1, 2, 7, 4]"
      ]
     },
     "execution_count": 54,
     "metadata": {},
     "output_type": "execute_result"
    }
   ],
   "source": [
    "l2 = []\n",
    "for idx in range(len(l)):\n",
    "    v = l[idx]\n",
    "    if v not in l2:\n",
    "        l2.append(v)  \n",
    "l2"
   ]
  },
  {
   "cell_type": "code",
   "execution_count": 56,
   "id": "6760fe1e",
   "metadata": {},
   "outputs": [
    {
     "data": {
      "text/plain": [
       "[1, 2, 4, 5, 6, 7, 16, 19]"
      ]
     },
     "execution_count": 56,
     "metadata": {},
     "output_type": "execute_result"
    }
   ],
   "source": [
    "list(set(l))"
   ]
  },
  {
   "cell_type": "markdown",
   "id": "73ac4756",
   "metadata": {},
   "source": [
    "b) Create a new list with the values between 0 and 20 that does not appear in the list."
   ]
  },
  {
   "cell_type": "code",
   "execution_count": 57,
   "id": "82bc6d94",
   "metadata": {},
   "outputs": [
    {
     "data": {
      "text/plain": [
       "[0, 3, 8, 9, 10, 11, 12, 13, 14, 15, 17, 18, 20]"
      ]
     },
     "execution_count": 57,
     "metadata": {},
     "output_type": "execute_result"
    }
   ],
   "source": [
    "l2 = []\n",
    "for idx in range(21):\n",
    "    if idx not in l:\n",
    "        l2.append(idx)\n",
    "l2"
   ]
  },
  {
   "cell_type": "markdown",
   "id": "30d1029d",
   "metadata": {},
   "source": [
    "11. Given the following string"
   ]
  },
  {
   "cell_type": "code",
   "execution_count": 58,
   "id": "e463b6d8",
   "metadata": {},
   "outputs": [],
   "source": [
    "cad = \"Once upon a midnight dreary, while I pondered, weak and weary\""
   ]
  },
  {
   "cell_type": "markdown",
   "id": "a75ec204",
   "metadata": {},
   "source": [
    "a) Extract the first word"
   ]
  },
  {
   "cell_type": "code",
   "execution_count": 59,
   "id": "4a931b05",
   "metadata": {},
   "outputs": [
    {
     "data": {
      "text/plain": [
       "'Once'"
      ]
     },
     "execution_count": 59,
     "metadata": {},
     "output_type": "execute_result"
    }
   ],
   "source": [
    "cad[:cad.index(' ')]"
   ]
  },
  {
   "cell_type": "markdown",
   "id": "b819e322",
   "metadata": {},
   "source": [
    "b) Extract the last word (harder)"
   ]
  },
  {
   "cell_type": "code",
   "execution_count": null,
   "id": "a5f75987",
   "metadata": {},
   "outputs": [],
   "source": [
    "last_pos = len(cad) - cad[::-1].index(' ')\n",
    "cad[last_pos:]"
   ]
  },
  {
   "cell_type": "markdown",
   "id": "02b012d7",
   "metadata": {},
   "source": [
    "c) Extract a list with the words"
   ]
  },
  {
   "cell_type": "code",
   "execution_count": null,
   "id": "880a26ff",
   "metadata": {},
   "outputs": [],
   "source": [
    "result = []\n",
    "c = \"Once upon a midnight dreary, while I pondered, weak and weary\"\n",
    "while len(c) > 0:\n",
    "    if ' ' in c:\n",
    "        idx = c.index(' ')\n",
    "        if idx == 0:\n",
    "            c = c[1:]\n",
    "        else:\n",
    "            word = c[:idx]\n",
    "            result.append(word)\n",
    "            c = c[idx:]\n",
    "    else:\n",
    "        if c != '':\n",
    "            result.append(c)\n",
    "            c = \"\"\n",
    "print(result)"
   ]
  },
  {
   "cell_type": "markdown",
   "id": "58530d95",
   "metadata": {},
   "source": [
    "There is a simpler version if we know the proper method"
   ]
  },
  {
   "cell_type": "code",
   "execution_count": null,
   "id": "bc9610f9",
   "metadata": {
    "scrolled": true
   },
   "outputs": [],
   "source": [
    "c = \"Once upon a midnight dreary, while I pondered, weak and weary\"\n",
    "print(c.split(\" \"))"
   ]
  },
  {
   "cell_type": "code",
   "execution_count": null,
   "id": "d1a46011",
   "metadata": {},
   "outputs": [],
   "source": []
  }
 ],
 "metadata": {
  "kernelspec": {
   "display_name": "python_lectures",
   "language": "python",
   "name": "python_lectures"
  },
  "language_info": {
   "codemirror_mode": {
    "name": "ipython",
    "version": 3
   },
   "file_extension": ".py",
   "mimetype": "text/x-python",
   "name": "python",
   "nbconvert_exporter": "python",
   "pygments_lexer": "ipython3",
   "version": "3.8.16"
  }
 },
 "nbformat": 4,
 "nbformat_minor": 5
}
