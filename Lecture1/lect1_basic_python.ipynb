{
 "cells": [
  {
   "cell_type": "markdown",
   "id": "9911371c",
   "metadata": {},
   "source": [
    "# Lecture 1. Basic Python\n",
    "\n",
    "Outline:\n",
    "- [Basic Language Skills](basic_lang_skills.ipynb) \n",
    "- [Sequence types](sequence_types.ipynb)\n",
    "- [Dictionaries and Sets](dicts_and_sets.ipynb)\n",
    "- [Functions](functions.ipynb)\n",
    "- [Program flow control](prog_flow_control.ipynb)"
   ]
  },
  {
   "cell_type": "code",
   "execution_count": 1,
   "id": "9298e301",
   "metadata": {},
   "outputs": [
    {
     "data": {
      "text/plain": [
       "[0, 1, 4, 9, 16, 25, 36, 49, 64, 81]"
      ]
     },
     "execution_count": 1,
     "metadata": {},
     "output_type": "execute_result"
    }
   ],
   "source": [
    "[x **2 for x in range(10)]"
   ]
  },
  {
   "cell_type": "code",
   "execution_count": 2,
   "id": "c7d61cf5",
   "metadata": {},
   "outputs": [
    {
     "data": {
      "text/plain": [
       "[7, 9, 11, 13, 15]"
      ]
     },
     "execution_count": 2,
     "metadata": {},
     "output_type": "execute_result"
    }
   ],
   "source": [
    "l1 = [2, 3, 4, 5, 6]\n",
    "l2 = [5, 6, 7, 8, 9]\n",
    "[v1 + v2 for v1, v2 in zip(l1, l2)]"
   ]
  }
 ],
 "metadata": {
  "kernelspec": {
   "display_name": "python_lectures",
   "language": "python",
   "name": "python_lectures"
  },
  "language_info": {
   "codemirror_mode": {
    "name": "ipython",
    "version": 3
   },
   "file_extension": ".py",
   "mimetype": "text/x-python",
   "name": "python",
   "nbconvert_exporter": "python",
   "pygments_lexer": "ipython3",
   "version": "3.8.16"
  }
 },
 "nbformat": 4,
 "nbformat_minor": 5
}
