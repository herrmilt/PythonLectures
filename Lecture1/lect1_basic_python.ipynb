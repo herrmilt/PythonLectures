{
 "cells": [
  {
   "cell_type": "markdown",
   "id": "9911371c",
   "metadata": {},
   "source": [
    "# Lecture 1. Basic Python\n",
    "\n",
    "Outline:\n",
    "- [Basic Language Skills](basic_lang_skills.ipynb) \n",
    "- [Sequence types](sequence_types.ipynb)\n",
    "- [Dictionaries and Sets](dicts_and_sets.ipynb)\n",
    "- [Functions](functions.ipynb)\n",
    "- [Program flow control](prog_flow_control.ipynb)"
   ]
  }
 ],
 "metadata": {
  "kernelspec": {
   "display_name": "python_lectures",
   "language": "python",
   "name": "python_lectures"
  },
  "language_info": {
   "codemirror_mode": {
    "name": "ipython",
    "version": 3
   },
   "file_extension": ".py",
   "mimetype": "text/x-python",
   "name": "python",
   "nbconvert_exporter": "python",
   "pygments_lexer": "ipython3",
   "version": "3.8.16"
  }
 },
 "nbformat": 4,
 "nbformat_minor": 5
}
