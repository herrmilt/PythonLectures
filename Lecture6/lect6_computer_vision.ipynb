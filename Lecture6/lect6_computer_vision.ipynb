{
 "cells": [
  {
   "cell_type": "markdown",
   "id": "9911371c",
   "metadata": {},
   "source": [
    "## Lecture 6. Artificial Neural Networks (ANN)\n",
    "\n",
    "Outline:\n",
    "- \n",
    "- Training ANN with Backpropagation algorithm\n",
    "    - Gradient Descent\n",
    "    - Searching a single parameter\n",
    "    - Searching for multiple parameters\n",
    "- [Simple surfaces fitting](simpl_nn.ipynb)\n",
    "- ANN with multiple inputs and outputs\n",
    "- [ANN on real examples](ann_real.ipynb)\n"
   ]
  }
 ],
 "metadata": {
  "kernelspec": {
   "display_name": "python_lectures",
   "language": "python",
   "name": "python_lectures"
  },
  "language_info": {
   "codemirror_mode": {
    "name": "ipython",
    "version": 3
   },
   "file_extension": ".py",
   "mimetype": "text/x-python",
   "name": "python",
   "nbconvert_exporter": "python",
   "pygments_lexer": "ipython3",
   "version": "3.8.16"
  }
 },
 "nbformat": 4,
 "nbformat_minor": 5
}
