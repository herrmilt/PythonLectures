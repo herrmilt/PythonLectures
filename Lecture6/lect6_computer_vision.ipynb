{
 "cells": [
  {
   "cell_type": "markdown",
   "id": "9911371c",
   "metadata": {},
   "source": [
    "## Lecture 6. Computer Vision\n",
    "\n",
    "Outline:\n",
    "- [Solving vision problems without modern CV tools](solving_vision.ipynb)\n",
    "- [OpenCV](opencv.ipynb)\n",
    "- [Convolutional Neural Networks](cnn.ipynb)\n"
   ]
  }
 ],
 "metadata": {
  "kernelspec": {
   "display_name": "python_lectures",
   "language": "python",
   "name": "python_lectures"
  },
  "language_info": {
   "codemirror_mode": {
    "name": "ipython",
    "version": 3
   },
   "file_extension": ".py",
   "mimetype": "text/x-python",
   "name": "python",
   "nbconvert_exporter": "python",
   "pygments_lexer": "ipython3",
   "version": "3.8.16"
  }
 },
 "nbformat": 4,
 "nbformat_minor": 5
}
