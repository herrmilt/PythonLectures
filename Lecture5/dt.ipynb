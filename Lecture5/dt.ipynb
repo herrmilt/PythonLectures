{
 "cells": [
  {
   "cell_type": "markdown",
   "id": "f6941d6d",
   "metadata": {},
   "source": [
    "# Decision Tree Classifiers\n",
    "\n",
    "## Introduction\n",
    "\n",
    "In presentation... \n",
    "\n",
    "## Decision trees with ScikitLearn\n",
    "\n",
    "Lets create a decision tree using the popular Iris dataset."
   ]
  },
  {
   "cell_type": "code",
   "execution_count": 11,
   "id": "42fa6720",
   "metadata": {},
   "outputs": [],
   "source": [
    "from sklearn.datasets import load_iris\n",
    "from sklearn.tree import DecisionTreeClassifier, export_text\n",
    "from sklearn.model_selection import train_test_split\n",
    "from sklearn import metrics\n",
    "\n",
    "# Cargar los datos de la base de datos Iris\n",
    "iris = load_iris()\n",
    "X = iris.data\n",
    "y = iris.target\n",
    "\n",
    "# Dividir los datos en un conjunto de entrenamiento y un conjunto de prueba\n",
    "X_train, X_test, y_train, y_test = train_test_split(X, y, test_size=0.3, random_state=1)\n",
    "\n",
    "# Crear el modelo del árbol de decisión\n",
    "clf = DecisionTreeClassifier()\n",
    "\n",
    "# Entrenar el modelo\n",
    "clf = clf.fit(X_train, y_train)"
   ]
  },
  {
   "cell_type": "markdown",
   "id": "90977bef",
   "metadata": {},
   "source": [
    "Now, lets show the obtained tree"
   ]
  },
  {
   "cell_type": "code",
   "execution_count": 13,
   "id": "05492c8b",
   "metadata": {},
   "outputs": [
    {
     "name": "stdout",
     "output_type": "stream",
     "text": [
      "['setosa' 'versicolor' 'virginica']\n",
      "|--- petal length (cm) <= 2.60\n",
      "|   |--- class: 0\n",
      "|--- petal length (cm) >  2.60\n",
      "|   |--- petal width (cm) <= 1.65\n",
      "|   |   |--- petal length (cm) <= 5.00\n",
      "|   |   |   |--- class: 1\n",
      "|   |   |--- petal length (cm) >  5.00\n",
      "|   |   |   |--- sepal length (cm) <= 6.05\n",
      "|   |   |   |   |--- class: 1\n",
      "|   |   |   |--- sepal length (cm) >  6.05\n",
      "|   |   |   |   |--- class: 2\n",
      "|   |--- petal width (cm) >  1.65\n",
      "|   |   |--- petal length (cm) <= 4.85\n",
      "|   |   |   |--- sepal width (cm) <= 3.10\n",
      "|   |   |   |   |--- class: 2\n",
      "|   |   |   |--- sepal width (cm) >  3.10\n",
      "|   |   |   |   |--- class: 1\n",
      "|   |   |--- petal length (cm) >  4.85\n",
      "|   |   |   |--- class: 2\n",
      "\n"
     ]
    }
   ],
   "source": [
    "print(iris.target_names)\n",
    "tree_rules = export_text(clf, feature_names=iris.feature_names)\n",
    "print(tree_rules)"
   ]
  },
  {
   "cell_type": "markdown",
   "id": "4cf6fac8",
   "metadata": {},
   "source": [
    "And calculate its accuracy"
   ]
  },
  {
   "cell_type": "code",
   "execution_count": 3,
   "id": "1dd410d4",
   "metadata": {},
   "outputs": [
    {
     "name": "stdout",
     "output_type": "stream",
     "text": [
      "Precisión: 0.9555555555555556\n"
     ]
    }
   ],
   "source": [
    "# Predecir el conjunto de prueba\n",
    "y_pred = clf.predict(X_test)\n",
    "\n",
    "# Calcular la precisión del modelo\n",
    "accuracy = metrics.accuracy_score(y_test, y_pred)\n",
    "print(\"Accuracy:\", accuracy)"
   ]
  },
  {
   "cell_type": "markdown",
   "id": "ea1ad585",
   "metadata": {},
   "source": [
    "### Limiting the minimum number of elements in leaf"
   ]
  },
  {
   "cell_type": "code",
   "execution_count": 15,
   "id": "092dc308",
   "metadata": {
    "scrolled": false
   },
   "outputs": [
    {
     "name": "stdout",
     "output_type": "stream",
     "text": [
      "|--- petal length (cm) <= 2.60\n",
      "|   |--- class: 0\n",
      "|--- petal length (cm) >  2.60\n",
      "|   |--- petal width (cm) <= 1.65\n",
      "|   |   |--- petal length (cm) <= 4.85\n",
      "|   |   |   |--- class: 1\n",
      "|   |   |--- petal length (cm) >  4.85\n",
      "|   |   |   |--- class: 1\n",
      "|   |--- petal width (cm) >  1.65\n",
      "|   |   |--- sepal length (cm) <= 5.95\n",
      "|   |   |   |--- class: 2\n",
      "|   |   |--- sepal length (cm) >  5.95\n",
      "|   |   |   |--- class: 2\n",
      "\n"
     ]
    }
   ],
   "source": [
    "# Crear el modelo del árbol de decisión\n",
    "clf = DecisionTreeClassifier(min_samples_leaf=5)\n",
    "\n",
    "# Entrenar el modelo\n",
    "clf = clf.fit(X_train, y_train)\n",
    "\n",
    "tree_rules = export_text(clf, feature_names=iris.feature_names)\n",
    "print(tree_rules)"
   ]
  },
  {
   "cell_type": "code",
   "execution_count": 16,
   "id": "92c01aed",
   "metadata": {
    "scrolled": true
   },
   "outputs": [
    {
     "name": "stdout",
     "output_type": "stream",
     "text": [
      "Accuracy: 0.9555555555555556\n"
     ]
    }
   ],
   "source": [
    "# Predecir el conjunto de prueba\n",
    "y_pred = clf.predict(X_test)\n",
    "\n",
    "# Calcular la precisión del modelo\n",
    "accuracy = metrics.accuracy_score(y_test, y_pred)\n",
    "print(\"Accuracy:\", accuracy)"
   ]
  },
  {
   "cell_type": "markdown",
   "id": "87c74fa8",
   "metadata": {},
   "source": [
    "This tree is simpler, but as accurate as the original one:\n",
    "- The removed branches constains information particular to the training set"
   ]
  },
  {
   "cell_type": "markdown",
   "id": "f04bd681",
   "metadata": {},
   "source": [
    "### Limiting the tree height"
   ]
  },
  {
   "cell_type": "code",
   "execution_count": 29,
   "id": "a1386052",
   "metadata": {
    "scrolled": false
   },
   "outputs": [
    {
     "name": "stdout",
     "output_type": "stream",
     "text": [
      "|--- petal width (cm) <= 0.80\n",
      "|   |--- class: 0\n",
      "|--- petal width (cm) >  0.80\n",
      "|   |--- petal width (cm) <= 1.65\n",
      "|   |   |--- class: 1\n",
      "|   |--- petal width (cm) >  1.65\n",
      "|   |   |--- class: 2\n",
      "\n"
     ]
    }
   ],
   "source": [
    "# Crear el modelo del árbol de decisión\n",
    "clf = DecisionTreeClassifier(max_depth=2)\n",
    "\n",
    "# Entrenar el modelo\n",
    "clf = clf.fit(X_train, y_train)\n",
    "\n",
    "tree_rules = export_text(clf, feature_names=iris.feature_names)\n",
    "print(tree_rules)"
   ]
  },
  {
   "cell_type": "code",
   "execution_count": 30,
   "id": "0cba96b4",
   "metadata": {
    "scrolled": true
   },
   "outputs": [
    {
     "name": "stdout",
     "output_type": "stream",
     "text": [
      "Accuracy: 0.9555555555555556\n"
     ]
    }
   ],
   "source": [
    "# Predecir el conjunto de prueba\n",
    "y_pred = clf.predict(X_test)\n",
    "\n",
    "# Calcular la precisión del modelo\n",
    "accuracy = metrics.accuracy_score(y_test, y_pred)\n",
    "print(\"Accuracy:\", accuracy)"
   ]
  },
  {
   "cell_type": "markdown",
   "id": "fbd4e70d",
   "metadata": {},
   "source": [
    "The tree is more simple, and it is as accurate as before. It has limits ..."
   ]
  },
  {
   "cell_type": "code",
   "execution_count": 32,
   "id": "258223c0",
   "metadata": {
    "scrolled": true
   },
   "outputs": [
    {
     "name": "stdout",
     "output_type": "stream",
     "text": [
      "|--- petal length (cm) <= 2.60\n",
      "|   |--- class: 0\n",
      "|--- petal length (cm) >  2.60\n",
      "|   |--- class: 2\n",
      "\n"
     ]
    }
   ],
   "source": [
    "# Crear el modelo del árbol de decisión\n",
    "clf = DecisionTreeClassifier(max_depth=1)\n",
    "\n",
    "# Entrenar el modelo\n",
    "clf = clf.fit(X_train, y_train)\n",
    "\n",
    "tree_rules = export_text(clf, feature_names=iris.feature_names)\n",
    "print(tree_rules)"
   ]
  },
  {
   "cell_type": "code",
   "execution_count": 34,
   "id": "09073210",
   "metadata": {
    "scrolled": true
   },
   "outputs": [
    {
     "name": "stdout",
     "output_type": "stream",
     "text": [
      "Accuracy: 0.6\n"
     ]
    }
   ],
   "source": [
    "# Predecir el conjunto de prueba\n",
    "y_pred = clf.predict(X_test)\n",
    "\n",
    "# Calcular la precisión del modelo\n",
    "accuracy = metrics.accuracy_score(y_test, y_pred)\n",
    "print(\"Accuracy:\", accuracy)"
   ]
  },
  {
   "cell_type": "code",
   "execution_count": 35,
   "id": "f1b8293d",
   "metadata": {},
   "outputs": [
    {
     "name": "stdout",
     "output_type": "stream",
     "text": [
      "Accuracy on Training: 0.6952380952380952\n"
     ]
    }
   ],
   "source": [
    "y_pred = clf.predict(X_train)\n",
    "accuracy = metrics.accuracy_score(y_train, y_pred)\n",
    "print(\"Accuracy on Training:\", accuracy)"
   ]
  },
  {
   "cell_type": "markdown",
   "id": "32338636",
   "metadata": {},
   "source": [
    "Now, we have a clear example of **underfitting**"
   ]
  }
 ],
 "metadata": {
  "kernelspec": {
   "display_name": "Python [conda env:python_lectures]",
   "language": "python",
   "name": "conda-env-python_lectures-py"
  },
  "language_info": {
   "codemirror_mode": {
    "name": "ipython",
    "version": 3
   },
   "file_extension": ".py",
   "mimetype": "text/x-python",
   "name": "python",
   "nbconvert_exporter": "python",
   "pygments_lexer": "ipython3",
   "version": "3.8.16"
  }
 },
 "nbformat": 4,
 "nbformat_minor": 5
}
