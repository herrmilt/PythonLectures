{
 "cells": [
  {
   "cell_type": "markdown",
   "id": "9911371c",
   "metadata": {},
   "source": [
    "## Lecture 5. Supervised Classification Models\n",
    "\n",
    "Outline:\n",
    "- [Linear Classifiers](lin_classif.ipynb)\n",
    "- Nearest Neighbors:\n",
    "    - [Principal Components Analysis](pca.ipynb)\n",
    "    - [The Nearest Neighbor Classifier](knn.ipynb)\n",
    "- [Decision trees](dt.ipynb)\n",
    "- [Support vector machine](svm.ipynb)\n",
    "- [Neural Networks](nn.ipynb)\n"
   ]
  }
 ],
 "metadata": {
  "kernelspec": {
   "display_name": "python_lectures",
   "language": "python",
   "name": "python_lectures"
  },
  "language_info": {
   "codemirror_mode": {
    "name": "ipython",
    "version": 3
   },
   "file_extension": ".py",
   "mimetype": "text/x-python",
   "name": "python",
   "nbconvert_exporter": "python",
   "pygments_lexer": "ipython3",
   "version": "3.8.16"
  }
 },
 "nbformat": 4,
 "nbformat_minor": 5
}
