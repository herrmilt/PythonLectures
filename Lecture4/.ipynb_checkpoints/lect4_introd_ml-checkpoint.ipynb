{
 "cells": [
  {
   "cell_type": "markdown",
   "id": "9911371c",
   "metadata": {},
   "source": [
    "## Lecture 4. Introduction to Machine Learning\n",
    "\n",
    "Outline:\n",
    "- [Introduction](intro_ml.ipynb)\n",
    "- [Real life examples](real_examples_ml.ipynb)\n",
    "- [Model complexity](model_complexity.ipynb)\n",
    "- [Overtraining](overtraining.ipynb)"
   ]
  }
 ],
 "metadata": {
  "kernelspec": {
   "display_name": "python_lectures",
   "language": "python",
   "name": "python_lectures"
  },
  "language_info": {
   "codemirror_mode": {
    "name": "ipython",
    "version": 3
   },
   "file_extension": ".py",
   "mimetype": "text/x-python",
   "name": "python",
   "nbconvert_exporter": "python",
   "pygments_lexer": "ipython3",
   "version": "3.8.16"
  }
 },
 "nbformat": 4,
 "nbformat_minor": 5
}
