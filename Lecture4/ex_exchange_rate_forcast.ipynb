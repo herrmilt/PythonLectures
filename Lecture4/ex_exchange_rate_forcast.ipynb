{
 "cells": [
  {
   "cell_type": "markdown",
   "id": "e9c0d35b",
   "metadata": {},
   "source": [
    "# Exchange Rate Forcast Example"
   ]
  },
  {
   "cell_type": "code",
   "execution_count": 1,
   "id": "a35b545a",
   "metadata": {},
   "outputs": [],
   "source": [
    "import numpy as np # linear algebra\n",
    "import pandas as pd # data processing, CSV file I/O (e.g. pd.read_csv)\n",
    "import os"
   ]
  },
  {
   "cell_type": "markdown",
   "id": "1d92fb8e",
   "metadata": {},
   "source": [
    "## Load Data and Data Exploration"
   ]
  },
  {
   "cell_type": "code",
   "execution_count": 2,
   "id": "4acfbe28",
   "metadata": {},
   "outputs": [
    {
     "data": {
      "text/html": [
       "<div>\n",
       "<style scoped>\n",
       "    .dataframe tbody tr th:only-of-type {\n",
       "        vertical-align: middle;\n",
       "    }\n",
       "\n",
       "    .dataframe tbody tr th {\n",
       "        vertical-align: top;\n",
       "    }\n",
       "\n",
       "    .dataframe thead th {\n",
       "        text-align: right;\n",
       "    }\n",
       "</style>\n",
       "<table border=\"1\" class=\"dataframe\">\n",
       "  <thead>\n",
       "    <tr style=\"text-align: right;\">\n",
       "      <th></th>\n",
       "      <th>Country/Currency</th>\n",
       "      <th>currency</th>\n",
       "      <th>value</th>\n",
       "      <th>date</th>\n",
       "    </tr>\n",
       "  </thead>\n",
       "  <tbody>\n",
       "    <tr>\n",
       "      <th>0</th>\n",
       "      <td>Australia Dollar</td>\n",
       "      <td>AUD</td>\n",
       "      <td>1.581627</td>\n",
       "      <td>2021-12-17</td>\n",
       "    </tr>\n",
       "    <tr>\n",
       "      <th>1</th>\n",
       "      <td>Great Britain Pound</td>\n",
       "      <td>GBP</td>\n",
       "      <td>0.851619</td>\n",
       "      <td>2021-12-17</td>\n",
       "    </tr>\n",
       "    <tr>\n",
       "      <th>2</th>\n",
       "      <td>Euro</td>\n",
       "      <td>EUR</td>\n",
       "      <td>1.000000</td>\n",
       "      <td>2021-12-17</td>\n",
       "    </tr>\n",
       "    <tr>\n",
       "      <th>3</th>\n",
       "      <td>Japan Yen</td>\n",
       "      <td>JPY</td>\n",
       "      <td>128.301759</td>\n",
       "      <td>2021-12-17</td>\n",
       "    </tr>\n",
       "    <tr>\n",
       "      <th>4</th>\n",
       "      <td>Switzerland Franc</td>\n",
       "      <td>CHF</td>\n",
       "      <td>1.041015</td>\n",
       "      <td>2021-12-17</td>\n",
       "    </tr>\n",
       "  </tbody>\n",
       "</table>\n",
       "</div>"
      ],
      "text/plain": [
       "      Country/Currency currency       value       date\n",
       "0     Australia Dollar      AUD    1.581627 2021-12-17\n",
       "1  Great Britain Pound      GBP    0.851619 2021-12-17\n",
       "2                 Euro      EUR    1.000000 2021-12-17\n",
       "3            Japan Yen      JPY  128.301759 2021-12-17\n",
       "4    Switzerland Franc      CHF    1.041015 2021-12-17"
      ]
     },
     "execution_count": 2,
     "metadata": {},
     "output_type": "execute_result"
    }
   ],
   "source": [
    "data_file_name = \"data/exchange_rates.csv\"\n",
    "dataset = pd.read_csv(data_file_name, parse_dates=['date'], index_col = 0, dayfirst=True)\n",
    "dataset.head()"
   ]
  },
  {
   "cell_type": "code",
   "execution_count": 3,
   "id": "c495db00",
   "metadata": {},
   "outputs": [
    {
     "data": {
      "text/html": [
       "<div>\n",
       "<style scoped>\n",
       "    .dataframe tbody tr th:only-of-type {\n",
       "        vertical-align: middle;\n",
       "    }\n",
       "\n",
       "    .dataframe tbody tr th {\n",
       "        vertical-align: top;\n",
       "    }\n",
       "\n",
       "    .dataframe thead th {\n",
       "        text-align: right;\n",
       "    }\n",
       "</style>\n",
       "<table border=\"1\" class=\"dataframe\">\n",
       "  <thead>\n",
       "    <tr style=\"text-align: right;\">\n",
       "      <th></th>\n",
       "      <th>value</th>\n",
       "      <th>date</th>\n",
       "    </tr>\n",
       "  </thead>\n",
       "  <tbody>\n",
       "    <tr>\n",
       "      <th>count</th>\n",
       "      <td>84134.000000</td>\n",
       "      <td>84134</td>\n",
       "    </tr>\n",
       "    <tr>\n",
       "      <th>mean</th>\n",
       "      <td>1628.216055</td>\n",
       "      <td>2022-09-22 01:28:21.029310464</td>\n",
       "    </tr>\n",
       "    <tr>\n",
       "      <th>min</th>\n",
       "      <td>0.130975</td>\n",
       "      <td>2021-12-17 00:00:00</td>\n",
       "    </tr>\n",
       "    <tr>\n",
       "      <th>25%</th>\n",
       "      <td>3.947605</td>\n",
       "      <td>2022-05-05 00:00:00</td>\n",
       "    </tr>\n",
       "    <tr>\n",
       "      <th>50%</th>\n",
       "      <td>33.889082</td>\n",
       "      <td>2022-09-22 00:00:00</td>\n",
       "    </tr>\n",
       "    <tr>\n",
       "      <th>75%</th>\n",
       "      <td>396.322227</td>\n",
       "      <td>2023-02-09 00:00:00</td>\n",
       "    </tr>\n",
       "    <tr>\n",
       "      <th>max</th>\n",
       "      <td>51690.453353</td>\n",
       "      <td>2023-06-29 00:00:00</td>\n",
       "    </tr>\n",
       "    <tr>\n",
       "      <th>std</th>\n",
       "      <td>5434.401055</td>\n",
       "      <td>NaN</td>\n",
       "    </tr>\n",
       "  </tbody>\n",
       "</table>\n",
       "</div>"
      ],
      "text/plain": [
       "              value                           date\n",
       "count  84134.000000                          84134\n",
       "mean    1628.216055  2022-09-22 01:28:21.029310464\n",
       "min        0.130975            2021-12-17 00:00:00\n",
       "25%        3.947605            2022-05-05 00:00:00\n",
       "50%       33.889082            2022-09-22 00:00:00\n",
       "75%      396.322227            2023-02-09 00:00:00\n",
       "max    51690.453353            2023-06-29 00:00:00\n",
       "std     5434.401055                            NaN"
      ]
     },
     "execution_count": 3,
     "metadata": {},
     "output_type": "execute_result"
    }
   ],
   "source": [
    "# some insight about whole dataset\n",
    "dataset.describe()"
   ]
  },
  {
   "cell_type": "markdown",
   "id": "51b7af0f",
   "metadata": {},
   "source": [
    "Check if any null values present"
   ]
  },
  {
   "cell_type": "code",
   "execution_count": 4,
   "id": "0cb57ad3",
   "metadata": {
    "scrolled": true
   },
   "outputs": [
    {
     "data": {
      "text/plain": [
       "Country/Currency    0\n",
       "currency            0\n",
       "value               0\n",
       "date                0\n",
       "dtype: int64"
      ]
     },
     "execution_count": 4,
     "metadata": {},
     "output_type": "execute_result"
    }
   ],
   "source": [
    "dataset.isnull().sum()"
   ]
  },
  {
   "cell_type": "markdown",
   "id": "9c2cb2ce",
   "metadata": {},
   "source": [
    "Types of Currency data present"
   ]
  },
  {
   "cell_type": "code",
   "execution_count": 5,
   "id": "dc48df7c",
   "metadata": {},
   "outputs": [
    {
     "data": {
      "text/plain": [
       "array(['AUD', 'GBP', 'EUR', 'JPY', 'CHF', 'USD', 'AFN', 'ALL', 'DZD',\n",
       "       'AOA', 'ARS', 'AMD', 'AWG', 'AZN', 'BSD', 'BHD', 'BDT', 'BBD',\n",
       "       'BYR', 'BZD', 'BMD', 'BTN', 'BOB', 'BAM', 'BWP', 'BRL', 'BND',\n",
       "       'BGN', 'BIF', 'XOF', 'XAF', 'XPF', 'KHR', 'CAD', 'CVE', 'KYD',\n",
       "       'CLP', 'CNY', 'COP', 'KMF', 'CDF', 'CRC', 'HRK', 'CUC', 'CUP',\n",
       "       'CZK', 'DKK', 'DJF', 'DOP', 'XCD', 'EGP', 'SVC', 'ETB', 'FKP',\n",
       "       'FJD', 'GMD', 'GEL', 'GHS', 'GIP', 'GTQ', 'GNF', 'GYD', 'HTG',\n",
       "       'HNL', 'HKD', 'HUF', 'ISK', 'INR', 'IDR', 'IRR', 'IQD', 'ILS',\n",
       "       'JMD', 'JOD', 'KZT', 'KES', 'KWD', 'KGS', 'LAK', 'LBP', 'LSL',\n",
       "       'LRD', 'LYD', 'MOP', 'MKD', 'MGA', 'MWK', 'MYR', 'MVR', 'MRO',\n",
       "       'MUR', 'MXN', 'MDL', 'MNT', 'MAD', 'MZN', 'MMK', 'ANG', 'NAD',\n",
       "       'NPR', 'NZD', 'NIO', 'NGN', 'KPW', 'NOK', 'OMR', 'PKR', 'PAB',\n",
       "       'PGK', 'PYG', 'PEN', 'PHP', 'PLN', 'QAR', 'RON', 'RUB', 'RWF',\n",
       "       'WST', 'STD', 'SAR', 'RSD', 'SCR', 'SLL', 'SGD', 'SBD', 'SOS',\n",
       "       'ZAR', 'KRW', 'LKR', 'SHP', 'SDG', 'SRD', 'SZL', 'SEK', 'SYP',\n",
       "       'TWD', 'TZS', 'THB', 'TOP', 'TTD', 'TND', 'TRY', 'UGX', 'UAH',\n",
       "       'UYU', 'AED', 'VUV', 'VND', 'YER', 'ZMK'], dtype=object)"
      ]
     },
     "execution_count": 5,
     "metadata": {},
     "output_type": "execute_result"
    }
   ],
   "source": [
    "dataset['currency'].unique()"
   ]
  },
  {
   "cell_type": "code",
   "execution_count": 6,
   "id": "b22dd03f",
   "metadata": {},
   "outputs": [
    {
     "data": {
      "text/plain": [
       "array(['Australia Dollar', 'Great Britain Pound', 'Euro', 'Japan Yen',\n",
       "       'Switzerland Franc', 'USA Dollar', 'Afghanistan Afghani',\n",
       "       'Albania Lek', 'Algeria Dinar', 'Angola Kwanza', 'Argentina Peso',\n",
       "       'Armenia Dram', 'Aruba Florin', 'Azerbaijan New Manat',\n",
       "       'Bahamas Dollar', 'Bahrain Dinar', 'Bangladesh Taka',\n",
       "       'Barbados Dollar', 'Belarus Ruble', 'Belize Dollar',\n",
       "       'Bermuda Dollar', 'Bhutan Ngultrum', 'Bolivia Boliviano',\n",
       "       'Bosnia Mark', 'Botswana Pula', 'Brazil Real', 'Brunei Dollar',\n",
       "       'Bulgaria Lev', 'Burundi Franc', 'CFA Franc BCEAO',\n",
       "       'CFA Franc BEAC', 'CFP Franc', 'Cambodia Riel', 'Canada Dollar',\n",
       "       'Cape Verde Escudo', 'Cayman Islands Dollar', 'Chili Peso',\n",
       "       'China Yuan/Renminbi', 'Colombia Peso', 'Comoros Franc',\n",
       "       'Congo Franc', 'Costa Rica Colon', 'Croatia Kuna',\n",
       "       'Cuba Convertible Peso', 'Cuba Peso', 'Czech Koruna',\n",
       "       'Denmark Krone', 'Djibouti Franc', 'Dominican Republich Peso',\n",
       "       'East Caribbean Dollar', 'Egypt Pound', 'El Salvador Colon',\n",
       "       'Ethiopia Birr', 'Falkland Islands Pound', 'Fiji Dollar',\n",
       "       'Gambia Dalasi', 'Georgia Lari', 'Ghana New Cedi',\n",
       "       'Gibraltar Pound', 'Guatemala Quetzal', 'Guinea Franc',\n",
       "       'Guyana Dollar', 'Haiti Gourde', 'Honduras Lempira',\n",
       "       'Hong Kong Dollar', 'Hungary Forint', 'Iceland Krona',\n",
       "       'India Rupee', 'Indonesia Rupiah', 'Iran Rial', 'Iraq Dinar',\n",
       "       'Israel New Shekel', 'Jamaica Dollar', 'Jordan Dinar',\n",
       "       'Kazakhstan Tenge', 'Kenya Shilling', 'Kuwait Dinar',\n",
       "       'Kyrgyzstan Som', 'Laos Kip', 'Lebanon Pound', 'Lesotho Loti',\n",
       "       'Liberia Dollar', 'Libya Dinar', 'Macau Pataca', 'Macedonia Denar',\n",
       "       'Malagasy Ariary', 'Malawi Kwacha', 'Malaysia Ringgit',\n",
       "       'Maldives Rufiyaa', 'Mauritania Ouguiya', 'Mauritius Rupee',\n",
       "       'Mexico Peso', 'Moldova Leu', 'Mongolia Tugrik', 'Morocco Dirham',\n",
       "       'Mozambique New Metical', 'Myanmar Kyat', 'NL Antilles Guilder',\n",
       "       'Namibia Dollar', 'Nepal Rupee', 'New Zealand Dollar',\n",
       "       'Nicaragua Cordoba Oro', 'Nigeria Naira', 'North Korea Won',\n",
       "       'Norway Kroner', 'Oman Rial', 'Pakistan Rupee', 'Panama Balboa',\n",
       "       'Papua New Guinea Kina', 'Paraguay Guarani', 'Peru Nuevo Sol',\n",
       "       'Philippines Peso', 'Poland Zloty', 'Qatar Rial',\n",
       "       'Romania New Lei', 'Russia Rouble', 'Rwanda Franc', 'Samoa Tala',\n",
       "       'Sao Tome/Principe Dobra', 'Saudi Arabia Riyal', 'Serbia Dinar',\n",
       "       'Seychelles Rupee', 'Sierra Leone Leone', 'Singapore Dollar',\n",
       "       'Solomon Islands Dollar', 'Somali Shilling', 'South Africa Rand',\n",
       "       'South Korea Won', 'Sri Lanka Rupee', 'St Helena Pound',\n",
       "       'Sudan Pound', 'Suriname Dollar', 'Swaziland Lilangeni',\n",
       "       'Sweden Krona', 'Syria Pound', 'Taiwan Dollar',\n",
       "       'Tanzania Shilling', 'Thailand Baht', \"Tonga Pa'anga\",\n",
       "       'Trinidad/Tobago Dollar', 'Tunisia Dinar', 'Turkish New Lira',\n",
       "       'Uganda Shilling', 'Ukraine Hryvnia', 'Uruguay Peso',\n",
       "       'United Arab Emirates Dirham', 'Vanuatu Vatu', 'Vietnam Dong',\n",
       "       'Yemen Rial', 'Zambia Kwacha'], dtype=object)"
      ]
     },
     "execution_count": 6,
     "metadata": {},
     "output_type": "execute_result"
    }
   ],
   "source": [
    "# Print currency names\n",
    "dataset['Country/Currency'].unique()"
   ]
  },
  {
   "cell_type": "code",
   "execution_count": 7,
   "id": "780d2b2d",
   "metadata": {},
   "outputs": [
    {
     "name": "stdout",
     "output_type": "stream",
     "text": [
      "Country name: Australia Dollar -> Currency: AUD\n",
      "Country name: Great Britain Pound -> Currency: GBP\n",
      "Country name: Euro -> Currency: EUR\n",
      "Country name: Japan Yen -> Currency: JPY\n",
      "Country name: Switzerland Franc -> Currency: CHF\n",
      "Country name: USA Dollar -> Currency: USD\n",
      "Country name: Afghanistan Afghani -> Currency: AFN\n",
      "Country name: Albania Lek -> Currency: ALL\n",
      "Country name: Algeria Dinar -> Currency: DZD\n",
      "Country name: Angola Kwanza -> Currency: AOA\n",
      "Country name: Argentina Peso -> Currency: ARS\n",
      "Country name: Armenia Dram -> Currency: AMD\n",
      "Country name: Aruba Florin -> Currency: AWG\n",
      "Country name: Azerbaijan New Manat -> Currency: AZN\n",
      "Country name: Bahamas Dollar -> Currency: BSD\n",
      "Country name: Bahrain Dinar -> Currency: BHD\n",
      "Country name: Bangladesh Taka -> Currency: BDT\n",
      "Country name: Barbados Dollar -> Currency: BBD\n",
      "Country name: Belarus Ruble -> Currency: BYR\n",
      "Country name: Belize Dollar -> Currency: BZD\n",
      "Country name: Bermuda Dollar -> Currency: BMD\n",
      "Country name: Bhutan Ngultrum -> Currency: BTN\n",
      "Country name: Bolivia Boliviano -> Currency: BOB\n",
      "Country name: Bosnia Mark -> Currency: BAM\n",
      "Country name: Botswana Pula -> Currency: BWP\n",
      "Country name: Brazil Real -> Currency: BRL\n",
      "Country name: Brunei Dollar -> Currency: BND\n",
      "Country name: Bulgaria Lev -> Currency: BGN\n",
      "Country name: Burundi Franc -> Currency: BIF\n",
      "Country name: CFA Franc BCEAO -> Currency: XOF\n",
      "Country name: CFA Franc BEAC -> Currency: XAF\n",
      "Country name: CFP Franc -> Currency: XPF\n",
      "Country name: Cambodia Riel -> Currency: KHR\n",
      "Country name: Canada Dollar -> Currency: CAD\n",
      "Country name: Cape Verde Escudo -> Currency: CVE\n",
      "Country name: Cayman Islands Dollar -> Currency: KYD\n",
      "Country name: Chili Peso -> Currency: CLP\n",
      "Country name: China Yuan/Renminbi -> Currency: CNY\n",
      "Country name: Colombia Peso -> Currency: COP\n",
      "Country name: Comoros Franc -> Currency: KMF\n",
      "Country name: Congo Franc -> Currency: CDF\n",
      "Country name: Costa Rica Colon -> Currency: CRC\n",
      "Country name: Croatia Kuna -> Currency: HRK\n",
      "Country name: Cuba Convertible Peso -> Currency: CUC\n",
      "Country name: Cuba Peso -> Currency: CUP\n",
      "Country name: Czech Koruna -> Currency: CZK\n",
      "Country name: Denmark Krone -> Currency: DKK\n",
      "Country name: Djibouti Franc -> Currency: DJF\n",
      "Country name: Dominican Republich Peso -> Currency: DOP\n",
      "Country name: East Caribbean Dollar -> Currency: XCD\n",
      "Country name: Egypt Pound -> Currency: EGP\n",
      "Country name: El Salvador Colon -> Currency: SVC\n",
      "Country name: Ethiopia Birr -> Currency: ETB\n",
      "Country name: Falkland Islands Pound -> Currency: FKP\n",
      "Country name: Fiji Dollar -> Currency: FJD\n",
      "Country name: Gambia Dalasi -> Currency: GMD\n",
      "Country name: Georgia Lari -> Currency: GEL\n",
      "Country name: Ghana New Cedi -> Currency: GHS\n",
      "Country name: Gibraltar Pound -> Currency: GIP\n",
      "Country name: Guatemala Quetzal -> Currency: GTQ\n",
      "Country name: Guinea Franc -> Currency: GNF\n",
      "Country name: Guyana Dollar -> Currency: GYD\n",
      "Country name: Haiti Gourde -> Currency: HTG\n",
      "Country name: Honduras Lempira -> Currency: HNL\n",
      "Country name: Hong Kong Dollar -> Currency: HKD\n",
      "Country name: Hungary Forint -> Currency: HUF\n",
      "Country name: Iceland Krona -> Currency: ISK\n",
      "Country name: India Rupee -> Currency: INR\n",
      "Country name: Indonesia Rupiah -> Currency: IDR\n",
      "Country name: Iran Rial -> Currency: IRR\n",
      "Country name: Iraq Dinar -> Currency: IQD\n",
      "Country name: Israel New Shekel -> Currency: ILS\n",
      "Country name: Jamaica Dollar -> Currency: JMD\n",
      "Country name: Jordan Dinar -> Currency: JOD\n",
      "Country name: Kazakhstan Tenge -> Currency: KZT\n",
      "Country name: Kenya Shilling -> Currency: KES\n",
      "Country name: Kuwait Dinar -> Currency: KWD\n",
      "Country name: Kyrgyzstan Som -> Currency: KGS\n",
      "Country name: Laos Kip -> Currency: LAK\n",
      "Country name: Lebanon Pound -> Currency: LBP\n",
      "Country name: Lesotho Loti -> Currency: LSL\n",
      "Country name: Liberia Dollar -> Currency: LRD\n",
      "Country name: Libya Dinar -> Currency: LYD\n",
      "Country name: Macau Pataca -> Currency: MOP\n",
      "Country name: Macedonia Denar -> Currency: MKD\n",
      "Country name: Malagasy Ariary -> Currency: MGA\n",
      "Country name: Malawi Kwacha -> Currency: MWK\n",
      "Country name: Malaysia Ringgit -> Currency: MYR\n",
      "Country name: Maldives Rufiyaa -> Currency: MVR\n",
      "Country name: Mauritania Ouguiya -> Currency: MRO\n",
      "Country name: Mauritius Rupee -> Currency: MUR\n",
      "Country name: Mexico Peso -> Currency: MXN\n",
      "Country name: Moldova Leu -> Currency: MDL\n",
      "Country name: Mongolia Tugrik -> Currency: MNT\n",
      "Country name: Morocco Dirham -> Currency: MAD\n",
      "Country name: Mozambique New Metical -> Currency: MZN\n",
      "Country name: Myanmar Kyat -> Currency: MMK\n",
      "Country name: NL Antilles Guilder -> Currency: ANG\n",
      "Country name: Namibia Dollar -> Currency: NAD\n",
      "Country name: Nepal Rupee -> Currency: NPR\n",
      "Country name: New Zealand Dollar -> Currency: NZD\n",
      "Country name: Nicaragua Cordoba Oro -> Currency: NIO\n",
      "Country name: Nigeria Naira -> Currency: NGN\n",
      "Country name: North Korea Won -> Currency: KPW\n",
      "Country name: Norway Kroner -> Currency: NOK\n",
      "Country name: Oman Rial -> Currency: OMR\n",
      "Country name: Pakistan Rupee -> Currency: PKR\n",
      "Country name: Panama Balboa -> Currency: PAB\n",
      "Country name: Papua New Guinea Kina -> Currency: PGK\n",
      "Country name: Paraguay Guarani -> Currency: PYG\n",
      "Country name: Peru Nuevo Sol -> Currency: PEN\n",
      "Country name: Philippines Peso -> Currency: PHP\n",
      "Country name: Poland Zloty -> Currency: PLN\n",
      "Country name: Qatar Rial -> Currency: QAR\n",
      "Country name: Romania New Lei -> Currency: RON\n",
      "Country name: Russia Rouble -> Currency: RUB\n",
      "Country name: Rwanda Franc -> Currency: RWF\n",
      "Country name: Samoa Tala -> Currency: WST\n",
      "Country name: Sao Tome/Principe Dobra -> Currency: STD\n",
      "Country name: Saudi Arabia Riyal -> Currency: SAR\n",
      "Country name: Serbia Dinar -> Currency: RSD\n",
      "Country name: Seychelles Rupee -> Currency: SCR\n",
      "Country name: Sierra Leone Leone -> Currency: SLL\n",
      "Country name: Singapore Dollar -> Currency: SGD\n",
      "Country name: Solomon Islands Dollar -> Currency: SBD\n",
      "Country name: Somali Shilling -> Currency: SOS\n",
      "Country name: South Africa Rand -> Currency: ZAR\n",
      "Country name: South Korea Won -> Currency: KRW\n",
      "Country name: Sri Lanka Rupee -> Currency: LKR\n",
      "Country name: St Helena Pound -> Currency: SHP\n",
      "Country name: Sudan Pound -> Currency: SDG\n",
      "Country name: Suriname Dollar -> Currency: SRD\n",
      "Country name: Swaziland Lilangeni -> Currency: SZL\n",
      "Country name: Sweden Krona -> Currency: SEK\n",
      "Country name: Syria Pound -> Currency: SYP\n",
      "Country name: Taiwan Dollar -> Currency: TWD\n",
      "Country name: Tanzania Shilling -> Currency: TZS\n",
      "Country name: Thailand Baht -> Currency: THB\n",
      "Country name: Tonga Pa'anga -> Currency: TOP\n",
      "Country name: Trinidad/Tobago Dollar -> Currency: TTD\n",
      "Country name: Tunisia Dinar -> Currency: TND\n",
      "Country name: Turkish New Lira -> Currency: TRY\n",
      "Country name: Uganda Shilling -> Currency: UGX\n",
      "Country name: Ukraine Hryvnia -> Currency: UAH\n",
      "Country name: Uruguay Peso -> Currency: UYU\n",
      "Country name: United Arab Emirates Dirham -> Currency: AED\n",
      "Country name: Vanuatu Vatu -> Currency: VUV\n",
      "Country name: Vietnam Dong -> Currency: VND\n",
      "Country name: Yemen Rial -> Currency: YER\n",
      "Country name: Zambia Kwacha -> Currency: ZMK\n"
     ]
    }
   ],
   "source": [
    "unique_country = list(dataset['Country/Currency'].unique())\n",
    "unique_currency = list(dataset['currency'].unique())\n",
    "for x in range(len(unique_country)):\n",
    "    print('Country name: {0} -> Currency: {1}'.format(unique_country[x], unique_currency[x]))"
   ]
  },
  {
   "cell_type": "markdown",
   "id": "ce73d173",
   "metadata": {},
   "source": [
    "Pickup some country code for time series analysis\n",
    "\n",
    "1. USA Dollar -> Currency: USD\n",
    "2. China Yuan/Renminbi -> Currency: CNY\n",
    "\n",
    "Extract appropriate data."
   ]
  },
  {
   "cell_type": "code",
   "execution_count": 8,
   "id": "2cc64fd1",
   "metadata": {
    "scrolled": true
   },
   "outputs": [
    {
     "data": {
      "text/html": [
       "<div>\n",
       "<style scoped>\n",
       "    .dataframe tbody tr th:only-of-type {\n",
       "        vertical-align: middle;\n",
       "    }\n",
       "\n",
       "    .dataframe tbody tr th {\n",
       "        vertical-align: top;\n",
       "    }\n",
       "\n",
       "    .dataframe thead th {\n",
       "        text-align: right;\n",
       "    }\n",
       "</style>\n",
       "<table border=\"1\" class=\"dataframe\">\n",
       "  <thead>\n",
       "    <tr style=\"text-align: right;\">\n",
       "      <th></th>\n",
       "      <th>Country/Currency</th>\n",
       "      <th>currency</th>\n",
       "      <th>value</th>\n",
       "      <th>date</th>\n",
       "    </tr>\n",
       "  </thead>\n",
       "  <tbody>\n",
       "    <tr>\n",
       "      <th>5</th>\n",
       "      <td>USA Dollar</td>\n",
       "      <td>USD</td>\n",
       "      <td>1.132548</td>\n",
       "      <td>2021-12-17</td>\n",
       "    </tr>\n",
       "    <tr>\n",
       "      <th>155</th>\n",
       "      <td>USA Dollar</td>\n",
       "      <td>USD</td>\n",
       "      <td>1.123810</td>\n",
       "      <td>2021-12-18</td>\n",
       "    </tr>\n",
       "    <tr>\n",
       "      <th>305</th>\n",
       "      <td>USA Dollar</td>\n",
       "      <td>USD</td>\n",
       "      <td>1.123810</td>\n",
       "      <td>2021-12-19</td>\n",
       "    </tr>\n",
       "    <tr>\n",
       "      <th>455</th>\n",
       "      <td>USA Dollar</td>\n",
       "      <td>USD</td>\n",
       "      <td>1.124405</td>\n",
       "      <td>2021-12-20</td>\n",
       "    </tr>\n",
       "    <tr>\n",
       "      <th>605</th>\n",
       "      <td>USA Dollar</td>\n",
       "      <td>USD</td>\n",
       "      <td>1.128382</td>\n",
       "      <td>2021-12-21</td>\n",
       "    </tr>\n",
       "  </tbody>\n",
       "</table>\n",
       "</div>"
      ],
      "text/plain": [
       "    Country/Currency currency     value       date\n",
       "5         USA Dollar      USD  1.132548 2021-12-17\n",
       "155       USA Dollar      USD  1.123810 2021-12-18\n",
       "305       USA Dollar      USD  1.123810 2021-12-19\n",
       "455       USA Dollar      USD  1.124405 2021-12-20\n",
       "605       USA Dollar      USD  1.128382 2021-12-21"
      ]
     },
     "execution_count": 8,
     "metadata": {},
     "output_type": "execute_result"
    }
   ],
   "source": [
    "data_usd = dataset.loc[dataset.currency == 'USD']\n",
    "data_usd.head()"
   ]
  },
  {
   "cell_type": "code",
   "execution_count": 9,
   "id": "51f6d0b8",
   "metadata": {},
   "outputs": [
    {
     "data": {
      "image/png": "[encoded data removed]",
      "text/plain": [
       "<Figure size 640x480 with 1 Axes>"
      ]
     },
     "metadata": {},
     "output_type": "display_data"
    }
   ],
   "source": [
    "import seaborn as sns\n",
    "import matplotlib.pyplot as plt\n",
    "sns.set()\n",
    "\n",
    "data_usd.set_index('date')['value'].plot()\n",
    "plt.show()"
   ]
  },
  {
   "cell_type": "code",
   "execution_count": 10,
   "id": "cf5dc9dd",
   "metadata": {
    "scrolled": true
   },
   "outputs": [
    {
     "data": {
      "text/html": [
       "<div>\n",
       "<style scoped>\n",
       "    .dataframe tbody tr th:only-of-type {\n",
       "        vertical-align: middle;\n",
       "    }\n",
       "\n",
       "    .dataframe tbody tr th {\n",
       "        vertical-align: top;\n",
       "    }\n",
       "\n",
       "    .dataframe thead th {\n",
       "        text-align: right;\n",
       "    }\n",
       "</style>\n",
       "<table border=\"1\" class=\"dataframe\">\n",
       "  <thead>\n",
       "    <tr style=\"text-align: right;\">\n",
       "      <th></th>\n",
       "      <th>Country/Currency</th>\n",
       "      <th>currency</th>\n",
       "      <th>value</th>\n",
       "      <th>date</th>\n",
       "    </tr>\n",
       "  </thead>\n",
       "  <tbody>\n",
       "    <tr>\n",
       "      <th>37</th>\n",
       "      <td>China Yuan/Renminbi</td>\n",
       "      <td>CNY</td>\n",
       "      <td>7.220899</td>\n",
       "      <td>2021-12-17</td>\n",
       "    </tr>\n",
       "    <tr>\n",
       "      <th>187</th>\n",
       "      <td>China Yuan/Renminbi</td>\n",
       "      <td>CNY</td>\n",
       "      <td>7.164741</td>\n",
       "      <td>2021-12-18</td>\n",
       "    </tr>\n",
       "    <tr>\n",
       "      <th>337</th>\n",
       "      <td>China Yuan/Renminbi</td>\n",
       "      <td>CNY</td>\n",
       "      <td>7.164741</td>\n",
       "      <td>2021-12-19</td>\n",
       "    </tr>\n",
       "    <tr>\n",
       "      <th>487</th>\n",
       "      <td>China Yuan/Renminbi</td>\n",
       "      <td>CNY</td>\n",
       "      <td>7.171681</td>\n",
       "      <td>2021-12-20</td>\n",
       "    </tr>\n",
       "    <tr>\n",
       "      <th>637</th>\n",
       "      <td>China Yuan/Renminbi</td>\n",
       "      <td>CNY</td>\n",
       "      <td>7.193097</td>\n",
       "      <td>2021-12-21</td>\n",
       "    </tr>\n",
       "  </tbody>\n",
       "</table>\n",
       "</div>"
      ],
      "text/plain": [
       "        Country/Currency currency     value       date\n",
       "37   China Yuan/Renminbi      CNY  7.220899 2021-12-17\n",
       "187  China Yuan/Renminbi      CNY  7.164741 2021-12-18\n",
       "337  China Yuan/Renminbi      CNY  7.164741 2021-12-19\n",
       "487  China Yuan/Renminbi      CNY  7.171681 2021-12-20\n",
       "637  China Yuan/Renminbi      CNY  7.193097 2021-12-21"
      ]
     },
     "execution_count": 10,
     "metadata": {},
     "output_type": "execute_result"
    }
   ],
   "source": [
    "data_cny = dataset.loc[dataset.currency == 'CNY']\n",
    "data_cny.head()"
   ]
  },
  {
   "cell_type": "code",
   "execution_count": 11,
   "id": "5f3e5a91",
   "metadata": {},
   "outputs": [
    {
     "data": {
      "image/png": "[encoded data removed]",
      "text/plain": [
       "<Figure size 640x480 with 1 Axes>"
      ]
     },
     "metadata": {},
     "output_type": "display_data"
    }
   ],
   "source": [
    "data_cny.set_index('date')['value'].plot()\n",
    "plt.show()"
   ]
  },
  {
   "cell_type": "code",
   "execution_count": 12,
   "id": "3fb5d34f",
   "metadata": {},
   "outputs": [
    {
     "name": "stderr",
     "output_type": "stream",
     "text": [
      "2023-06-29 21:59:10.484544: I tensorflow/core/platform/cpu_feature_guard.cc:193] This TensorFlow binary is optimized with oneAPI Deep Neural Network Library (oneDNN) to use the following CPU instructions in performance-critical operations:  SSE4.1 SSE4.2 AVX AVX2 AVX512F AVX512_VNNI FMA\n",
      "To enable them in other operations, rebuild TensorFlow with the appropriate compiler flags.\n",
      "2023-06-29 21:59:10.586349: I tensorflow/core/util/port.cc:104] oneDNN custom operations are on. You may see slightly different numerical results due to floating-point round-off errors from different computation orders. To turn them off, set the environment variable `TF_ENABLE_ONEDNN_OPTS=0`.\n"
     ]
    }
   ],
   "source": [
    "from sklearn.model_selection import train_test_split\n",
    "from sklearn.preprocessing import MinMaxScaler\n",
    "from keras.models import Sequential\n",
    "from keras.layers import LSTM, Dense"
   ]
  },
  {
   "cell_type": "code",
   "execution_count": null,
   "id": "0f91dc2b",
   "metadata": {},
   "outputs": [],
   "source": [
    "# Load the currency data into a DataFrame\n",
    "df = pd.read_csv('currency_data.csv')\n",
    "\n",
    "# Extract the target variable (e.g., closing prices) and features\n",
    "target_variable = df['closing_price']\n",
    "features = df.drop('closing_price', axis=1)\n",
    "\n",
    "# Split the data into training and testing sets\n",
    "X_train, X_test, y_train, y_test = train_test_split(features, target_variable, test_size=0.2, random_state=42)\n",
    "\n",
    "# Scale the data using MinMaxScaler\n",
    "scaler = MinMaxScaler()\n",
    "X_train_scaled = scaler.fit_transform(X_train)\n",
    "X_test_scaled = scaler.transform(X_test)\n"
   ]
  },
  {
   "cell_type": "code",
   "execution_count": null,
   "id": "255423ea",
   "metadata": {},
   "outputs": [],
   "source": [
    "X_train_reshaped = np.reshape(X_train_scaled, (X_train_scaled.shape[0], 1, X_train_scaled.shape[1]))\n",
    "X_test_reshaped = np.reshape(X_test_scaled, (X_test_scaled.shape[0], 1, X_test_scaled.shape[1]))\n"
   ]
  },
  {
   "cell_type": "code",
   "execution_count": null,
   "id": "f12ef678",
   "metadata": {},
   "outputs": [],
   "source": [
    "model = Sequential()\n",
    "model.add(LSTM(units=50, activation='relu', input_shape=(1, X_train_scaled.shape[1])))\n",
    "model.add(Dense(units=1))\n",
    "model.compile(optimizer='adam', loss='mean_squared_error')\n"
   ]
  },
  {
   "cell_type": "code",
   "execution_count": null,
   "id": "8b200a5b",
   "metadata": {},
   "outputs": [],
   "source": [
    "model.fit(X_train_reshaped, y_train, epochs=10, batch_size=32)\n"
   ]
  },
  {
   "cell_type": "code",
   "execution_count": null,
   "id": "2c9670b5",
   "metadata": {},
   "outputs": [],
   "source": [
    "loss = model.evaluate(X_test_reshaped, y_test)\n",
    "print(\"Loss: \", loss)\n"
   ]
  },
  {
   "cell_type": "code",
   "execution_count": null,
   "id": "0fc5a0f6",
   "metadata": {},
   "outputs": [],
   "source": [
    "loss = model.evaluate(X_test_reshaped, y_test)\n",
    "print(\"Loss: \", loss)\n"
   ]
  },
  {
   "cell_type": "code",
   "execution_count": null,
   "id": "90441bea",
   "metadata": {},
   "outputs": [],
   "source": [
    "# Assuming you have new unseen data in a DataFrame called 'new_data'\n",
    "new_data_scaled = scaler.transform(new_data)\n",
    "new_data_reshaped = np.reshape(new_data_scaled, (new_data_scaled.shape[0], 1, new_data_scaled.shape[1]))\n",
    "predictions = model.predict(new_data_reshaped)\n"
   ]
  }
 ],
 "metadata": {
  "kernelspec": {
   "display_name": "python_lectures",
   "language": "python",
   "name": "python_lectures"
  },
  "language_info": {
   "codemirror_mode": {
    "name": "ipython",
    "version": 3
   },
   "file_extension": ".py",
   "mimetype": "text/x-python",
   "name": "python",
   "nbconvert_exporter": "python",
   "pygments_lexer": "ipython3",
   "version": "3.8.16"
  }
 },
 "nbformat": 4,
 "nbformat_minor": 5
}
