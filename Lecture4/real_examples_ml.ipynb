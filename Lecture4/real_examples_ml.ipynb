{
 "cells": [
  {
   "cell_type": "markdown",
   "id": "3f883ce4",
   "metadata": {},
   "source": [
    "# Real-life Machine Learning Examples\n",
    "\n",
    "Exploratory Analysis:\n",
    "- [World top billionaries](explore_top_billionaries.ipynb)\n",
    "\n",
    "Pattern recognition:\n",
    "- [Penguin vs Turtle image classification](penguin_vs_turtle.ipynb)\n",
    "- [Face detection](face_detection.ipynb)\n",
    "- [Exchange rate forcast](ex_exchange_rate_forcast.ipynb)"
   ]
  }
 ],
 "metadata": {
  "kernelspec": {
   "display_name": "Python [conda env:python_lectures]",
   "language": "python",
   "name": "conda-env-python_lectures-py"
  },
  "language_info": {
   "codemirror_mode": {
    "name": "ipython",
    "version": 3
   },
   "file_extension": ".py",
   "mimetype": "text/x-python",
   "name": "python",
   "nbconvert_exporter": "python",
   "pygments_lexer": "ipython3",
   "version": "3.8.16"
  }
 },
 "nbformat": 4,
 "nbformat_minor": 5
}
