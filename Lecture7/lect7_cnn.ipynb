{
 "cells": [
  {
   "cell_type": "markdown",
   "id": "9911371c",
   "metadata": {},
   "source": [
    "# Lecture 7. Convolutional Neural Networks\n",
    "\n",
    "Outline:\n",
    "- [Introduction to OpenCV](opencv_intro.ipynb)\n",
    "- [An simple image classifier for a store](image_classif_store.ipynb)\n",
    "- Convolutional Neural Networks (presentation)\n",
    "- [Digits example with and without CNN](digits_CNN.ipynb)\n",
    "    - Data Augmentation\n",
    "    - Improving model quality with DropOut layer\n",
    "- Transfer learning\n",
    "    - Introduction (presentation)\n",
    "    - [Coding in Python](trans_learn.ipynb)"
   ]
  }
 ],
 "metadata": {
  "kernelspec": {
   "display_name": "python_lectures",
   "language": "python",
   "name": "python_lectures"
  },
  "language_info": {
   "codemirror_mode": {
    "name": "ipython",
    "version": 3
   },
   "file_extension": ".py",
   "mimetype": "text/x-python",
   "name": "python",
   "nbconvert_exporter": "python",
   "pygments_lexer": "ipython3",
   "version": "3.8.16"
  }
 },
 "nbformat": 4,
 "nbformat_minor": 5
}
