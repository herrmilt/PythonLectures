{
 "cells": [
  {
   "cell_type": "markdown",
   "id": "fd6c32a3",
   "metadata": {},
   "source": [
    "# Object Oriented Programming. Basic Concepts"
   ]
  },
  {
   "cell_type": "markdown",
   "id": "8b37409f",
   "metadata": {},
   "source": [
    "Classes in Python are used to define objects with specific properties and behaviors. They allow you\n",
    "to create custom types that can be used throughout your program.\n",
    "\n",
    "## Defining a class\n",
    "To define a class in Python, use the class keyword followed by the name of the class. For example:"
   ]
  },
  {
   "cell_type": "code",
   "execution_count": 1,
   "id": "ebc5cbe2",
   "metadata": {},
   "outputs": [],
   "source": [
    "class Person:\n",
    "    pass"
   ]
  },
  {
   "cell_type": "markdown",
   "id": "356b4dbd",
   "metadata": {},
   "source": [
    "### Object Attributes\n",
    "Object attributes are properties that belong to an instance of a class. They can be accessed and\n",
    "modified using dot notation. To define object attributes, use the __init__() method:"
   ]
  },
  {
   "cell_type": "code",
   "execution_count": 2,
   "id": "ad00656d",
   "metadata": {},
   "outputs": [],
   "source": [
    "class Person:\n",
    "    def __init__(self, name, age):\n",
    "        self.name = name\n",
    "        self.age = age"
   ]
  },
  {
   "cell_type": "markdown",
   "id": "04935aa3",
   "metadata": {},
   "source": [
    "In this example, we define a Person class with name and age attributes. When a new instance of\n",
    "the class is created, these attributes will be initialized with the values passed in as arguments to\n",
    "the constructor.\n",
    "### Object methods\n",
    "Object methods are functions that belong to an instance of a class. They can be called using dot\n",
    "notation. To define an object method, simply define a function inside the class:"
   ]
  },
  {
   "cell_type": "code",
   "execution_count": 3,
   "id": "d55385e6",
   "metadata": {},
   "outputs": [],
   "source": [
    "class Person:\n",
    "    def __init__(self, name, age):\n",
    "        self.name = name\n",
    "        self.age = age\n",
    "        \n",
    "    def say_hello(self):\n",
    "        print(f\"Hello, my name is {self.name} and I am {self.age} years old.\")"
   ]
  },
  {
   "cell_type": "markdown",
   "id": "52332f87",
   "metadata": {},
   "source": [
    "In this example, we define a say_hello() method for the Person class.\n",
    "This method will print a\n",
    "message containing the name and age of the instance on which it is called.\n",
    "### Creating Objects\n",
    "To create a new instance of a class, simply call the class like a function:"
   ]
  },
  {
   "cell_type": "code",
   "execution_count": 4,
   "id": "224af55d",
   "metadata": {},
   "outputs": [
    {
     "name": "stdout",
     "output_type": "stream",
     "text": [
      "Hello, my name is Alice and I am 30 years old.\n",
      "Hello, my name is Bob and I am 25 years old.\n"
     ]
    }
   ],
   "source": [
    "p1 = Person(\"Alice\", 30)\n",
    "p2 = Person(\"Bob\", 25)\n",
    "p1.say_hello()\n",
    "p2.say_hello()"
   ]
  },
  {
   "cell_type": "markdown",
   "id": "7ca8132e",
   "metadata": {},
   "source": [
    "In this example, we create two instances of the Person class and call the say_hello() method on\n",
    "each one.\n",
    "\n",
    "## Class Methods\n",
    "Class methods are methods that belong to the class itself rather than to any particular instance of\n",
    "the class. They can be used to modify class-level attributes or perform other operations that don't\n",
    "require access to instance-specific data.\n",
    "### Defining a Class Method\n",
    "To define a class method in Python, use the @classmethod decorator. Class methods take a reference\n",
    "to the class itself as their first argument, which is conventionally called cls:"
   ]
  },
  {
   "cell_type": "code",
   "execution_count": 5,
   "id": "c4fd20bd",
   "metadata": {},
   "outputs": [],
   "source": [
    "class MyClass:\n",
    "    class_attr = 0\n",
    "    \n",
    "    @classmethod\n",
    "    def class_method(cls, x):\n",
    "        cls.class_attr += x"
   ]
  },
  {
   "cell_type": "markdown",
   "id": "953f887b",
   "metadata": {},
   "source": [
    "In this example, we define a class method called class_method() for the MyClass class. This method\n",
    "takes a single argument x and adds it to the class_attr attribute of the class.\n",
    "### Calling a Class Method\n",
    "To call a class method, use dot notation on the class name:"
   ]
  },
  {
   "cell_type": "code",
   "execution_count": 6,
   "id": "31b4235a",
   "metadata": {},
   "outputs": [
    {
     "name": "stdout",
     "output_type": "stream",
     "text": [
      "5\n"
     ]
    }
   ],
   "source": [
    "MyClass.class_method(5)\n",
    "print(MyClass.class_attr)"
   ]
  },
  {
   "cell_type": "code",
   "execution_count": 7,
   "id": "b52af3a1",
   "metadata": {},
   "outputs": [
    {
     "name": "stdout",
     "output_type": "stream",
     "text": [
      "11\n"
     ]
    }
   ],
   "source": [
    "MyClass.class_method(6)\n",
    "print(MyClass.class_attr)"
   ]
  },
  {
   "cell_type": "markdown",
   "id": "933aaeea",
   "metadata": {},
   "source": [
    "In this example, we call the class_method() on the MyClass class and pass in an argument of 5.\n",
    "This adds 5 to the class_attr attribute of the class, which we then print to the console.\n",
    "\n",
    "### Use Cases for Class Methods\n",
    "There are several use cases for class methods in Python:\n",
    "1. When we want to modify class-level attributes that are shared by all instances of the class.\n",
    "2. When we need to create a factory method that returns instances of the class.\n",
    "3. When we need to create alternate constructors for the class.\n",
    "4. When we need to implement a singleton design pattern.\n",
    "5. When we need to implement a cache or registry of instances.\n",
    "\n",
    "#### When we want to modify class-level attributes that are shared by all instances of the class."
   ]
  },
  {
   "cell_type": "code",
   "execution_count": 8,
   "id": "633077d7",
   "metadata": {},
   "outputs": [
    {
     "name": "stdout",
     "output_type": "stream",
     "text": [
      "1000\n",
      "2000\n",
      "1050.0\n",
      "2100.0\n"
     ]
    }
   ],
   "source": [
    "class BankAccount:\n",
    "    interest_rate = 0.05 # class-level attribute\n",
    "    \n",
    "    def __init__(self, balance):\n",
    "        self.balance = balance\n",
    "        \n",
    "    @classmethod\n",
    "    def set_interest_rate(cls, rate):\n",
    "        cls.interest_rate = rate\n",
    "        \n",
    "    def add_interest(self):\n",
    "        interest = self.balance * self.interest_rate\n",
    "        self.balance += interest\n",
    "        \n",
    "acct1 = BankAccount(1000)\n",
    "acct2 = BankAccount(2000)\n",
    "print(acct1.balance)\n",
    "print(acct2.balance)\n",
    "\n",
    "acct1.add_interest()\n",
    "acct2.add_interest()\n",
    "print(acct1.balance)\n",
    "print(acct2.balance)"
   ]
  },
  {
   "cell_type": "markdown",
   "id": "8e3444ab",
   "metadata": {},
   "source": [
    "In this example, we create two BankAccount instances and set their initial balances to 1000 and\n",
    "2000, respectively. We then call the add_interest() method on each instance, which adds interest\n",
    "to their balances based on the interest_rate class-level attribute.\n",
    "\n",
    "Now let's use the set_interest_rate() class method to change the interest_rate class-level attribute\n",
    "and see how it affects the interest added to the account balances:"
   ]
  },
  {
   "cell_type": "code",
   "execution_count": 9,
   "id": "45e7638e",
   "metadata": {},
   "outputs": [
    {
     "name": "stdout",
     "output_type": "stream",
     "text": [
      "1155.0\n",
      "2310.0\n"
     ]
    }
   ],
   "source": [
    "BankAccount.set_interest_rate(0.1)\n",
    "\n",
    "acct1.add_interest()\n",
    "acct2.add_interest()\n",
    "print(acct1.balance)\n",
    "print(acct2.balance)"
   ]
  },
  {
   "cell_type": "markdown",
   "id": "d3981b7b",
   "metadata": {},
   "source": [
    "As we can see, the interest added to the account balances has increased based on the updated\n",
    "interest_rate attribute.\n",
    "\n",
    "#### When we need to create a factory method that returns instances of the class"
   ]
  },
  {
   "cell_type": "code",
   "execution_count": 14,
   "id": "4fb26b30",
   "metadata": {},
   "outputs": [
    {
     "name": "stdout",
     "output_type": "stream",
     "text": [
      "Ford\n",
      "Mustang\n",
      "2022\n"
     ]
    }
   ],
   "source": [
    "class Car:    \n",
    "    def __init__(self, make, model, year):\n",
    "        self.make = make\n",
    "        self.model = model\n",
    "        self.year = year\n",
    "        \n",
    "    @classmethod\n",
    "    def from_string(cls, car_string):\n",
    "        make, model, year = car_string.split(',')\n",
    "        return cls(make, model, year)\n",
    "    \n",
    "car_string = 'Ford,Mustang,2022'\n",
    "my_car = Car.from_string(car_string)\n",
    "print(my_car.make)\n",
    "print(my_car.model)\n",
    "print(my_car.year)"
   ]
  },
  {
   "cell_type": "markdown",
   "id": "250f8831",
   "metadata": {},
   "source": [
    "#### When we need to create alternate constructors for the class"
   ]
  },
  {
   "cell_type": "code",
   "execution_count": 15,
   "id": "ddd9cb2e",
   "metadata": {},
   "outputs": [
    {
     "name": "stdout",
     "output_type": "stream",
     "text": [
      "Hello, my name is Alice and I am 33 years old.\n",
      "Hello, my name is Bob and I am 30 years old.\n"
     ]
    }
   ],
   "source": [
    "import datetime\n",
    "\n",
    "class Person:\n",
    "    def __init__(self, name, age):\n",
    "        self.name = name\n",
    "        self.age = age\n",
    "        \n",
    "    @classmethod\n",
    "    def from_birth_year(cls, name, birth_year):\n",
    "        age = datetime.date.today().year - birth_year\n",
    "        return cls(name, age)\n",
    "    \n",
    "    @classmethod\n",
    "    def from_dict(cls, dict_):\n",
    "        return cls(dict_['name'], dict_['age'])\n",
    "    \n",
    "    def say_hello(self):\n",
    "        print(f\"Hello, my name is {self.name} and I am {self.age} years old.\")\n",
    "        \n",
    "# Create a person instance from birth year\n",
    "person1 = Person.from_birth_year('Alice', 1990)\n",
    "person1.say_hello()\n",
    "# Create a person instance from dictionary\n",
    "person2_dict = {'name': 'Bob', 'age': 30}\n",
    "person2 = Person.from_dict(person2_dict)\n",
    "person2.say_hello()"
   ]
  },
  {
   "cell_type": "markdown",
   "id": "41954156",
   "metadata": {},
   "source": [
    "#### When we need to implement a singleton design pattern"
   ]
  },
  {
   "cell_type": "code",
   "execution_count": 16,
   "id": "7b2958ab",
   "metadata": {},
   "outputs": [
    {
     "name": "stdout",
     "output_type": "stream",
     "text": [
      "True\n"
     ]
    }
   ],
   "source": [
    "class Singleton:\n",
    "    __instance = None\n",
    "    \n",
    "    def __init__(self):\n",
    "        if Singleton.__instance is not None:\n",
    "            raise Exception('Singleton instance already exists')\n",
    "        else:\n",
    "            Singleton.__instance = self\n",
    "            \n",
    "    @classmethod\n",
    "    def get_instance(cls):\n",
    "        if Singleton.__instance is None:\n",
    "            Singleton()\n",
    "        return Singleton.__instance\n",
    "    \n",
    "singleton1 = Singleton.get_instance()\n",
    "singleton2 = Singleton.get_instance()\n",
    "print(singleton1 is singleton2)"
   ]
  },
  {
   "cell_type": "markdown",
   "id": "a4e2b755",
   "metadata": {},
   "source": [
    "If we try to create another instance of the Singleton class, we will get an exception:"
   ]
  },
  {
   "cell_type": "code",
   "execution_count": 17,
   "id": "bcea9d4d",
   "metadata": {},
   "outputs": [
    {
     "ename": "Exception",
     "evalue": "Singleton instance already exists",
     "output_type": "error",
     "traceback": [
      "\u001b[0;31m---------------------------------------------------------------------------\u001b[0m",
      "\u001b[0;31mException\u001b[0m                                 Traceback (most recent call last)",
      "Input \u001b[0;32mIn [17]\u001b[0m, in \u001b[0;36m<cell line: 1>\u001b[0;34m()\u001b[0m\n\u001b[0;32m----> 1\u001b[0m singleton3 \u001b[38;5;241m=\u001b[39m \u001b[43mSingleton\u001b[49m\u001b[43m(\u001b[49m\u001b[43m)\u001b[49m \n",
      "Input \u001b[0;32mIn [16]\u001b[0m, in \u001b[0;36mSingleton.__init__\u001b[0;34m(self)\u001b[0m\n\u001b[1;32m      4\u001b[0m \u001b[38;5;28;01mdef\u001b[39;00m \u001b[38;5;21m__init__\u001b[39m(\u001b[38;5;28mself\u001b[39m):\n\u001b[1;32m      5\u001b[0m     \u001b[38;5;28;01mif\u001b[39;00m Singleton\u001b[38;5;241m.\u001b[39m__instance \u001b[38;5;129;01mis\u001b[39;00m \u001b[38;5;129;01mnot\u001b[39;00m \u001b[38;5;28;01mNone\u001b[39;00m:\n\u001b[0;32m----> 6\u001b[0m         \u001b[38;5;28;01mraise\u001b[39;00m \u001b[38;5;167;01mException\u001b[39;00m(\u001b[38;5;124m'\u001b[39m\u001b[38;5;124mSingleton instance already exists\u001b[39m\u001b[38;5;124m'\u001b[39m)\n\u001b[1;32m      7\u001b[0m     \u001b[38;5;28;01melse\u001b[39;00m:\n\u001b[1;32m      8\u001b[0m         Singleton\u001b[38;5;241m.\u001b[39m__instance \u001b[38;5;241m=\u001b[39m \u001b[38;5;28mself\u001b[39m\n",
      "\u001b[0;31mException\u001b[0m: Singleton instance already exists"
     ]
    }
   ],
   "source": [
    "singleton3 = Singleton() "
   ]
  },
  {
   "cell_type": "markdown",
   "id": "82ee1702",
   "metadata": {},
   "source": [
    "#### When we need to implement a cache or registry of instances"
   ]
  },
  {
   "cell_type": "code",
   "execution_count": 18,
   "id": "c96dac43",
   "metadata": {},
   "outputs": [
    {
     "name": "stdout",
     "output_type": "stream",
     "text": [
      "Car(make=Honda, model=Civic)\n",
      "Car(make=Toyota, model=Corolla)\n",
      "Car(make=Honda, model=Civic)\n",
      "True\n"
     ]
    }
   ],
   "source": [
    "class Car:\n",
    "    __registry = {}\n",
    "    \n",
    "    def __init__(self, make, model):\n",
    "        self.make = make\n",
    "        self.model = model\n",
    "        \n",
    "    def __repr__(self):\n",
    "        return f'Car(make={self.make}, model={self.model})'\n",
    "    \n",
    "    @classmethod\n",
    "    def get_instance(cls, make, model):\n",
    "        key = f'{make} {model}'\n",
    "        if key not in cls.__registry:\n",
    "            cls.__registry[key] = cls(make, model)\n",
    "        return cls.__registry[key]\n",
    "    \n",
    "car1 = Car.get_instance('Honda', 'Civic')\n",
    "car2 = Car.get_instance('Toyota', 'Corolla')\n",
    "car3 = Car.get_instance('Honda', 'Civic')\n",
    "print(car1)\n",
    "print(car2)\n",
    "print(car3)\n",
    "print(car1 is car3)"
   ]
  },
  {
   "cell_type": "markdown",
   "id": "4574bed8",
   "metadata": {},
   "source": [
    "## Static Methods\n",
    "In object-oriented programming, a static method is a method that belongs to the class itself, rather\n",
    "than to any specific instance of the class. This means that you can call a static method directly on\n",
    "the class, without having to create an instance of the class.\n",
    "\n",
    "Static methods are defined using the **@staticmethod** decorator."
   ]
  },
  {
   "cell_type": "code",
   "execution_count": 19,
   "id": "7d17c79d",
   "metadata": {},
   "outputs": [
    {
     "name": "stdout",
     "output_type": "stream",
     "text": [
      "This is a static method.\n"
     ]
    }
   ],
   "source": [
    "class MyClass:\n",
    "    \n",
    "    @staticmethod\n",
    "    def my_static_method():\n",
    "        print(\"This is a static method.\")\n",
    "\n",
    "MyClass.my_static_method()"
   ]
  },
  {
   "cell_type": "markdown",
   "id": "45d0f766",
   "metadata": {},
   "source": [
    "Note that we are not creating an instance of the class. Static methods are useful when you want to define a method that does not depend on the state of any specific instance of the class. They are often used for utility functions or for methods that perform some general action that is not related to the properties of the class.\n",
    "\n",
    "## Public vs Private methods\n",
    "A public method is a method that is accessible from outside the class. In Python, all methods are\n",
    "public by default, so you don't need to use any special syntax to make a method public. Here's an\n",
    "example:"
   ]
  },
  {
   "cell_type": "code",
   "execution_count": 20,
   "id": "d33173f8",
   "metadata": {},
   "outputs": [
    {
     "name": "stdout",
     "output_type": "stream",
     "text": [
      "This is a public method.\n"
     ]
    }
   ],
   "source": [
    "class MyClass:\n",
    "    def my_public_method(self):\n",
    "        print(\"This is a public method.\")\n",
    "\n",
    "my_instance = MyClass()\n",
    "my_instance.my_public_method()"
   ]
  },
  {
   "cell_type": "markdown",
   "id": "8c7bfcda",
   "metadata": {},
   "source": [
    "Public methods are the main way that users of your class will interact with it. They are often used\n",
    "to encapsulate the behavior of the class and provide a clean and easy-to-use interface for users.\n",
    "\n",
    "Finally, let's talk about private methods. A private method is a method that is only accessible\n",
    "from within the class. In Python, you can define a private method by prefixing its name with two\n",
    "underscores (__). Here's an example:"
   ]
  },
  {
   "cell_type": "code",
   "execution_count": 21,
   "id": "a59b092e",
   "metadata": {},
   "outputs": [
    {
     "ename": "AttributeError",
     "evalue": "'MyClass' object has no attribute '__my_private_method'",
     "output_type": "error",
     "traceback": [
      "\u001b[0;31m---------------------------------------------------------------------------\u001b[0m",
      "\u001b[0;31mAttributeError\u001b[0m                            Traceback (most recent call last)",
      "Input \u001b[0;32mIn [21]\u001b[0m, in \u001b[0;36m<cell line: 7>\u001b[0;34m()\u001b[0m\n\u001b[1;32m      4\u001b[0m         \u001b[38;5;28mprint\u001b[39m(\u001b[38;5;124m\"\u001b[39m\u001b[38;5;124mThis is a private method.\u001b[39m\u001b[38;5;124m\"\u001b[39m)\n\u001b[1;32m      6\u001b[0m my_instance \u001b[38;5;241m=\u001b[39m MyClass()\n\u001b[0;32m----> 7\u001b[0m \u001b[43mmy_instance\u001b[49m\u001b[38;5;241;43m.\u001b[39;49m\u001b[43m__my_private_method\u001b[49m()\n",
      "\u001b[0;31mAttributeError\u001b[0m: 'MyClass' object has no attribute '__my_private_method'"
     ]
    }
   ],
   "source": [
    "class MyClass:\n",
    "    \n",
    "    def __my_private_method(self):\n",
    "        print(\"This is a private method.\")\n",
    "\n",
    "my_instance = MyClass()\n",
    "my_instance.__my_private_method()"
   ]
  },
  {
   "cell_type": "markdown",
   "id": "5e83e952",
   "metadata": {},
   "source": [
    "Private methods are useful when you want to define a method that is only used internally within\n",
    "the class. They are often used to break up complex functionality into smaller, more manageable\n",
    "pieces, or to enforce certain constraints on the behavior of the class.\n",
    "Properties exhibit a similar behavior, where they allow controlled access to private fields by providing\n",
    "getter and setter methods to retrieve and modify their values."
   ]
  },
  {
   "cell_type": "code",
   "execution_count": 23,
   "id": "0114119c",
   "metadata": {},
   "outputs": [],
   "source": [
    "class Person:\n",
    "    def __init__(self, name, age):\n",
    "        self.name = name # public field\n",
    "        self.__age = age # private field\n",
    "        \n",
    "    def get_age(self):\n",
    "        return self.__age\n",
    "    \n",
    "    def set_age(self, age):\n",
    "        self.__age = age"
   ]
  },
  {
   "cell_type": "markdown",
   "id": "e7d03db5",
   "metadata": {},
   "source": [
    "Creating an instance of the class and accessing the public and private fields"
   ]
  },
  {
   "cell_type": "code",
   "execution_count": 24,
   "id": "561a89dc",
   "metadata": {},
   "outputs": [
    {
     "name": "stdout",
     "output_type": "stream",
     "text": [
      "Alice\n",
      "30\n"
     ]
    }
   ],
   "source": [
    "person = Person(\"Alice\", 30)\n",
    "print(person.name) # Output: Alice\n",
    "print(person.get_age()) # Output: 30"
   ]
  },
  {
   "cell_type": "markdown",
   "id": "aa50fa73",
   "metadata": {},
   "source": [
    "Trying to access the private field directly (will raise an AttributeError)"
   ]
  },
  {
   "cell_type": "code",
   "execution_count": 25,
   "id": "5f524855",
   "metadata": {},
   "outputs": [
    {
     "ename": "AttributeError",
     "evalue": "'Person' object has no attribute '__age'",
     "output_type": "error",
     "traceback": [
      "\u001b[0;31m---------------------------------------------------------------------------\u001b[0m",
      "\u001b[0;31mAttributeError\u001b[0m                            Traceback (most recent call last)",
      "Input \u001b[0;32mIn [25]\u001b[0m, in \u001b[0;36m<cell line: 1>\u001b[0;34m()\u001b[0m\n\u001b[0;32m----> 1\u001b[0m \u001b[38;5;28mprint\u001b[39m(\u001b[43mperson\u001b[49m\u001b[38;5;241;43m.\u001b[39;49m\u001b[43m__age\u001b[49m) \n",
      "\u001b[0;31mAttributeError\u001b[0m: 'Person' object has no attribute '__age'"
     ]
    }
   ],
   "source": [
    "print(person.__age) "
   ]
  },
  {
   "cell_type": "markdown",
   "id": "18aabce6",
   "metadata": {},
   "source": [
    "In Python, properties are a way to define special methods to control access to an object's attributes.\n",
    "By using properties, you can customize the behavior of attribute access to enforce constraints,\n",
    "perform calculations, or provide additional functionality.\n",
    "\n",
    "A property in Python is defined using the built-in property() function.\n",
    "takes up to three arguments:\n",
    "The property() function\n",
    "a getter method, a setter method, and a deleter method.\n",
    "methods are used to get, set, and delete the value of the property, respectively."
   ]
  },
  {
   "cell_type": "code",
   "execution_count": 29,
   "id": "05232411",
   "metadata": {},
   "outputs": [
    {
     "name": "stdout",
     "output_type": "stream",
     "text": [
      "100\n",
      "200\n"
     ]
    }
   ],
   "source": [
    "class BankAccount:\n",
    "    def __init__(self, balance):\n",
    "        self.__balance = balance\n",
    "        \n",
    "    def get_balance(self):\n",
    "        return self.__balance\n",
    "    \n",
    "    def set_balance(self, new_balance):\n",
    "        if new_balance < 0:\n",
    "            raise ValueError(\"Balance can't be negative\")\n",
    "        self.__balance = new_balance\n",
    "        \n",
    "    balance = property(get_balance, set_balance)\n",
    "        \n",
    "account = BankAccount(100)\n",
    "print(account.balance)\n",
    "account.balance = 200\n",
    "print(account.balance)"
   ]
  },
  {
   "cell_type": "markdown",
   "id": "b804d0aa",
   "metadata": {},
   "source": [
    "Trying to set a invalid value generates an error"
   ]
  },
  {
   "cell_type": "code",
   "execution_count": 30,
   "id": "4d0c13ab",
   "metadata": {},
   "outputs": [
    {
     "ename": "ValueError",
     "evalue": "Balance can't be negative",
     "output_type": "error",
     "traceback": [
      "\u001b[0;31m---------------------------------------------------------------------------\u001b[0m",
      "\u001b[0;31mValueError\u001b[0m                                Traceback (most recent call last)",
      "Input \u001b[0;32mIn [30]\u001b[0m, in \u001b[0;36m<cell line: 1>\u001b[0;34m()\u001b[0m\n\u001b[0;32m----> 1\u001b[0m \u001b[43maccount\u001b[49m\u001b[38;5;241;43m.\u001b[39;49m\u001b[43mbalance\u001b[49m \u001b[38;5;241m=\u001b[39m \u001b[38;5;241m-\u001b[39m\u001b[38;5;241m50\u001b[39m\n",
      "Input \u001b[0;32mIn [29]\u001b[0m, in \u001b[0;36mBankAccount.set_balance\u001b[0;34m(self, new_balance)\u001b[0m\n\u001b[1;32m      8\u001b[0m \u001b[38;5;28;01mdef\u001b[39;00m \u001b[38;5;21mset_balance\u001b[39m(\u001b[38;5;28mself\u001b[39m, new_balance):\n\u001b[1;32m      9\u001b[0m     \u001b[38;5;28;01mif\u001b[39;00m new_balance \u001b[38;5;241m<\u001b[39m \u001b[38;5;241m0\u001b[39m:\n\u001b[0;32m---> 10\u001b[0m         \u001b[38;5;28;01mraise\u001b[39;00m \u001b[38;5;167;01mValueError\u001b[39;00m(\u001b[38;5;124m\"\u001b[39m\u001b[38;5;124mBalance can\u001b[39m\u001b[38;5;124m'\u001b[39m\u001b[38;5;124mt be negative\u001b[39m\u001b[38;5;124m\"\u001b[39m)\n\u001b[1;32m     11\u001b[0m     \u001b[38;5;28mself\u001b[39m\u001b[38;5;241m.\u001b[39m__balance \u001b[38;5;241m=\u001b[39m new_balance\n",
      "\u001b[0;31mValueError\u001b[0m: Balance can't be negative"
     ]
    }
   ],
   "source": [
    "account.balance = -50"
   ]
  },
  {
   "cell_type": "markdown",
   "id": "3c3a4991",
   "metadata": {},
   "source": [
    "Properties can be used to define calculated values that are computed based on other properties or\n",
    "private fields of an object."
   ]
  },
  {
   "cell_type": "code",
   "execution_count": 32,
   "id": "dca35699",
   "metadata": {},
   "outputs": [
    {
     "name": "stdout",
     "output_type": "stream",
     "text": [
      "50\n"
     ]
    }
   ],
   "source": [
    "class Rectangle:\n",
    "    def __init__(self, width, height):\n",
    "        self._width = width\n",
    "        self._height = height\n",
    "        \n",
    "    @property\n",
    "    def area(self):\n",
    "        return self._width * self._height\n",
    "\n",
    "r = Rectangle(5, 10)\n",
    "print(r.area) "
   ]
  }
 ],
 "metadata": {
  "kernelspec": {
   "display_name": "Python [conda env:python_lectures]",
   "language": "python",
   "name": "conda-env-python_lectures-py"
  },
  "language_info": {
   "codemirror_mode": {
    "name": "ipython",
    "version": 3
   },
   "file_extension": ".py",
   "mimetype": "text/x-python",
   "name": "python",
   "nbconvert_exporter": "python",
   "pygments_lexer": "ipython3",
   "version": "3.8.16"
  }
 },
 "nbformat": 4,
 "nbformat_minor": 5
}
