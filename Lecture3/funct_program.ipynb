{
 "cells": [
  {
   "cell_type": "markdown",
   "id": "bcdac419",
   "metadata": {},
   "source": [
    "# Functional Programming\n",
    "Functional programming is a programming paradigm that treats computation as the evaluation of mathematical functions and avoids changing state and mutable data. In Python, functional programming can be achieved using various techniques and concepts. Here are some key concepts and features of functional programming in Python:\n",
    "\n",
    "- Pure Functions: Pure functions are functions that return the same output for the same input and have no side effects. \n",
    "\n",
    "- Immutability: Functional programming favors immutability, where data structures and values are not modified after they are created.\n",
    "\n",
    "- Higher-order Functions: In functional programming, functions are first-class citizens, which means they can be assigned to variables, passed as arguments to other functions, and returned as values from functions. \n",
    "\n",
    "- Lambda Functions: Lambda functions, also known as anonymous functions, are small, one-line functions that are defined without a name. \n",
    "\n",
    "\n",
    "## Python functions are first-class citizens\n",
    "\n",
    "In Python, functions are treated as objects that can be assigned to variables, passed as arguments\n",
    "to other functions, and returned as values from functions.\n",
    "This means that functions are not just a means of organizing code into reusable blocks, but they're\n",
    "also a powerful tool for building complex programs.\n",
    "\n",
    "Here's an example of how you can assign a function to a variable:"
   ]
  },
  {
   "cell_type": "code",
   "execution_count": 2,
   "id": "99d796d4",
   "metadata": {},
   "outputs": [],
   "source": [
    "def square(x):\n",
    "    return x ** 2\n",
    "\n",
    "f = square"
   ]
  },
  {
   "cell_type": "markdown",
   "id": "087df138",
   "metadata": {},
   "source": [
    "In this example, we've defined a function called square that takes one argument x and returns its square. We've then assigned this function to a variable named f. This means that we can now call f the same way that the original function:"
   ]
  },
  {
   "cell_type": "code",
   "execution_count": 3,
   "id": "83db4f5c",
   "metadata": {},
   "outputs": [
    {
     "name": "stdout",
     "output_type": "stream",
     "text": [
      "25\n"
     ]
    }
   ],
   "source": [
    "result = f(5)\n",
    "print(result)"
   ]
  },
  {
   "cell_type": "markdown",
   "id": "a528a037",
   "metadata": {},
   "source": [
    "Functions can also be passed as arguments to other functions. Here's an example:"
   ]
  },
  {
   "cell_type": "code",
   "execution_count": 4,
   "id": "99dc8dbe",
   "metadata": {},
   "outputs": [
    {
     "name": "stdout",
     "output_type": "stream",
     "text": [
      "25\n"
     ]
    }
   ],
   "source": [
    "def apply_func(func, x):\n",
    "    return func(x)\n",
    "\n",
    "result = apply_func(square, 5)\n",
    "print(result)"
   ]
  },
  {
   "cell_type": "markdown",
   "id": "bc5f4e9c",
   "metadata": {},
   "source": [
    "Passing functions has many useful applications in python. For example, in the **map** function."
   ]
  },
  {
   "cell_type": "code",
   "execution_count": 6,
   "id": "4a355f2a",
   "metadata": {},
   "outputs": [
    {
     "data": {
      "text/plain": [
       "[4, 6, 8, 10, 12]"
      ]
     },
     "execution_count": 6,
     "metadata": {},
     "output_type": "execute_result"
    }
   ],
   "source": [
    "numbers = [2, 3, 4, 5, 6]\n",
    "\n",
    "def double(x):\n",
    "    return x * 2\n",
    "\n",
    "def power2(x):\n",
    "    return x**2\n",
    "\n",
    "def my_map(values, fn):\n",
    "    return [fn(v) for v in values]\n",
    "\n",
    "my_map(numbers, double)"
   ]
  },
  {
   "cell_type": "code",
   "execution_count": 7,
   "id": "a4f5a015",
   "metadata": {},
   "outputs": [
    {
     "data": {
      "text/plain": [
       "[4, 9, 16, 25, 36]"
      ]
     },
     "execution_count": 7,
     "metadata": {},
     "output_type": "execute_result"
    }
   ],
   "source": [
    "my_map(numbers, power2)"
   ]
  },
  {
   "cell_type": "markdown",
   "id": "ad1e3e6a",
   "metadata": {},
   "source": [
    "We can chain maps together, like in this example"
   ]
  },
  {
   "cell_type": "code",
   "execution_count": 9,
   "id": "756d617e",
   "metadata": {},
   "outputs": [
    {
     "data": {
      "text/plain": [
       "[16, 36, 64, 100, 144]"
      ]
     },
     "execution_count": 9,
     "metadata": {},
     "output_type": "execute_result"
    }
   ],
   "source": [
    "my_map(my_map(numbers, double), power2)"
   ]
  },
  {
   "cell_type": "markdown",
   "id": "0f8396a1",
   "metadata": {},
   "source": [
    "Function can also be returned by other functions, like in this example:"
   ]
  },
  {
   "cell_type": "code",
   "execution_count": 10,
   "id": "1e25e331",
   "metadata": {},
   "outputs": [],
   "source": [
    "def create_adder(x):\n",
    "    def adder(y):\n",
    "        return x + y\n",
    "    return adder"
   ]
  },
  {
   "cell_type": "code",
   "execution_count": 14,
   "id": "2a03fbf5",
   "metadata": {},
   "outputs": [
    {
     "name": "stdout",
     "output_type": "stream",
     "text": [
      "8\n",
      "17\n"
     ]
    }
   ],
   "source": [
    "add5 = create_adder(5)\n",
    "print(add5(3))\n",
    "print(add5(12))"
   ]
  },
  {
   "cell_type": "code",
   "execution_count": 15,
   "id": "5faaf954",
   "metadata": {},
   "outputs": [
    {
     "name": "stdout",
     "output_type": "stream",
     "text": [
      "34\n",
      "134\n"
     ]
    }
   ],
   "source": [
    "add10 = create_adder(10)\n",
    "print(add10(24))\n",
    "print(add10(124))"
   ]
  },
  {
   "cell_type": "markdown",
   "id": "687eeb35",
   "metadata": {},
   "source": [
    "In this example, we define a function called create_adder() that takes a single argument x. The\n",
    "create_adder() function defines a new function called adder() inside of it, which takes a single\n",
    "argument y and returns the sum of x and y.\n",
    "\n",
    "The create_adder() function then returns the adder() function. When we call create_adder() and\n",
    "pass it a value of 5, for example, we get back a function that adds 5 to its argument.\n",
    "We can then assign the returned function to a new variable, such as add5.\n",
    "\n",
    "When we call add5(3), it calls the adder() function that was returned by create_adder(5) and passes in 3 as the argument. This results in the value 8 being returned.\n",
    "Similarly, we can call create_adder() again with a value of 10, and assign the returned function to\n",
    "a new variable called add10. When we call add10(24), it calls the adder() function that was returned\n",
    "by create_adder(10) and passes in 3 as the argument. This results in the value 343 being returned.\n",
    "\n",
    "Note: add5 and add10 are functions, indistinguible from other statically created functions"
   ]
  },
  {
   "cell_type": "code",
   "execution_count": 16,
   "id": "886f5fa1",
   "metadata": {},
   "outputs": [
    {
     "data": {
      "text/plain": [
       "function"
      ]
     },
     "execution_count": 16,
     "metadata": {},
     "output_type": "execute_result"
    }
   ],
   "source": [
    "type(add5)"
   ]
  },
  {
   "cell_type": "markdown",
   "id": "ffc426aa",
   "metadata": {},
   "source": [
    "Here are some additional examples of functions returning functions in Python. Practicing with\n",
    "these examples can help students master the concept."
   ]
  },
  {
   "cell_type": "code",
   "execution_count": 18,
   "id": "f0eb5994",
   "metadata": {},
   "outputs": [
    {
     "name": "stdout",
     "output_type": "stream",
     "text": [
      "True\n",
      "False\n",
      "True\n",
      "False\n"
     ]
    }
   ],
   "source": [
    "def create_divisibility_checker(divisor):\n",
    "    def is_divisible(n):\n",
    "        return n % divisor == 0\n",
    "    \n",
    "    return is_divisible\n",
    "\n",
    "check_for_2 = create_divisibility_checker(2)\n",
    "check_for_3 = create_divisibility_checker(3)\n",
    "print(check_for_2(10))\n",
    "print(check_for_2(7))\n",
    "print(check_for_3(9))\n",
    "print(check_for_3(8))"
   ]
  },
  {
   "cell_type": "code",
   "execution_count": 19,
   "id": "e490b592",
   "metadata": {},
   "outputs": [
    {
     "name": "stdout",
     "output_type": "stream",
     "text": [
      "8\n"
     ]
    }
   ],
   "source": [
    "def power(n):\n",
    "    def inner(x):\n",
    "        return x ** n\n",
    "    \n",
    "    return inner\n",
    "\n",
    "cube = power(3)\n",
    "print(cube(2))"
   ]
  },
  {
   "cell_type": "code",
   "execution_count": 20,
   "id": "6f6fbb3b",
   "metadata": {},
   "outputs": [
    {
     "name": "stdout",
     "output_type": "stream",
     "text": [
      "True\n",
      "False\n"
     ]
    }
   ],
   "source": [
    "def contains_substring(substring):\n",
    "    def inner(s):\n",
    "        return substring in s\n",
    "    return inner\n",
    "\n",
    "contains_hello = contains_substring(\"hello\")\n",
    "print(contains_hello(\"hello world\")) # Output: True\n",
    "print(contains_hello(\"goodbye\"))"
   ]
  },
  {
   "cell_type": "markdown",
   "id": "07f6f3a6",
   "metadata": {},
   "source": [
    "## Lambda functions\n",
    "\n",
    "Lambda functions, also known as anonymous functions, are small, one-line functions in Python that are defined without a name. They are a convenient way to create simple, inline functions without the need for a formal function definition.\n",
    "\n",
    "Here's the general syntax of a lambda function:\n",
    "\n",
    "**lambda** _arguments_: _expression_\n",
    "\n",
    "Lets see some examples:"
   ]
  },
  {
   "cell_type": "code",
   "execution_count": 22,
   "id": "dac32a60",
   "metadata": {},
   "outputs": [
    {
     "data": {
      "text/plain": [
       "8"
      ]
     },
     "execution_count": 22,
     "metadata": {},
     "output_type": "execute_result"
    }
   ],
   "source": [
    "add = lambda x, y: x + y\n",
    "\n",
    "add(3, 5)  "
   ]
  },
  {
   "cell_type": "markdown",
   "id": "b2cc1496",
   "metadata": {},
   "source": [
    "This is equivalent to the following function:"
   ]
  },
  {
   "cell_type": "code",
   "execution_count": 23,
   "id": "71269b79",
   "metadata": {},
   "outputs": [
    {
     "data": {
      "text/plain": [
       "8"
      ]
     },
     "execution_count": 23,
     "metadata": {},
     "output_type": "execute_result"
    }
   ],
   "source": [
    "def add2(x, y):\n",
    "    return x + y\n",
    "\n",
    "add2(3, 5)"
   ]
  },
  {
   "cell_type": "markdown",
   "id": "464021b1",
   "metadata": {},
   "source": [
    "Other examples:"
   ]
  },
  {
   "cell_type": "code",
   "execution_count": 24,
   "id": "5790c6c8",
   "metadata": {},
   "outputs": [
    {
     "data": {
      "text/plain": [
       "16"
      ]
     },
     "execution_count": 24,
     "metadata": {},
     "output_type": "execute_result"
    }
   ],
   "source": [
    "square = lambda x: x ** 2\n",
    "square(4)  "
   ]
  },
  {
   "cell_type": "code",
   "execution_count": 26,
   "id": "93c79eb4",
   "metadata": {},
   "outputs": [
    {
     "data": {
      "text/plain": [
       "8"
      ]
     },
     "execution_count": 26,
     "metadata": {},
     "output_type": "execute_result"
    }
   ],
   "source": [
    "my_max = lambda x, y: x if x > y else y\n",
    "my_max(4, 8)"
   ]
  },
  {
   "cell_type": "markdown",
   "id": "284f9359",
   "metadata": {},
   "source": [
    "Now, lets get lambda in action together in frequent contexts"
   ]
  },
  {
   "cell_type": "code",
   "execution_count": 27,
   "id": "1aa69e31",
   "metadata": {},
   "outputs": [
    {
     "data": {
      "text/plain": [
       "[(1, 'banana'), (2, 'cherry'), (3, 'apple')]"
      ]
     },
     "execution_count": 27,
     "metadata": {},
     "output_type": "execute_result"
    }
   ],
   "source": [
    "data = [(3, 'apple'), (1, 'banana'), (2, 'cherry')]\n",
    "sorted(data, key=lambda x: x[0])"
   ]
  },
  {
   "cell_type": "code",
   "execution_count": 29,
   "id": "780363b9",
   "metadata": {},
   "outputs": [
    {
     "data": {
      "text/plain": [
       "[(3, 'apple'), (2, 'cherry'), (1, 'banana')]"
      ]
     },
     "execution_count": 29,
     "metadata": {},
     "output_type": "execute_result"
    }
   ],
   "source": [
    "sorted(data, key=lambda x: -x[0])"
   ]
  },
  {
   "cell_type": "code",
   "execution_count": 28,
   "id": "5cb99b0b",
   "metadata": {},
   "outputs": [
    {
     "data": {
      "text/plain": [
       "[(3, 'apple'), (1, 'banana'), (2, 'cherry')]"
      ]
     },
     "execution_count": 28,
     "metadata": {},
     "output_type": "execute_result"
    }
   ],
   "source": [
    "sorted(data, key=lambda x: x[1])"
   ]
  },
  {
   "cell_type": "code",
   "execution_count": 32,
   "id": "95e5e519",
   "metadata": {},
   "outputs": [
    {
     "data": {
      "text/plain": [
       "[9, 36, 4, 64, 100, 2025, 16, 1024, 289]"
      ]
     },
     "execution_count": 32,
     "metadata": {},
     "output_type": "execute_result"
    }
   ],
   "source": [
    "values = [3, 6, 2, 8, 10, 45, 4, 32, 17]\n",
    "list(map(lambda x: x**2, values))"
   ]
  },
  {
   "cell_type": "code",
   "execution_count": 33,
   "id": "51f7873e",
   "metadata": {},
   "outputs": [
    {
     "data": {
      "text/plain": [
       "[10, 45, 32, 17]"
      ]
     },
     "execution_count": 33,
     "metadata": {},
     "output_type": "execute_result"
    }
   ],
   "source": [
    "list(filter(lambda x: x >= 10, values))"
   ]
  },
  {
   "cell_type": "code",
   "execution_count": 39,
   "id": "ad37a65d",
   "metadata": {},
   "outputs": [
    {
     "data": {
      "text/plain": [
       "['Name: Alice, Age: 25', 'Name: Bob, Age: 18', 'Name: Charlie, Age: 22']"
      ]
     },
     "execution_count": 39,
     "metadata": {},
     "output_type": "execute_result"
    }
   ],
   "source": [
    "names = ['Alice', 'Bob', 'Charlie']\n",
    "ages = [25, 18, 22]\n",
    "\n",
    "list(map(lambda x: f\"Name: {x[0]}, Age: {x[1]}\", zip(names, ages)))"
   ]
  },
  {
   "cell_type": "code",
   "execution_count": 41,
   "id": "df32166a",
   "metadata": {},
   "outputs": [
    {
     "data": {
      "text/plain": [
       "[{'name': 'Bob', 'age': 18},\n",
       " {'name': 'Charlie', 'age': 22},\n",
       " {'name': 'Alice', 'age': 25}]"
      ]
     },
     "execution_count": 41,
     "metadata": {},
     "output_type": "execute_result"
    }
   ],
   "source": [
    "students = [{'name': 'Alice', 'age': 25}, {'name': 'Bob', 'age': 18}, {'name': 'Charlie', 'age': 22}]\n",
    "students.sort(key=lambda x: x['age'])\n",
    "students"
   ]
  },
  {
   "cell_type": "code",
   "execution_count": 42,
   "id": "92c042df",
   "metadata": {},
   "outputs": [
    {
     "data": {
      "text/plain": [
       "[10, 40, 90, 160, 250]"
      ]
     },
     "execution_count": 42,
     "metadata": {},
     "output_type": "execute_result"
    }
   ],
   "source": [
    "list1 = [1, 2, 3, 4, 5]\n",
    "list2 = [10, 20, 30, 40, 50]\n",
    "list(map(lambda x, y: x * y, list1, list2))"
   ]
  },
  {
   "cell_type": "markdown",
   "id": "e35b3f68",
   "metadata": {},
   "source": [
    "## Some functional programming tools in action\n",
    "\n",
    "**partial**: Allows you to fix a certain number of arguments of a function and generate a new function with those fixed arguments. Here's an example:"
   ]
  },
  {
   "cell_type": "code",
   "execution_count": 43,
   "id": "2a331aae",
   "metadata": {},
   "outputs": [
    {
     "name": "stdout",
     "output_type": "stream",
     "text": [
      "25\n",
      "27\n"
     ]
    }
   ],
   "source": [
    "from functools import partial\n",
    "\n",
    "def power(base, exponent):\n",
    "    return base ** exponent\n",
    "\n",
    "square = partial(power, exponent=2)\n",
    "cube = partial(power, exponent=3)\n",
    "\n",
    "# Call the new functions\n",
    "result1 = square(5)  # Equivalent to power(5, 2)\n",
    "result2 = cube(3)  # Equivalent to power(3, 3)\n",
    "\n",
    "print(result1)  \n",
    "print(result2)  "
   ]
  },
  {
   "cell_type": "markdown",
   "id": "d5cf5aae",
   "metadata": {},
   "source": [
    "**reduce**"
   ]
  },
  {
   "cell_type": "code",
   "execution_count": 35,
   "id": "bab4f378",
   "metadata": {},
   "outputs": [
    {
     "data": {
      "text/plain": [
       "127"
      ]
     },
     "execution_count": 35,
     "metadata": {},
     "output_type": "execute_result"
    }
   ],
   "source": [
    "import functools as fn\n",
    "\n",
    "values = [3, 6, 2, 8, 10, 45, 4, 32, 17]\n",
    "fn.reduce(lambda x, y: x+y, values)"
   ]
  },
  {
   "cell_type": "code",
   "execution_count": 36,
   "id": "91c0fa51",
   "metadata": {
    "scrolled": true
   },
   "outputs": [
    {
     "data": {
      "text/plain": [
       "45"
      ]
     },
     "execution_count": 36,
     "metadata": {},
     "output_type": "execute_result"
    }
   ],
   "source": [
    "fn.reduce(lambda x, y: max(x, y), values)"
   ]
  },
  {
   "cell_type": "code",
   "execution_count": 37,
   "id": "b2589823",
   "metadata": {},
   "outputs": [
    {
     "data": {
      "text/plain": [
       "2"
      ]
     },
     "execution_count": 37,
     "metadata": {},
     "output_type": "execute_result"
    }
   ],
   "source": [
    "fn.reduce(lambda x, y: min(x, y), values)"
   ]
  },
  {
   "cell_type": "code",
   "execution_count": 38,
   "id": "0317791f",
   "metadata": {},
   "outputs": [
    {
     "data": {
      "text/plain": [
       "(2, 4, 6, 5, 1, 8, 0, 10)"
      ]
     },
     "execution_count": 38,
     "metadata": {},
     "output_type": "execute_result"
    }
   ],
   "source": [
    "fn.reduce(lambda x, y: x + y, [(2, 4, 6), (5, 1, 8), (0, 10)])"
   ]
  },
  {
   "cell_type": "markdown",
   "id": "644fcc1d",
   "metadata": {},
   "source": [
    "**lru_cache**(maxsize=128): Decorator to cache the results of a function."
   ]
  },
  {
   "cell_type": "code",
   "execution_count": 45,
   "id": "52bf870e",
   "metadata": {},
   "outputs": [
    {
     "name": "stdout",
     "output_type": "stream",
     "text": [
      "Time taken without lru_cache: 0.749089 seconds\n",
      "Time taken with lru_cache: 0.000189 seconds\n"
     ]
    }
   ],
   "source": [
    "import time\n",
    "from functools import lru_cache\n",
    "\n",
    "# Without lru_cache\n",
    "def fibonacci_without_cache(n):\n",
    "    if n <= 1:\n",
    "        return n\n",
    "    else:\n",
    "        return fibonacci_without_cache(n - 1) + fibonacci_without_cache(n - 2)\n",
    "\n",
    "# With lru_cache\n",
    "@lru_cache(maxsize=None)\n",
    "def fibonacci_with_cache(n):\n",
    "    if n <= 1:\n",
    "        return n\n",
    "    else:\n",
    "        return fibonacci_with_cache(n - 1) + fibonacci_with_cache(n - 2)\n",
    "\n",
    "# Calculate Fibonacci without lru_cache\n",
    "start_time = time.time()\n",
    "fibonacci_without_cache(30)  # Adjust the value as needed\n",
    "end_time = time.time()\n",
    "time_taken_without_cache = end_time - start_time\n",
    "\n",
    "# Calculate Fibonacci with lru_cache\n",
    "start_time = time.time()\n",
    "fibonacci_with_cache(30)  # Adjust the value as needed\n",
    "end_time = time.time()\n",
    "time_taken_with_cache = end_time - start_time\n",
    "\n",
    "# Compare time taken\n",
    "print(\"Time taken without lru_cache: {:.6f} seconds\".format(time_taken_without_cache))\n",
    "print(\"Time taken with lru_cache: {:.6f} seconds\".format(time_taken_with_cache))\n",
    "\n"
   ]
  },
  {
   "cell_type": "code",
   "execution_count": null,
   "id": "db9026dc",
   "metadata": {},
   "outputs": [],
   "source": []
  }
 ],
 "metadata": {
  "kernelspec": {
   "display_name": "Python [conda env:python_lectures]",
   "language": "python",
   "name": "conda-env-python_lectures-py"
  },
  "language_info": {
   "codemirror_mode": {
    "name": "ipython",
    "version": 3
   },
   "file_extension": ".py",
   "mimetype": "text/x-python",
   "name": "python",
   "nbconvert_exporter": "python",
   "pygments_lexer": "ipython3",
   "version": "3.8.16"
  }
 },
 "nbformat": 4,
 "nbformat_minor": 5
}
