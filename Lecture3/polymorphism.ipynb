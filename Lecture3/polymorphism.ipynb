{
 "cells": [
  {
   "cell_type": "markdown",
   "id": "d9acca14",
   "metadata": {},
   "source": [
    "# Polymorphism\n",
    "\n",
    "Polymorphism is a fundamental concept in object-oriented programming that allows objects of\n",
    "different classes to be treated as if they are the same type. In Python, polymorphism is achieved\n",
    "through the use of a common interface or set of methods that all objects in a particular class\n",
    "hierarchy share. This interface allows objects of different classes to be used interchangeably, making\n",
    "code more flexible and reusable.\n",
    "\n",
    "One common example of polymorphism in Python is with the use of the built-in len() function. The\n",
    "len() function can be used to determine the length of various types of objects, such as strings, lists,\n",
    "and dictionaries. This is possible because these objects all implement the common len () method,\n",
    "which the len() function calls internally."
   ]
  },
  {
   "cell_type": "code",
   "execution_count": null,
   "id": "b0b7c2d0",
   "metadata": {},
   "outputs": [],
   "source": [
    "d = \"this is some sample string\"\n",
    "l = [2, 4, 5, 7]\n",
    "print(d.__len__())\n",
    "print(l.__len__())"
   ]
  },
  {
   "cell_type": "markdown",
   "id": "7b3d245a",
   "metadata": {},
   "source": [
    "Note that the \\_\\_len\\_\\_ method is polymorphic, and allows two different classes to be treated in a\n",
    "similar way.\n",
    "\n",
    "Another example of polymorphism in Python is with the use of inheritance. When a subclass\n",
    "inherits from a superclass, it gains access to all of the superclass's methods and attributes. This\n",
    "allows the subclass to be used in the same way as the superclass, which makes code more modular\n",
    "and easier to maintain."
   ]
  },
  {
   "cell_type": "code",
   "execution_count": null,
   "id": "e81174ce",
   "metadata": {},
   "outputs": [],
   "source": [
    "class Animal:\n",
    "    def __init__(self, name):\n",
    "        self.name = name\n",
    "        \n",
    "class Dog(Animal):\n",
    "    def speak(self):\n",
    "        return \"Woof\"\n",
    "        \n",
    "class Dobermann(Dog):\n",
    "    def speak(self):\n",
    "        return \"Grrr\"\n",
    "    \n",
    "class Cat(Animal):\n",
    "    def speak(self):\n",
    "        return \"Meow\"\n",
    "    \n",
    "animals = [\n",
    "    Dog(\"Buddy\"),\n",
    "    Cat(\"Whiskers\"),\n",
    "    Dobermann(\"Killer\")\n",
    "]\n",
    "\n",
    "for animal in animals:\n",
    "    print(animal.speak())"
   ]
  },
  {
   "cell_type": "markdown",
   "id": "8f711464",
   "metadata": {},
   "source": [
    "Note that although the method call to speak() is the same for all animals, the behavior of the\n",
    "method changes depending on the specific implementation of the class.\n",
    "\n",
    "In Python, the base class is not strictly necessary in this example because of the way method\n",
    "resolution order (MRO) works in Python.\n",
    "\n",
    "When we define a subclass in Python, the interpreter looks for methods in the subclass first. If a\n",
    "method is not found in the subclass, it looks in its parent classes in the order specified by the MRO.\n",
    "The MRO is determined by the order of inheritance and is computed when the class is defined.\n",
    "\n",
    "##  Design patterns based on polymorphism\n",
    "Design patterns are reusable solutions to common problems that software developers face when\n",
    "designing and developing software systems. They provide a proven way to solve a problem, encap-\n",
    "sulating years of collective knowledge, experience and best practices into a single, reusable package.\n",
    "Design patterns are language-independent and can be applied to any programming language or\n",
    "technology stack. They are not specific to a particular programming paradigm or technology, but\n",
    "rather focus on the fundamental principles of software design.\n",
    "\n",
    "### Strategy Pattern\n",
    "This pattern defines a family of interchangeable algorithms and encapsulates each algorithm in a\n",
    "separate class. The client code can then select the algorithm it wants to use by passing an instance\n",
    "of the appropriate class to the context object."
   ]
  },
  {
   "cell_type": "code",
   "execution_count": null,
   "id": "e1c4ddfc",
   "metadata": {},
   "outputs": [],
   "source": [
    "class BubbleSortStrategy:\n",
    "    def sort(self, data):\n",
    "        result = data[:]\n",
    "        n = len(data)\n",
    "        for i in range(n - 1):\n",
    "            for j in range(n - i - 1):\n",
    "                if result[j] > result[j + 1]:\n",
    "                    result[j], result[j + 1] = result[j + 1], result[j]\n",
    "        return result\n",
    "        \n",
    "class QuickSortStrategy:\n",
    "    def sort(self, data):\n",
    "        if len(data) <= 1:\n",
    "            return data\n",
    "        pivot = data[len(data) // 2]\n",
    "        smaller = []\n",
    "        equal = []\n",
    "        larger = []\n",
    "\n",
    "        for element in data:\n",
    "            if element < pivot:\n",
    "                smaller.append(element)\n",
    "            elif element == pivot:\n",
    "                equal.append(element)\n",
    "            else:\n",
    "                larger.append(element)\n",
    "\n",
    "        return self.sort(smaller) + equal + self.sort(larger)\n",
    "        \n",
    "\n",
    "class MinMaxCalculator:\n",
    "    def __init__(self, sort_strategy):\n",
    "        self.sort_strategy = sort_strategy\n",
    "        \n",
    "    def calculate(self, data):\n",
    "        ordered = self.sort_strategy.sort(data)\n",
    "        return ordered[0], ordered[-1]"
   ]
  },
  {
   "cell_type": "code",
   "execution_count": null,
   "id": "c6944b5d",
   "metadata": {},
   "outputs": [],
   "source": [
    "data = [5, 2, 7, 3, 8, 1, 4, 9, 6]\n",
    "calculator = MinMaxCalculator(BubbleSortStrategy())\n",
    "print(calculator.calculate(data))\n",
    "calculator = MinMaxCalculator(QuickSortStrategy())\n",
    "print(calculator.calculate(data))"
   ]
  },
  {
   "cell_type": "markdown",
   "id": "d8538922",
   "metadata": {},
   "source": [
    "### Template Method Pattern\n",
    "This pattern defines the skeleton of an algorithm in a base class and lets subclasses override specific\n",
    "steps of the algorithm without changing its structure. This pattern relies heavily on polymorphism\n",
    "to achieve its flexibility."
   ]
  },
  {
   "cell_type": "code",
   "execution_count": null,
   "id": "a424eb21",
   "metadata": {},
   "outputs": [],
   "source": [
    "class Animal:\n",
    "    def make_sound(self):\n",
    "        self._prepare_sound()\n",
    "        self._produce_sound()\n",
    "        self._finalize_sound()\n",
    "        \n",
    "    def _prepare_sound(self):\n",
    "        pass\n",
    "    \n",
    "    def _produce_sound(self):\n",
    "        pass\n",
    "    \n",
    "    def _finalize_sound(self):\n",
    "        pass\n",
    "        \n",
    "class Cat(Animal):\n",
    "    def _prepare_sound(self):\n",
    "        print(\"A cat is meowing...\")\n",
    "        \n",
    "    def _produce_sound(self):\n",
    "        print(\"Meow! Meow!\")\n",
    "        \n",
    "    def _finalize_sound(self):\n",
    "        print(\"The cat has finished meowing.\")\n",
    "    \n",
    "class Dog(Animal):\n",
    "    def _prepare_sound(self):\n",
    "        print(\"A dog is barking...\")\n",
    "        \n",
    "    def _produce_sound(self):\n",
    "        print(\"Woof! Woof!\")\n",
    "        \n",
    "    def _finalize_sound(self):\n",
    "        print(\"The dog has finished barking.\")\n",
    "        \n",
    "class Dobermann(Dog):\n",
    "    def _produce_sound(self):\n",
    "        print(\"Grrrr!\")"
   ]
  },
  {
   "cell_type": "code",
   "execution_count": null,
   "id": "b185fe2c",
   "metadata": {},
   "outputs": [],
   "source": [
    "cat = Cat()\n",
    "cat.make_sound()"
   ]
  },
  {
   "cell_type": "code",
   "execution_count": null,
   "id": "064a94d3",
   "metadata": {},
   "outputs": [],
   "source": [
    "dog = Dog()\n",
    "dog.make_sound()"
   ]
  },
  {
   "cell_type": "code",
   "execution_count": null,
   "id": "3d8fe8f3",
   "metadata": {},
   "outputs": [],
   "source": [
    "doby = Dobermann()\n",
    "doby.make_sound()"
   ]
  },
  {
   "cell_type": "markdown",
   "id": "889a633d",
   "metadata": {},
   "source": [
    "In this example, the Animal class defines the template method, which specifies the order of actions\n",
    "necessary for an animal to make a sound. The concrete subclasses Dog and Cat then provide\n",
    "their own implementations of the \\_prepare_sound(), \\_produce_sound(), and \\_finalize_sound()\n",
    "methods to create the specific sound of each animal.\n",
    "\n",
    "It's worth noting that the Dobermann class modify the _produce_sound() method in the Dog class\n",
    "to create a different sound for the Dobermann, while the other methods are re-used"
   ]
  },
  {
   "cell_type": "markdown",
   "id": "d772b91b",
   "metadata": {},
   "source": [
    "### Decorator Pattern\n",
    "This pattern allows behavior to be added to an individual object, either statically or dynamically,\n",
    "without affecting the behavior of other objects from the same class."
   ]
  },
  {
   "cell_type": "code",
   "execution_count": null,
   "id": "cb3e6fae",
   "metadata": {},
   "outputs": [],
   "source": [
    "class Dog(Animal):\n",
    "    def make_sound(self):\n",
    "        return \"Woof! Woof!\"\n",
    "    \n",
    "class Cat(Animal):\n",
    "    def make_sound(self):\n",
    "        return \"Meow! Meow!\"\n",
    "    \n",
    "class AnimalDecorator(Animal):\n",
    "    def __init__(self, animal):\n",
    "        self._animal = animal\n",
    "\n",
    "class LoudAnimalDecorator(AnimalDecorator):\n",
    "    def make_sound(self):\n",
    "        sound = self._animal.make_sound()\n",
    "        return f\"{sound.upper()} {sound.upper()}!\"\n",
    "    \n",
    "class SleepyAnimalDecorator(AnimalDecorator):\n",
    "    def make_sound(self):\n",
    "        sound = self._animal.make_sound()\n",
    "        return f\"*yawn* {sound.lower()}\""
   ]
  },
  {
   "cell_type": "code",
   "execution_count": null,
   "id": "4f4b3448",
   "metadata": {},
   "outputs": [],
   "source": [
    "dog = Dog()\n",
    "dog.make_sound()"
   ]
  },
  {
   "cell_type": "code",
   "execution_count": null,
   "id": "91d67808",
   "metadata": {},
   "outputs": [],
   "source": [
    "loud_dog = LoudAnimalDecorator(dog)\n",
    "loud_dog.make_sound()"
   ]
  },
  {
   "cell_type": "code",
   "execution_count": null,
   "id": "22a51d4a",
   "metadata": {},
   "outputs": [],
   "source": [
    "cat = Cat()\n",
    "cat.make_sound()"
   ]
  },
  {
   "cell_type": "code",
   "execution_count": null,
   "id": "505cc93c",
   "metadata": {},
   "outputs": [],
   "source": [
    "sleepy_cat = SleepyAnimalDecorator(cat)\n",
    "sleepy_cat.make_sound()"
   ]
  },
  {
   "cell_type": "markdown",
   "id": "fbfa60ca",
   "metadata": {},
   "source": [
    "Each decorator extends this base class and wraps a concrete Animal instance, providing additional functionality by\n",
    "modifying the make_sound() method.\n",
    "\n",
    "In this example, we define two concrete decorators: LoudAnimalDecorator and SleepyAnimalDecorator. LoudAnimalDecorator modifies the make_sound() method to make the sound twice as loud, while SleepyAnimalDecorator modifies the make_sound() method to add a sleepy prefix to the sound.\n",
    "\n",
    "### Adapter Pattern\n",
    "In this pattern, an adapter class is used to convert the interface of one class into another interface\n",
    "that the client code expects. This allows incompatible classes to work together by wrapping the\n",
    "interface of one class with an adapter that conforms to the interface of the other class."
   ]
  },
  {
   "cell_type": "code",
   "execution_count": null,
   "id": "22ed1eda",
   "metadata": {},
   "outputs": [],
   "source": [
    "class Rectangle:\n",
    "    def __init__(self, width, height):\n",
    "        self.width = width\n",
    "        self.height = height\n",
    "        \n",
    "    def area(self):\n",
    "        return self.width * self.height\n",
    "    \n",
    "class NewRectangle:\n",
    "    def __init__(self, x1, y1, x2, y2):\n",
    "        self.x1 = x1\n",
    "        self.y1 = y1\n",
    "        self.x2 = x2\n",
    "        self.y2 = y2\n",
    "        \n",
    "class RectangleAdapter:\n",
    "    def __init__(self, new_rect):\n",
    "        self.new_rect = new_rect\n",
    "        \n",
    "    @property\n",
    "    def width(self):\n",
    "        return abs(self.new_rect.x2 - self.new_rect.x1)\n",
    "    \n",
    "    @property\n",
    "    def height(self):\n",
    "        return abs(self.new_rect.y2 - self.new_rect.y1)\n",
    "    \n",
    "    def area(self):\n",
    "        return self.width * self.height"
   ]
  },
  {
   "cell_type": "code",
   "execution_count": null,
   "id": "b18ff548",
   "metadata": {},
   "outputs": [],
   "source": [
    "def print_rectangle_data(rect):\n",
    "    print(f\"Rectangle data: width={rect.width}, height={rect.height}, area={rect.area()}\")"
   ]
  },
  {
   "cell_type": "code",
   "execution_count": null,
   "id": "4ed774ff",
   "metadata": {},
   "outputs": [],
   "source": [
    "old_rect = Rectangle(5, 10)\n",
    "print_rectangle_data(old_rect)"
   ]
  },
  {
   "cell_type": "code",
   "execution_count": null,
   "id": "1b10d684",
   "metadata": {},
   "outputs": [],
   "source": [
    "new_rect = NewRectangle(2, 15, 11, 27)\n",
    "print_rectangle_data(RectangleAdapter(new_rect))"
   ]
  },
  {
   "cell_type": "markdown",
   "id": "3de5013c",
   "metadata": {},
   "source": [
    "In this code, the adapter pattern is used to adapt the NewRectangle class to the Rectangle class\n",
    "interface, so that both classes can be used interchangeably by the client code.\n",
    "The Rectangle class represents a rectangle using width and height attributes, while the NewRect-\n",
    "angle class represents a rectangle using the coordinates of its top-left and bottom-right corners (x1,\n",
    "y1, x2, and y2) and has no width() or height() methods.\n",
    "\n",
    "To use both classes interchangeably, an adapter class called RectangleAdapter is created. The\n",
    "adapter class takes a NewRectangle instance as input and exposes the same width, height, and\n",
    "area() methods that Rectangle has, but internally calculates the width and height properties of the\n",
    "rectangle from the x1, y1, x2, and y2 properties of the NewRectangle instance."
   ]
  }
 ],
 "metadata": {
  "kernelspec": {
   "display_name": "Python [conda env:python_lectures]",
   "language": "python",
   "name": "conda-env-python_lectures-py"
  },
  "language_info": {
   "codemirror_mode": {
    "name": "ipython",
    "version": 3
   },
   "file_extension": ".py",
   "mimetype": "text/x-python",
   "name": "python",
   "nbconvert_exporter": "python",
   "pygments_lexer": "ipython3",
   "version": "3.8.16"
  }
 },
 "nbformat": 4,
 "nbformat_minor": 5
}
