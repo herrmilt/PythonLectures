{
 "cells": [
  {
   "cell_type": "markdown",
   "id": "4575f5a9",
   "metadata": {},
   "source": [
    "# Class Inheritance\n",
    "In object-oriented programming, inheritance is a feature that allows a class to inherit properties and\n",
    "derived class or subclass , and the class that is being inherited from is called the base class or superclass .\n",
    "methods from another class. The class that inherits properties and methods is called the\n",
    "Here's an example:"
   ]
  },
  {
   "cell_type": "code",
   "execution_count": null,
   "id": "a41870f4",
   "metadata": {},
   "outputs": [],
   "source": [
    "class Person:\n",
    "    def __init__(self, name, age):\n",
    "        self.name = name\n",
    "        self.age = age\n",
    "        \n",
    "    def say_hello(self):\n",
    "        print(f\"Hello! I am {self.name} and I am {self.age}\")\n",
    "    \n",
    "class Student(Person):\n",
    "    def __init__(self, name, age, student_id):\n",
    "        super().__init__(name, age)\n",
    "        self.student_id = student_id\n",
    "\n",
    "    def get_student_info(self):\n",
    "        return f\"Name: {self.name}, Age: {self.age}, Student ID: {self.student_id}\"\n",
    "\n",
    "student = Student(\"John\", 23, \"st_mat_23\")\n",
    "student.say_hello()\n",
    "student.get_student_info()"
   ]
  },
  {
   "cell_type": "markdown",
   "id": "31c7cfc1",
   "metadata": {},
   "source": [
    "Two important comments: \n",
    "- Since the class Student inherits from the class Person, it includes all the properties and methods of the Person class in addition to its own.\n",
    "- The constructor of the Student class includes all the information required by the constructor of the Person class, and it calls the constructor of the Person class within its own constructor.\n",
    "\n",
    "In Python, a base class and its derived classes can have a method with the same name. This is called method overriding.\n",
    "-  When a method is called on an object, the version of the method that is used is the one defined in the actual object's class. \n",
    "- If the method is not defined in the object's class, then Python will look for it in the base class and its ancestors.\n",
    "\n",
    "This means that a derived class can provide its own implementation of a method that it has inherited\n",
    "from its base class. The derived class's method can have the same name as the method in the base\n",
    "class, but with a different implementation. When an object of the derived class is created and the\n",
    "method is called on it, the derived class's method will be used instead of the one in the base class."
   ]
  },
  {
   "cell_type": "code",
   "execution_count": null,
   "id": "e882fc68",
   "metadata": {},
   "outputs": [],
   "source": [
    "class Animal:\n",
    "    def speak(self):\n",
    "        print(\"Animal speaks\")\n",
    "        \n",
    "    def speak_twice(self):\n",
    "        self.speak()\n",
    "        self.speak()\n",
    "    \n",
    "class Dog(Animal):\n",
    "    def speak(self):\n",
    "        print(\"Dog barks\")"
   ]
  },
  {
   "cell_type": "code",
   "execution_count": null,
   "id": "09aaa936",
   "metadata": {},
   "outputs": [],
   "source": [
    "animal = Animal()\n",
    "animal.speak()"
   ]
  },
  {
   "cell_type": "code",
   "execution_count": null,
   "id": "56a00199",
   "metadata": {},
   "outputs": [],
   "source": [
    "animal.speak_twice()"
   ]
  },
  {
   "cell_type": "code",
   "execution_count": null,
   "id": "c8ad8066",
   "metadata": {},
   "outputs": [],
   "source": [
    "dog = Dog()\n",
    "dog.speak()"
   ]
  },
  {
   "cell_type": "code",
   "execution_count": null,
   "id": "c9d2cc41",
   "metadata": {},
   "outputs": [],
   "source": [
    "dog.speak_twice()"
   ]
  },
  {
   "cell_type": "markdown",
   "id": "d94fd566",
   "metadata": {},
   "source": [
    "It's worth noting that in the example above, the call to dog.speak_twice() correctly calls the\n",
    "Dog.speak() method, even though the same method name is defined in the Animal class.\n",
    "\n",
    "This is because Python looks for the method in the actual object's class first and uses the method\n",
    "defined in the derived class, if available.\n",
    "\n",
    "Lets see other example of class inheritance, where the derived class uses a method of the base class:"
   ]
  },
  {
   "cell_type": "code",
   "execution_count": null,
   "id": "849c6655",
   "metadata": {},
   "outputs": [],
   "source": [
    "class Vehicle:\n",
    "    def __init__(self, make, model, year):\n",
    "        self.make = make\n",
    "        self.model = model\n",
    "        self.year = year\n",
    "\n",
    "    def as_dictionary(self):\n",
    "        return {\n",
    "        \"make\": self.make,\n",
    "        \"model\": self.model,\n",
    "        \"year\": self.year,\n",
    "        }\n",
    "    \n",
    "class Car(Vehicle):\n",
    "    def __init__(self, make, model, year, num_doors):\n",
    "        super().__init__(make, model, year)\n",
    "        self.num_doors = num_doors\n",
    "        \n",
    "    def as_dictionary(self):\n",
    "        base_dict = super().as_dictionary()\n",
    "        base_dict.update({\"num_doors\": self.num_doors})\n",
    "        return base_dict\n",
    "  "
   ]
  },
  {
   "cell_type": "code",
   "execution_count": null,
   "id": "e73ee7fc",
   "metadata": {},
   "outputs": [],
   "source": [
    "car = Car(\"Toyota\", \"Corolla\", 2021, 4)\n",
    "car.as_dictionary()"
   ]
  },
  {
   "cell_type": "markdown",
   "id": "d38c7f1f",
   "metadata": {},
   "source": [
    "Here's an example Python code that defines different shapes and calculates their areas:"
   ]
  },
  {
   "cell_type": "code",
   "execution_count": null,
   "id": "82b2dc72",
   "metadata": {},
   "outputs": [],
   "source": [
    "import math\n",
    "\n",
    "class Shape:\n",
    "    def get_name(self):\n",
    "        return self.name\n",
    "\n",
    "class Rectangle(Shape):\n",
    "    def __init__(self, a, b):\n",
    "        self.a = a\n",
    "        self.b = b\n",
    "        self.name = 'rectangle'\n",
    "    \n",
    "    def area(self):\n",
    "        return self.a * self.b\n",
    "    \n",
    "class Circle(Shape):\n",
    "    def __init__(self, radius):\n",
    "        self.radius = radius\n",
    "        self.name = 'circle'\n",
    "        \n",
    "    def area(self):\n",
    "        return math.pi * self.radius ** 2\n",
    "    \n",
    "class Triangle(Shape):\n",
    "    def __init__(self, base, height):\n",
    "        self.base = base\n",
    "        self.height = height\n",
    "        self.name = 'triangle'\n",
    "        \n",
    "    def area(self):\n",
    "        return 0.5 * self.base * self.height"
   ]
  },
  {
   "cell_type": "code",
   "execution_count": null,
   "id": "9eebfee7",
   "metadata": {},
   "outputs": [],
   "source": [
    "shapes = [\n",
    "    Rectangle(4, 5), \n",
    "    Circle(3),\n",
    "    Triangle(6, 7)\n",
    "]\n",
    "for s in shapes:\n",
    "    print(\"Area of\", s.get_name(), \"is\", s.area())"
   ]
  },
  {
   "cell_type": "markdown",
   "id": "10d25766",
   "metadata": {},
   "source": [
    "Lets present a final example"
   ]
  },
  {
   "cell_type": "code",
   "execution_count": null,
   "id": "a2ee165f",
   "metadata": {},
   "outputs": [],
   "source": [
    "import re\n",
    "\n",
    "class TextProcessor:\n",
    "    def __init__(self, text):\n",
    "        self.text = text\n",
    "        \n",
    "    def process(self):\n",
    "        raise NotImplementedError(\"process() not implemented\")\n",
    "        \n",
    "class WordCounter(TextProcessor):\n",
    "    def process(self):\n",
    "        words = re.findall(r'\\w+', self.text)\n",
    "        return len(words)\n",
    "    \n",
    "class LineCounter(TextProcessor):\n",
    "    def process(self):\n",
    "        lines = self.text.split('\\n')\n",
    "        return len(lines)\n",
    "    \n",
    "class CharacterCounter(TextProcessor):\n",
    "    def process(self):\n",
    "        return len(self.text)\n",
    "    \n",
    "class VowelCounter(TextProcessor):\n",
    "    def process(self):\n",
    "        vowels = re.findall(r'[aeiouAEIOU]', self.text)\n",
    "        return len(vowels)"
   ]
  },
  {
   "cell_type": "code",
   "execution_count": null,
   "id": "bf0bfef4",
   "metadata": {},
   "outputs": [],
   "source": [
    "text = \"The quick brown fox\\nJumped over the lazy dog\"\n",
    "word_counter = WordCounter(text)\n",
    "line_counter = LineCounter(text)\n",
    "char_counter = CharacterCounter(text)\n",
    "vowel_counter = VowelCounter(text)\n",
    "print(\"Word count:\", word_counter.process())\n",
    "print(\"Line count:\", line_counter.process())\n",
    "print(\"Character count:\", char_counter.process())\n",
    "print(\"Vowel count:\", vowel_counter.process())"
   ]
  },
  {
   "cell_type": "markdown",
   "id": "95179f51",
   "metadata": {},
   "source": [
    "Containment-delegation vs Inheritance\n",
    "\n",
    "Containment delegation and inheritance are both object-oriented programming concepts that allow\n",
    "one object to use the functionality of another object. However, there are some advantages to using\n",
    "containment delegation over inheritance:\n",
    "- Flexibility: Containment delegation allows for greater flexibility than inheritance because it can be used to combine functionality from multiple objects. In contrast, inheritance creates a tight coupling between a class and its parent class, which can limit the flexibility of the design.\n",
    "- Encapsulation: Containment delegation supports better encapsulation of objects than inheritance because it allows objects to control their internal state and expose only the necessary functionality. This makes the design more modular and easier to maintain.\n",
    "- Composition: Containment delegation supports composition, which is the process of combining simpler objects to create more complex ones. This is useful when the functionality needed is not available in a single class or when the functionality needs to change dynamically at runtime.\n",
    "- Reduced complexity: Containment delegation can help to reduce the complexity of the code by breaking it down into smaller, more manageable pieces. In contrast, inheritance can create complex class hierarchies that are di\u001e",
    "cult to understand and maintain.\n",
    "- Testing: Containment delegation can make it easier to test code because it allows objects to be tested in isolation. In contrast, inheritance can make testing more dificult because changes made to a parent class can affect all of its child classes.\n",
    "\n",
    "Overall, containment delegation can be a powerful tool for designing flexible, modular, and maintainable object-oriented software. While inheritance can also be useful in certain situations, containment delegation is often a better choice when flexibility and maintainability are top priorities."
   ]
  },
  {
   "cell_type": "markdown",
   "id": "79c763ae",
   "metadata": {},
   "source": [
    "Lets see this in action with an example. Lets create the code for calculating the volume of some figures.\n",
    "\n",
    "We realize the we can re-use the area calculation of basid 2D shapes that we created before."
   ]
  },
  {
   "cell_type": "code",
   "execution_count": null,
   "id": "42151f10",
   "metadata": {},
   "outputs": [],
   "source": [
    "class Cylinder(Circle):    \n",
    "    def __init__(self, radius, height):\n",
    "        super().__init__(radius)\n",
    "        self.height = height\n",
    "        \n",
    "    def volume(self):\n",
    "        return self.area() * self.height\n",
    "    \n",
    "class RectangularPrism(Rectangle):\n",
    "    def __init__(self, a, b, height):\n",
    "        super().__init__(a, b)\n",
    "        self.height = height\n",
    "        \n",
    "    def volume(self):\n",
    "        return self.area() * self.height\n",
    "    "
   ]
  },
  {
   "cell_type": "code",
   "execution_count": null,
   "id": "ba2a2ad5",
   "metadata": {},
   "outputs": [],
   "source": [
    "cylinder = Cylinder(10, 5)\n",
    "cylinder.volume()"
   ]
  },
  {
   "cell_type": "code",
   "execution_count": null,
   "id": "045157bd",
   "metadata": {},
   "outputs": [],
   "source": [
    "prism = RectangularPrism(4, 5, 3)\n",
    "prism.volume()"
   ]
  },
  {
   "cell_type": "markdown",
   "id": "dc601886",
   "metadata": {},
   "source": [
    "We realized that the method _volume_ is identical on each method, and that we are using inheritance only to save repeating lines of code.\n",
    "\n",
    "A better solution is, instead of using inheritance, to contain the figure in base, and delegate it the calculus of the area. Lets see what does the final code is:"
   ]
  },
  {
   "cell_type": "code",
   "execution_count": null,
   "id": "f1f54cee",
   "metadata": {},
   "outputs": [],
   "source": [
    "class Prism:\n",
    "    def __init__(self, base_figure, height):\n",
    "        self.base_figure = base_figure\n",
    "        self.height = height\n",
    "        \n",
    "    def volume(self):\n",
    "        return self.base_figure.area() * self.height    \n",
    "    \n",
    "\n",
    "class Cylinder(Prism):    \n",
    "    def __init__(self, radius, height):\n",
    "        super().__init__(Circle(radius), height)\n",
    "\n",
    "    \n",
    "class RectangularPrism(Prism):\n",
    "    def __init__(self, a, b, height):\n",
    "        super().__init__(Rectangle(a, b), height)       \n",
    "        "
   ]
  },
  {
   "cell_type": "code",
   "execution_count": null,
   "id": "a81f9aa5",
   "metadata": {},
   "outputs": [],
   "source": [
    "cylinder = Cylinder(10, 5)\n",
    "cylinder.volume()"
   ]
  },
  {
   "cell_type": "code",
   "execution_count": null,
   "id": "63e13dcd",
   "metadata": {},
   "outputs": [],
   "source": [
    "prism = RectangularPrism(4, 5, 3)\n",
    "prism.volume()"
   ]
  }
 ],
 "metadata": {
  "kernelspec": {
   "display_name": "Python [conda env:python_lectures]",
   "language": "python",
   "name": "conda-env-python_lectures-py"
  },
  "language_info": {
   "codemirror_mode": {
    "name": "ipython",
    "version": 3
   },
   "file_extension": ".py",
   "mimetype": "text/x-python",
   "name": "python",
   "nbconvert_exporter": "python",
   "pygments_lexer": "ipython3",
   "version": "3.8.16"
  }
 },
 "nbformat": 4,
 "nbformat_minor": 5
}
