{
 "cells": [
  {
   "cell_type": "markdown",
   "id": "6a43f31c",
   "metadata": {},
   "source": [
    "# Numpy Introduction\n",
    "\n",
    "NumPy is a powerful Python library for numerical computing. It stands for \"Numerical Python\" and provides efficient data structures, mathematical functions, and tools for working with large arrays and matrices. "
   ]
  },
  {
   "cell_type": "code",
   "execution_count": 16,
   "id": "922de511",
   "metadata": {},
   "outputs": [
    {
     "data": {
      "text/plain": [
       "'1.24.4'"
      ]
     },
     "execution_count": 16,
     "metadata": {},
     "output_type": "execute_result"
    }
   ],
   "source": [
    "import numpy as np\n",
    "np.__version__"
   ]
  },
  {
   "cell_type": "markdown",
   "id": "5ba8ab5d",
   "metadata": {},
   "source": [
    "## Create arrays from lists"
   ]
  },
  {
   "cell_type": "code",
   "execution_count": 17,
   "id": "7b9872c7",
   "metadata": {},
   "outputs": [
    {
     "name": "stdout",
     "output_type": "stream",
     "text": [
      "[2 3 4]\n",
      "(3,)\n"
     ]
    },
    {
     "data": {
      "text/plain": [
       "numpy.ndarray"
      ]
     },
     "execution_count": 17,
     "metadata": {},
     "output_type": "execute_result"
    }
   ],
   "source": [
    "a = np.array([2, 3, 4])\n",
    "print(a)\n",
    "print(a.shape)\n",
    "type(a)"
   ]
  },
  {
   "cell_type": "markdown",
   "id": "0e686a26",
   "metadata": {},
   "source": [
    "Get and set values"
   ]
  },
  {
   "cell_type": "code",
   "execution_count": 18,
   "id": "8660e74a",
   "metadata": {},
   "outputs": [
    {
     "name": "stdout",
     "output_type": "stream",
     "text": [
      "4\n",
      "[2 3 9]\n"
     ]
    }
   ],
   "source": [
    "print(a[2])\n",
    "a[2] = 9\n",
    "print(a)"
   ]
  },
  {
   "cell_type": "markdown",
   "id": "d1eb6e7d",
   "metadata": {},
   "source": [
    "Two dimensional arrays"
   ]
  },
  {
   "cell_type": "code",
   "execution_count": 19,
   "id": "347be1fc",
   "metadata": {},
   "outputs": [
    {
     "name": "stdout",
     "output_type": "stream",
     "text": [
      "[[2 3 4]\n",
      " [5 6 7]]\n",
      "(2, 3)\n"
     ]
    }
   ],
   "source": [
    "b = np.array([[2, 3, 4], [5, 6, 7]])\n",
    "print(b)\n",
    "print(b.shape)"
   ]
  },
  {
   "cell_type": "markdown",
   "id": "973903e5",
   "metadata": {},
   "source": [
    "Change values in 2d arrays"
   ]
  },
  {
   "cell_type": "code",
   "execution_count": 20,
   "id": "3bbf31e1",
   "metadata": {},
   "outputs": [
    {
     "name": "stdout",
     "output_type": "stream",
     "text": [
      "[[2 3 4]\n",
      " [5 6 9]]\n"
     ]
    }
   ],
   "source": [
    "b[1, 2] = 9\n",
    "print(b)"
   ]
  },
  {
   "cell_type": "markdown",
   "id": "646ce8ce",
   "metadata": {},
   "source": [
    "Three dimensial array"
   ]
  },
  {
   "cell_type": "code",
   "execution_count": 21,
   "id": "427acef6",
   "metadata": {},
   "outputs": [
    {
     "name": "stdout",
     "output_type": "stream",
     "text": [
      "[[[2 1 2 5]\n",
      "  [4 2 5 2]\n",
      "  [9 8 7 6]]\n",
      "\n",
      " [[3 5 4 1]\n",
      "  [8 9 2 6]\n",
      "  [0 1 8 8]]]\n",
      "(2, 3, 4)\n"
     ]
    }
   ],
   "source": [
    "c = np.array([[[2, 1, 2, 5], [4,2, 5, 2], [9, 8, 7, 6]],\n",
    "              [[3,5, 4, 1], [8, 9, 2, 6], [0,1, 8, 8]]])\n",
    "print(c)\n",
    "print(c.shape)"
   ]
  },
  {
   "cell_type": "markdown",
   "id": "2bcc7a1a",
   "metadata": {},
   "source": [
    "Change value in 3D array"
   ]
  },
  {
   "cell_type": "code",
   "execution_count": 22,
   "id": "2ab8506e",
   "metadata": {},
   "outputs": [
    {
     "name": "stdout",
     "output_type": "stream",
     "text": [
      "[[[11  1  2  5]\n",
      "  [ 4  2  5  2]\n",
      "  [ 9  8  7  6]]\n",
      "\n",
      " [[ 3  5  4  1]\n",
      "  [ 8  9  2  6]\n",
      "  [ 0  1  8  8]]]\n"
     ]
    }
   ],
   "source": [
    "c[0, 0, 0] = 11\n",
    "print(c)"
   ]
  },
  {
   "cell_type": "markdown",
   "id": "b7710d52",
   "metadata": {},
   "source": [
    "You need to take care of the number of dimensions"
   ]
  },
  {
   "cell_type": "code",
   "execution_count": 23,
   "id": "31eede08",
   "metadata": {},
   "outputs": [
    {
     "ename": "IndexError",
     "evalue": "index 2 is out of bounds for axis 0 with size 2",
     "output_type": "error",
     "traceback": [
      "\u001b[0;31m---------------------------------------------------------------------------\u001b[0m",
      "\u001b[0;31mIndexError\u001b[0m                                Traceback (most recent call last)",
      "Input \u001b[0;32mIn [23]\u001b[0m, in \u001b[0;36m<cell line: 1>\u001b[0;34m()\u001b[0m\n\u001b[0;32m----> 1\u001b[0m \u001b[43mc\u001b[49m\u001b[43m[\u001b[49m\u001b[38;5;241;43m2\u001b[39;49m\u001b[43m,\u001b[49m\u001b[43m \u001b[49m\u001b[38;5;241;43m3\u001b[39;49m\u001b[43m]\u001b[49m \u001b[38;5;241m=\u001b[39m \u001b[38;5;241m8\u001b[39m\n",
      "\u001b[0;31mIndexError\u001b[0m: index 2 is out of bounds for axis 0 with size 2"
     ]
    }
   ],
   "source": [
    "c[2, 3] = 8"
   ]
  },
  {
   "cell_type": "markdown",
   "id": "d8bb1753",
   "metadata": {},
   "source": [
    "## Speial array constructors"
   ]
  },
  {
   "cell_type": "code",
   "execution_count": 24,
   "id": "5b3f71c4",
   "metadata": {},
   "outputs": [
    {
     "name": "stdout",
     "output_type": "stream",
     "text": [
      "[[0. 0.]\n",
      " [0. 0.]\n",
      " [0. 0.]]\n"
     ]
    }
   ],
   "source": [
    "# Empty array\n",
    "a1 = np.zeros((3, 2))\n",
    "print(a1)"
   ]
  },
  {
   "cell_type": "code",
   "execution_count": 25,
   "id": "4423fc37",
   "metadata": {},
   "outputs": [
    {
     "name": "stdout",
     "output_type": "stream",
     "text": [
      "[[1. 1. 1.]\n",
      " [1. 1. 1.]]\n"
     ]
    }
   ],
   "source": [
    "# ones\n",
    "a2 = np.ones((2, 3))\n",
    "print(a2)"
   ]
  },
  {
   "cell_type": "code",
   "execution_count": 26,
   "id": "7575ed87",
   "metadata": {},
   "outputs": [
    {
     "name": "stdout",
     "output_type": "stream",
     "text": [
      "[[3.14 3.14 3.14]\n",
      " [3.14 3.14 3.14]\n",
      " [3.14 3.14 3.14]]\n"
     ]
    }
   ],
   "source": [
    "# constant\n",
    "a3 = np.full((3, 3), 3.14)\n",
    "print(a3)"
   ]
  },
  {
   "cell_type": "code",
   "execution_count": 27,
   "id": "0aca5876",
   "metadata": {},
   "outputs": [
    {
     "name": "stdout",
     "output_type": "stream",
     "text": [
      "[[1. 0. 0.]\n",
      " [0. 1. 0.]\n",
      " [0. 0. 1.]]\n"
     ]
    }
   ],
   "source": [
    "# identity\n",
    "a4 = np.eye(3)\n",
    "print(a4)"
   ]
  },
  {
   "cell_type": "code",
   "execution_count": 28,
   "id": "85cf5b41",
   "metadata": {},
   "outputs": [
    {
     "name": "stdout",
     "output_type": "stream",
     "text": [
      "[[0.87925251 0.01659017]\n",
      " [0.13923025 0.89700516]\n",
      " [0.14659205 0.58185684]]\n"
     ]
    }
   ],
   "source": [
    "# random\n",
    "a5 = np.random.random((3, 2))\n",
    "print(a5)"
   ]
  },
  {
   "cell_type": "code",
   "execution_count": 29,
   "id": "41b60dd7",
   "metadata": {},
   "outputs": [
    {
     "name": "stdout",
     "output_type": "stream",
     "text": [
      "[ 2  3  4  5  6  7  8  9 10 11 12 13]\n",
      "[ 0  5 10 15 20 25 30 35 40 45]\n"
     ]
    }
   ],
   "source": [
    "# ranges\n",
    "print(np.arange(2, 14))\n",
    "print(np.arange(0, 50, 5))"
   ]
  },
  {
   "cell_type": "markdown",
   "id": "3cb13a8f",
   "metadata": {},
   "source": [
    "## Indexing arrays"
   ]
  },
  {
   "cell_type": "code",
   "execution_count": 30,
   "id": "7d29d0f5",
   "metadata": {},
   "outputs": [
    {
     "data": {
      "text/plain": [
       "array([[ 1,  2,  3,  4],\n",
       "       [ 5,  6,  7,  8],\n",
       "       [ 9, 10, 11, 12]])"
      ]
     },
     "execution_count": 30,
     "metadata": {},
     "output_type": "execute_result"
    }
   ],
   "source": [
    "a = np.array([[1,2,3,4], [5,6,7,8], [9,10,11,12]])\n",
    "a"
   ]
  },
  {
   "cell_type": "markdown",
   "id": "3968e566",
   "metadata": {},
   "source": [
    "### Slicing"
   ]
  },
  {
   "cell_type": "code",
   "execution_count": 31,
   "id": "aa504bcb",
   "metadata": {},
   "outputs": [
    {
     "data": {
      "text/plain": [
       "array([[2, 3],\n",
       "       [6, 7]])"
      ]
     },
     "execution_count": 31,
     "metadata": {},
     "output_type": "execute_result"
    }
   ],
   "source": [
    "a[:2,1:3]"
   ]
  },
  {
   "cell_type": "markdown",
   "id": "0d178798",
   "metadata": {},
   "source": [
    "A slice is not a new array, but a limited reference to the original array"
   ]
  },
  {
   "cell_type": "code",
   "execution_count": 32,
   "id": "b6e08eeb",
   "metadata": {},
   "outputs": [
    {
     "name": "stdout",
     "output_type": "stream",
     "text": [
      "[[ 1  2  3  4]\n",
      " [ 5  6  7  8]\n",
      " [ 9 10 11 12]]\n"
     ]
    }
   ],
   "source": [
    "print(a)"
   ]
  },
  {
   "cell_type": "code",
   "execution_count": 33,
   "id": "fdf44430",
   "metadata": {},
   "outputs": [
    {
     "name": "stdout",
     "output_type": "stream",
     "text": [
      "[[2 3]\n",
      " [6 7]]\n"
     ]
    }
   ],
   "source": [
    "b = a[:2,1:3]\n",
    "print(b)"
   ]
  },
  {
   "cell_type": "code",
   "execution_count": 35,
   "id": "941f8368",
   "metadata": {},
   "outputs": [
    {
     "name": "stdout",
     "output_type": "stream",
     "text": [
      "[[55  3]\n",
      " [ 6  7]]\n",
      "[[ 1 55  3  4]\n",
      " [ 5  6  7  8]\n",
      " [ 9 10 11 12]]\n"
     ]
    }
   ],
   "source": [
    "b[0, 0] = 55\n",
    "print(b)\n",
    "print(a)"
   ]
  },
  {
   "cell_type": "markdown",
   "id": "b2f5bea7",
   "metadata": {},
   "source": [
    "You can mix indexing  with slicing: you get an array with less rank"
   ]
  },
  {
   "cell_type": "code",
   "execution_count": 38,
   "id": "82628b68",
   "metadata": {},
   "outputs": [
    {
     "name": "stdout",
     "output_type": "stream",
     "text": [
      "[[ 1  2  3  4]\n",
      " [ 5  6  7  8]\n",
      " [ 9 10 11 12]]\n"
     ]
    }
   ],
   "source": [
    "a = np.array([[1,2,3,4], [5,6,7,8], [9,10,11,12]])\n",
    "print(a)"
   ]
  },
  {
   "cell_type": "code",
   "execution_count": 39,
   "id": "6fcb6bc5",
   "metadata": {},
   "outputs": [
    {
     "name": "stdout",
     "output_type": "stream",
     "text": [
      "[5 6 7 8]\n",
      "[5 6 7 8]\n"
     ]
    }
   ],
   "source": [
    "print(a[1, :])\n",
    "print(a[1])"
   ]
  },
  {
   "cell_type": "code",
   "execution_count": 40,
   "id": "cb4b7565",
   "metadata": {},
   "outputs": [
    {
     "name": "stdout",
     "output_type": "stream",
     "text": [
      "[ 3  7 11]\n"
     ]
    }
   ],
   "source": [
    "print(a[:,2])"
   ]
  },
  {
   "cell_type": "code",
   "execution_count": 41,
   "id": "7c94580e",
   "metadata": {},
   "outputs": [
    {
     "name": "stdout",
     "output_type": "stream",
     "text": [
      "(3, 4)\n",
      "(4,)\n",
      "(3,)\n"
     ]
    }
   ],
   "source": [
    "print(a.shape)\n",
    "print(a[2, :].shape)\n",
    "print(a[:, 2].shape)"
   ]
  },
  {
   "cell_type": "markdown",
   "id": "c3c44d09",
   "metadata": {},
   "source": [
    "Select by array of indexes"
   ]
  },
  {
   "cell_type": "code",
   "execution_count": 43,
   "id": "9ce6d312",
   "metadata": {},
   "outputs": [
    {
     "name": "stdout",
     "output_type": "stream",
     "text": [
      "[[ 1  2  3]\n",
      " [ 4  5  6]\n",
      " [ 7  8  9]\n",
      " [10 11 12]]\n",
      "***\n",
      "[[ 1  3  1  2]\n",
      " [ 4  6  4  5]\n",
      " [ 7  9  7  8]\n",
      " [10 12 10 11]]\n"
     ]
    }
   ],
   "source": [
    "a = np.array([[1,2,3], [4,5,6], [7,8,9], [10, 11, 12]])\n",
    "print(a)\n",
    "print(\"***\")\n",
    "idxs = np.array([0, 2, 0, 1])\n",
    "print(a[:,idxs])"
   ]
  },
  {
   "cell_type": "markdown",
   "id": "92f70efc",
   "metadata": {},
   "source": [
    "Idem with rows"
   ]
  },
  {
   "cell_type": "code",
   "execution_count": 46,
   "id": "ecf506de",
   "metadata": {},
   "outputs": [
    {
     "name": "stdout",
     "output_type": "stream",
     "text": [
      "[[ 1  2  3]\n",
      " [ 4  5  6]\n",
      " [ 7  8  9]\n",
      " [10 11 12]]\n",
      "[0 2 0 1]\n",
      "**********\n",
      "[[1 2 3]\n",
      " [7 8 9]\n",
      " [1 2 3]\n",
      " [4 5 6]]\n"
     ]
    }
   ],
   "source": [
    "print(a)\n",
    "print(idxs)\n",
    "print(\"*\" * 10)\n",
    "print(a[idxs, :])"
   ]
  },
  {
   "cell_type": "markdown",
   "id": "cc322056",
   "metadata": {},
   "source": [
    "Select elements by their indexes"
   ]
  },
  {
   "cell_type": "code",
   "execution_count": 47,
   "id": "e1ea831c",
   "metadata": {},
   "outputs": [
    {
     "name": "stdout",
     "output_type": "stream",
     "text": [
      "[[ 1  2  3]\n",
      " [ 4  5  6]\n",
      " [ 7  8  9]\n",
      " [10 11 12]]\n"
     ]
    },
    {
     "data": {
      "text/plain": [
       "array([3, 4, 8, 4])"
      ]
     },
     "execution_count": 47,
     "metadata": {},
     "output_type": "execute_result"
    }
   ],
   "source": [
    "a = np.array([[1,2,3], [4,5,6], [7,8,9], [10, 11, 12]])\n",
    "print(a)\n",
    "idx1 = [0, 1, 2, 1]\n",
    "idx2 = [2, 0, 1, 0]\n",
    "a[idx1, idx2]"
   ]
  },
  {
   "cell_type": "markdown",
   "id": "30b21722",
   "metadata": {},
   "source": [
    "Since the referred elements are references to the original ones, you can change them through the slice."
   ]
  },
  {
   "cell_type": "code",
   "execution_count": 48,
   "id": "aa1373ba",
   "metadata": {
    "scrolled": true
   },
   "outputs": [
    {
     "name": "stdout",
     "output_type": "stream",
     "text": [
      "[[ 1  2 13]\n",
      " [14  5  6]\n",
      " [ 7 18  9]\n",
      " [10 11 12]]\n"
     ]
    }
   ],
   "source": [
    "a[idx1, idx2] += 10\n",
    "print(a)"
   ]
  },
  {
   "cell_type": "markdown",
   "id": "267f109f",
   "metadata": {},
   "source": [
    "Selecting elements by using boolean arrays"
   ]
  },
  {
   "cell_type": "code",
   "execution_count": 50,
   "id": "25a559bf",
   "metadata": {},
   "outputs": [
    {
     "name": "stdout",
     "output_type": "stream",
     "text": [
      "[[ 1  2  3]\n",
      " [ 4  5  6]\n",
      " [ 7  8  9]\n",
      " [10 11 12]]\n",
      "[[False  True False]\n",
      " [ True False  True]\n",
      " [False  True False]\n",
      " [ True False  True]]\n"
     ]
    }
   ],
   "source": [
    "a = np.array([[1,2,3], [4,5,6], [7,8,9], [10, 11, 12]])\n",
    "print(a)\n",
    "bool_idx = a % 2 == 0 \n",
    "print(bool_idx)"
   ]
  },
  {
   "cell_type": "markdown",
   "id": "4072350b",
   "metadata": {},
   "source": [
    "Now we can use the boolean array to select elements in the other array"
   ]
  },
  {
   "cell_type": "code",
   "execution_count": 51,
   "id": "aaba176d",
   "metadata": {},
   "outputs": [
    {
     "name": "stdout",
     "output_type": "stream",
     "text": [
      "[ 2  4  6  8 10 12]\n"
     ]
    }
   ],
   "source": [
    "print(a[bool_idx])"
   ]
  },
  {
   "cell_type": "markdown",
   "id": "75edb0be",
   "metadata": {},
   "source": [
    "So you can modify those elements"
   ]
  },
  {
   "cell_type": "code",
   "execution_count": 52,
   "id": "80b10971",
   "metadata": {},
   "outputs": [
    {
     "name": "stdout",
     "output_type": "stream",
     "text": [
      "[[ 1  4  3]\n",
      " [ 8  5 12]\n",
      " [ 7 16  9]\n",
      " [20 11 24]]\n"
     ]
    }
   ],
   "source": [
    "a[bool_idx] *= 2\n",
    "print(a)"
   ]
  },
  {
   "cell_type": "markdown",
   "id": "d505b257",
   "metadata": {},
   "source": [
    "Note: You can mix arrays in operations"
   ]
  },
  {
   "cell_type": "code",
   "execution_count": 54,
   "id": "424a7e6a",
   "metadata": {},
   "outputs": [
    {
     "name": "stdout",
     "output_type": "stream",
     "text": [
      "[[ 1  2  3]\n",
      " [ 4  5  6]\n",
      " [ 7  8  9]\n",
      " [10 11 12]]\n",
      "[[0.49692082 0.83480254 0.44970846]\n",
      " [0.39389396 0.52292992 0.18605059]\n",
      " [0.31233241 0.67207044 0.0128383 ]\n",
      " [0.81781985 0.45675008 0.71423326]]\n"
     ]
    }
   ],
   "source": [
    "a = np.array([[1,2,3], [4,5,6], [7,8,9], [10, 11, 12]])\n",
    "b = np.random.random((4, 3))\n",
    "print(a)\n",
    "print(b)"
   ]
  },
  {
   "cell_type": "code",
   "execution_count": 55,
   "id": "39dbec65",
   "metadata": {},
   "outputs": [
    {
     "name": "stdout",
     "output_type": "stream",
     "text": [
      "[[20  2 22]\n",
      " [23  5 25]\n",
      " [26  8 28]\n",
      " [10 30 12]]\n"
     ]
    }
   ],
   "source": [
    "a[b < 0.5] += 19\n",
    "print(a)"
   ]
  },
  {
   "cell_type": "markdown",
   "id": "73b151ea",
   "metadata": {},
   "source": [
    "To use multiple AND conditions, we use the operator &"
   ]
  },
  {
   "cell_type": "code",
   "execution_count": 59,
   "id": "ff314239",
   "metadata": {},
   "outputs": [
    {
     "data": {
      "text/plain": [
       "array([20, 22, 23, 26, 30])"
      ]
     },
     "execution_count": 59,
     "metadata": {},
     "output_type": "execute_result"
    }
   ],
   "source": [
    "a[(b > 0.2) & (b < 0.5)]"
   ]
  },
  {
   "cell_type": "markdown",
   "id": "cf439844",
   "metadata": {},
   "source": [
    "For OR conditions, we use the otperator |"
   ]
  },
  {
   "cell_type": "code",
   "execution_count": 60,
   "id": "15095155",
   "metadata": {},
   "outputs": [
    {
     "data": {
      "text/plain": [
       "array([ 2,  5, 25,  8, 28, 10, 12])"
      ]
     },
     "execution_count": 60,
     "metadata": {},
     "output_type": "execute_result"
    }
   ],
   "source": [
    "a[(b < 0.2) | (b > 0.5)]"
   ]
  },
  {
   "cell_type": "markdown",
   "id": "eab09b03",
   "metadata": {},
   "source": [
    "If you do not provide a data type, numpy infer the array type by the initialization parameters"
   ]
  },
  {
   "cell_type": "code",
   "execution_count": 62,
   "id": "54573a4c",
   "metadata": {},
   "outputs": [
    {
     "name": "stdout",
     "output_type": "stream",
     "text": [
      "int64\n"
     ]
    }
   ],
   "source": [
    "x = np.array([1, 2])\n",
    "print(x.dtype)"
   ]
  },
  {
   "cell_type": "code",
   "execution_count": 63,
   "id": "84d4596c",
   "metadata": {},
   "outputs": [
    {
     "name": "stdout",
     "output_type": "stream",
     "text": [
      "float64\n"
     ]
    }
   ],
   "source": [
    "y = np.array([1.0, 2.0])\n",
    "print(y.dtype)"
   ]
  },
  {
   "cell_type": "code",
   "execution_count": 64,
   "id": "1c2e52cb",
   "metadata": {},
   "outputs": [
    {
     "name": "stdout",
     "output_type": "stream",
     "text": [
      "bool\n"
     ]
    }
   ],
   "source": [
    "z = np.array([True, False])\n",
    "print(z.dtype)"
   ]
  },
  {
   "cell_type": "markdown",
   "id": "fbfd60b8",
   "metadata": {},
   "source": [
    "You can specify the array type by using parameter _dtype_"
   ]
  },
  {
   "cell_type": "code",
   "execution_count": 65,
   "id": "b2351f40",
   "metadata": {},
   "outputs": [
    {
     "name": "stdout",
     "output_type": "stream",
     "text": [
      "float64\n",
      "[1. 2.]\n"
     ]
    }
   ],
   "source": [
    "z = np.array([1, 2], dtype=np.float64)\n",
    "print(z.dtype)\n",
    "print(z)"
   ]
  },
  {
   "cell_type": "markdown",
   "id": "ad930fe7",
   "metadata": {},
   "source": [
    "## Operations with arrays"
   ]
  },
  {
   "cell_type": "code",
   "execution_count": 66,
   "id": "3534a94a",
   "metadata": {},
   "outputs": [
    {
     "name": "stdout",
     "output_type": "stream",
     "text": [
      "[[1. 2.]\n",
      " [3. 4.]]\n",
      "[[5. 6.]\n",
      " [7. 8.]]\n"
     ]
    }
   ],
   "source": [
    "x = np.array([[1,2],[3,4]], dtype=np.float64)\n",
    "y = np.array([[5,6],[7,8]], dtype=np.float64)\n",
    "print(x)\n",
    "print(y)"
   ]
  },
  {
   "cell_type": "code",
   "execution_count": 67,
   "id": "0bafa644",
   "metadata": {},
   "outputs": [
    {
     "name": "stdout",
     "output_type": "stream",
     "text": [
      "[[ 6.  8.]\n",
      " [10. 12.]]\n"
     ]
    }
   ],
   "source": [
    "print(x+y)"
   ]
  },
  {
   "cell_type": "code",
   "execution_count": 68,
   "id": "1d51a1e0",
   "metadata": {},
   "outputs": [
    {
     "name": "stdout",
     "output_type": "stream",
     "text": [
      "[[ 6.  8.]\n",
      " [10. 12.]]\n"
     ]
    }
   ],
   "source": [
    "print(np.add(x,y))"
   ]
  },
  {
   "cell_type": "markdown",
   "id": "d4ea8f25",
   "metadata": {},
   "source": [
    "Note: This are all element-wise operations"
   ]
  },
  {
   "cell_type": "code",
   "execution_count": 69,
   "id": "e1a23b0e",
   "metadata": {},
   "outputs": [
    {
     "name": "stdout",
     "output_type": "stream",
     "text": [
      "[[-4. -4.]\n",
      " [-4. -4.]]\n",
      "[[ 5. 12.]\n",
      " [21. 32.]]\n",
      "[[0.2        0.33333333]\n",
      " [0.42857143 0.5       ]]\n",
      "[[1.         1.41421356]\n",
      " [1.73205081 2.        ]]\n",
      "[[1.0000e+00 6.4000e+01]\n",
      " [2.1870e+03 6.5536e+04]]\n"
     ]
    }
   ],
   "source": [
    "print(x-y)  # np.substract\n",
    "print(x*y)  # np.multiply\n",
    "print(x/y)  # np.divide\n",
    "print(np.sqrt(x))\n",
    "print(np.power(x, y))"
   ]
  },
  {
   "cell_type": "markdown",
   "id": "d50d7d24",
   "metadata": {},
   "source": [
    "You can get the full list of operations here: https://numpy.org/doc/stable/reference/routines.math.html\n",
    "\n",
    "Inner product:"
   ]
  },
  {
   "cell_type": "code",
   "execution_count": 73,
   "id": "58fb1f19",
   "metadata": {
    "scrolled": true
   },
   "outputs": [],
   "source": [
    "x = np.array([[1,2],[3,4]])\n",
    "y = np.array([[5,6],[7,8]])\n",
    "\n",
    "v = np.array([9,10])\n",
    "w = np.array([11, 12])"
   ]
  },
  {
   "cell_type": "code",
   "execution_count": 74,
   "id": "03c73d8b",
   "metadata": {},
   "outputs": [
    {
     "name": "stdout",
     "output_type": "stream",
     "text": [
      "[ 9 10]\n",
      "[11 12]\n"
     ]
    },
    {
     "data": {
      "text/plain": [
       "219"
      ]
     },
     "execution_count": 74,
     "metadata": {},
     "output_type": "execute_result"
    }
   ],
   "source": [
    "print(v)\n",
    "print(w)\n",
    "v.dot(w)"
   ]
  },
  {
   "cell_type": "code",
   "execution_count": 75,
   "id": "94341017",
   "metadata": {},
   "outputs": [
    {
     "name": "stdout",
     "output_type": "stream",
     "text": [
      "[[1 2]\n",
      " [3 4]]\n",
      "[ 9 10]\n"
     ]
    },
    {
     "data": {
      "text/plain": [
       "array([29, 67])"
      ]
     },
     "execution_count": 75,
     "metadata": {},
     "output_type": "execute_result"
    }
   ],
   "source": [
    "print(x)\n",
    "print(v)\n",
    "x.dot(v)"
   ]
  },
  {
   "cell_type": "code",
   "execution_count": 76,
   "id": "94fd0c05",
   "metadata": {},
   "outputs": [
    {
     "name": "stdout",
     "output_type": "stream",
     "text": [
      "[[1 2]\n",
      " [3 4]]\n",
      "[[5 6]\n",
      " [7 8]]\n"
     ]
    },
    {
     "data": {
      "text/plain": [
       "array([[19, 22],\n",
       "       [43, 50]])"
      ]
     },
     "execution_count": 76,
     "metadata": {},
     "output_type": "execute_result"
    }
   ],
   "source": [
    "print(x)\n",
    "print(y)\n",
    "x.dot(y)"
   ]
  },
  {
   "cell_type": "markdown",
   "id": "99ca2890",
   "metadata": {},
   "source": [
    "Axis-wise operations"
   ]
  },
  {
   "cell_type": "code",
   "execution_count": 81,
   "id": "a5e5c41c",
   "metadata": {},
   "outputs": [
    {
     "name": "stdout",
     "output_type": "stream",
     "text": [
      "[[1 2]\n",
      " [3 4]]\n",
      "10\n"
     ]
    }
   ],
   "source": [
    "x = np.array([[1,2],[3,4]])\n",
    "print(x)\n",
    "print(np.sum(x))"
   ]
  },
  {
   "cell_type": "code",
   "execution_count": 82,
   "id": "69d8b152",
   "metadata": {},
   "outputs": [
    {
     "name": "stdout",
     "output_type": "stream",
     "text": [
      "[4 6]\n"
     ]
    }
   ],
   "source": [
    "print(np.sum(x, axis=0))"
   ]
  },
  {
   "cell_type": "code",
   "execution_count": 83,
   "id": "3f397b0e",
   "metadata": {},
   "outputs": [
    {
     "name": "stdout",
     "output_type": "stream",
     "text": [
      "[3 7]\n"
     ]
    }
   ],
   "source": [
    "print(np.sum(x, axis=1))"
   ]
  },
  {
   "cell_type": "markdown",
   "id": "6de9bd67",
   "metadata": {},
   "source": [
    "That works on matrixes of any number of dimensions"
   ]
  },
  {
   "cell_type": "code",
   "execution_count": 86,
   "id": "a52f658a",
   "metadata": {},
   "outputs": [
    {
     "name": "stdout",
     "output_type": "stream",
     "text": [
      "[[[2 1 2 5]\n",
      "  [4 2 5 2]\n",
      "  [9 8 7 6]]\n",
      "\n",
      " [[3 5 4 1]\n",
      "  [8 9 2 6]\n",
      "  [0 1 8 8]]]\n",
      "(2, 3, 4)\n"
     ]
    }
   ],
   "source": [
    "x = np.array([[[2, 1, 2, 5], [4,2, 5, 2], [9, 8, 7, 6]], [[3,5, 4, 1], [8, 9, 2, 6], [0,1, 8, 8]]])\n",
    "print(x)\n",
    "print(x.shape)"
   ]
  },
  {
   "cell_type": "code",
   "execution_count": 87,
   "id": "30684f43",
   "metadata": {},
   "outputs": [
    {
     "name": "stdout",
     "output_type": "stream",
     "text": [
      "108\n"
     ]
    }
   ],
   "source": [
    "print(np.sum(x))"
   ]
  },
  {
   "cell_type": "code",
   "execution_count": 89,
   "id": "8f9f71c6",
   "metadata": {},
   "outputs": [
    {
     "name": "stdout",
     "output_type": "stream",
     "text": [
      "[[ 5  6  6  6]\n",
      " [12 11  7  8]\n",
      " [ 9  9 15 14]]\n"
     ]
    }
   ],
   "source": [
    "print(np.sum(x, axis=0))"
   ]
  },
  {
   "cell_type": "code",
   "execution_count": 90,
   "id": "9f4ca4eb",
   "metadata": {},
   "outputs": [
    {
     "name": "stdout",
     "output_type": "stream",
     "text": [
      "[[15 11 14 13]\n",
      " [11 15 14 15]]\n"
     ]
    }
   ],
   "source": [
    "print(np.sum(x, axis=1))"
   ]
  },
  {
   "cell_type": "code",
   "execution_count": 91,
   "id": "33da53d8",
   "metadata": {},
   "outputs": [
    {
     "name": "stdout",
     "output_type": "stream",
     "text": [
      "[[10 13 30]\n",
      " [13 25 17]]\n"
     ]
    }
   ],
   "source": [
    "print(np.sum(x, axis=2))"
   ]
  },
  {
   "cell_type": "markdown",
   "id": "ef54d952",
   "metadata": {},
   "source": [
    "You can also do operations on collection of axis"
   ]
  },
  {
   "cell_type": "code",
   "execution_count": 93,
   "id": "dc7a2719",
   "metadata": {},
   "outputs": [
    {
     "name": "stdout",
     "output_type": "stream",
     "text": [
      "[[[2 1 2 5]\n",
      "  [4 2 5 2]\n",
      "  [9 8 7 6]]\n",
      "\n",
      " [[3 5 4 1]\n",
      "  [8 9 2 6]\n",
      "  [0 1 8 8]]]\n",
      "[26 26 28 28]\n"
     ]
    }
   ],
   "source": [
    "print(x)\n",
    "print(np.sum(x, axis=(0,1)))"
   ]
  },
  {
   "cell_type": "code",
   "execution_count": 94,
   "id": "39fc90c9",
   "metadata": {},
   "outputs": [
    {
     "name": "stdout",
     "output_type": "stream",
     "text": [
      "[23 38 47]\n",
      "[53 55]\n"
     ]
    }
   ],
   "source": [
    "print(np.sum(x, axis=(0,2)))\n",
    "print(np.sum(x, axis=(1, 2)))"
   ]
  },
  {
   "cell_type": "markdown",
   "id": "b6050b29",
   "metadata": {},
   "source": [
    "Transpose"
   ]
  },
  {
   "cell_type": "code",
   "execution_count": 95,
   "id": "e8d75acc",
   "metadata": {},
   "outputs": [
    {
     "name": "stdout",
     "output_type": "stream",
     "text": [
      "[[1 2 3]\n",
      " [4 5 6]]\n",
      "[[1 4]\n",
      " [2 5]\n",
      " [3 6]]\n"
     ]
    }
   ],
   "source": [
    "x = np.array([[1,2,3], [4, 5, 6]])\n",
    "print(x)\n",
    "print(x.T)"
   ]
  },
  {
   "cell_type": "markdown",
   "id": "13ce257c",
   "metadata": {},
   "source": [
    "Horizontal and vertical stacking"
   ]
  },
  {
   "cell_type": "code",
   "execution_count": 97,
   "id": "c9c14662",
   "metadata": {},
   "outputs": [],
   "source": [
    "a = np.array([[2, 3], [5, 6]])\n",
    "b = np.array([[4, 3], [7, 9], [1, 6]])\n",
    "c = np.array([[4, 5, 6], [7, 6, 5]])"
   ]
  },
  {
   "cell_type": "code",
   "execution_count": 98,
   "id": "f56b2e58",
   "metadata": {},
   "outputs": [
    {
     "name": "stdout",
     "output_type": "stream",
     "text": [
      "[[2 3]\n",
      " [5 6]]\n",
      "[[4 3]\n",
      " [7 9]\n",
      " [1 6]]\n",
      "[[2 3]\n",
      " [5 6]\n",
      " [4 3]\n",
      " [7 9]\n",
      " [1 6]]\n"
     ]
    }
   ],
   "source": [
    "print(a)\n",
    "print(b)\n",
    "print(np.vstack([a,b]))"
   ]
  },
  {
   "cell_type": "code",
   "execution_count": 99,
   "id": "23fb1713",
   "metadata": {},
   "outputs": [
    {
     "name": "stdout",
     "output_type": "stream",
     "text": [
      "[[2 3]\n",
      " [5 6]]\n",
      "[[4 5 6]\n",
      " [7 6 5]]\n",
      "[[2 3 4 5 6]\n",
      " [5 6 7 6 5]]\n"
     ]
    }
   ],
   "source": [
    "print(a)\n",
    "print(c)\n",
    "print(np.hstack([a,c]))"
   ]
  },
  {
   "cell_type": "markdown",
   "id": "89b0d302",
   "metadata": {},
   "source": [
    "Operator similar to the ternary operator"
   ]
  },
  {
   "cell_type": "code",
   "execution_count": 100,
   "id": "0437b838",
   "metadata": {},
   "outputs": [
    {
     "name": "stdout",
     "output_type": "stream",
     "text": [
      "[ 5  6  7  8  9 10 11 12 13 14]\n"
     ]
    },
    {
     "data": {
      "text/plain": [
       "array([ 0,  1,  2,  8,  9, 10, 11, 12, 13, 14])"
      ]
     },
     "execution_count": 100,
     "metadata": {},
     "output_type": "execute_result"
    }
   ],
   "source": [
    "a = np.array(range(5,15))\n",
    "print(a)\n",
    "np.where(a > 7, a, a-5)"
   ]
  },
  {
   "cell_type": "markdown",
   "id": "9d9b3c6b",
   "metadata": {},
   "source": [
    "If only one parameter is provided, it return the indexes of the True values"
   ]
  },
  {
   "cell_type": "code",
   "execution_count": 101,
   "id": "6a9f4aba",
   "metadata": {},
   "outputs": [
    {
     "data": {
      "text/plain": [
       "(array([1, 3, 5, 7, 9]),)"
      ]
     },
     "execution_count": 101,
     "metadata": {},
     "output_type": "execute_result"
    }
   ],
   "source": [
    "np.where(a % 2 == 0)"
   ]
  },
  {
   "cell_type": "markdown",
   "id": "55bb2bbc",
   "metadata": {},
   "source": [
    "## Array reshaping\n",
    "Note: Neither values nor value order are modified"
   ]
  },
  {
   "cell_type": "code",
   "execution_count": 103,
   "id": "dd3c8709",
   "metadata": {},
   "outputs": [
    {
     "name": "stdout",
     "output_type": "stream",
     "text": [
      "[ 0  1  2  3  4  5  6  7  8  9 10 11 12 13 14 15 16 17 18 19 20 21 22 23]\n",
      "(24,)\n"
     ]
    }
   ],
   "source": [
    "a = np.array(range(0, 24))\n",
    "print(a)\n",
    "print(a.shape)"
   ]
  },
  {
   "cell_type": "code",
   "execution_count": 104,
   "id": "571c38ea",
   "metadata": {},
   "outputs": [
    {
     "name": "stdout",
     "output_type": "stream",
     "text": [
      "[[ 0  1  2  3  4  5  6  7  8  9 10 11]\n",
      " [12 13 14 15 16 17 18 19 20 21 22 23]]\n",
      "(2, 12)\n"
     ]
    }
   ],
   "source": [
    "b = a.reshape((2,12))\n",
    "print(b)\n",
    "print(b.shape)"
   ]
  },
  {
   "cell_type": "markdown",
   "id": "500ed245",
   "metadata": {},
   "source": [
    "The number of elements must be the same"
   ]
  },
  {
   "cell_type": "code",
   "execution_count": 105,
   "id": "18017e5a",
   "metadata": {},
   "outputs": [
    {
     "ename": "ValueError",
     "evalue": "cannot reshape array of size 24 into shape (3,2)",
     "output_type": "error",
     "traceback": [
      "\u001b[0;31m---------------------------------------------------------------------------\u001b[0m",
      "\u001b[0;31mValueError\u001b[0m                                Traceback (most recent call last)",
      "Input \u001b[0;32mIn [105]\u001b[0m, in \u001b[0;36m<cell line: 1>\u001b[0;34m()\u001b[0m\n\u001b[0;32m----> 1\u001b[0m \u001b[43ma\u001b[49m\u001b[38;5;241;43m.\u001b[39;49m\u001b[43mreshape\u001b[49m\u001b[43m(\u001b[49m\u001b[43m(\u001b[49m\u001b[38;5;241;43m3\u001b[39;49m\u001b[43m,\u001b[49m\u001b[43m \u001b[49m\u001b[38;5;241;43m2\u001b[39;49m\u001b[43m)\u001b[49m\u001b[43m)\u001b[49m\n",
      "\u001b[0;31mValueError\u001b[0m: cannot reshape array of size 24 into shape (3,2)"
     ]
    }
   ],
   "source": [
    "a.reshape((3, 2))"
   ]
  },
  {
   "cell_type": "markdown",
   "id": "61151909",
   "metadata": {},
   "source": [
    "Providing -1 in a dimension makes numpy to automatically calculate the value"
   ]
  },
  {
   "cell_type": "code",
   "execution_count": 106,
   "id": "25b5850b",
   "metadata": {},
   "outputs": [
    {
     "data": {
      "text/plain": [
       "array([[ 0,  1,  2,  3,  4,  5,  6,  7],\n",
       "       [ 8,  9, 10, 11, 12, 13, 14, 15],\n",
       "       [16, 17, 18, 19, 20, 21, 22, 23]])"
      ]
     },
     "execution_count": 106,
     "metadata": {},
     "output_type": "execute_result"
    }
   ],
   "source": [
    "a.reshape((3,-1))"
   ]
  },
  {
   "cell_type": "code",
   "execution_count": 107,
   "id": "336c5f34",
   "metadata": {},
   "outputs": [
    {
     "data": {
      "text/plain": [
       "array([[ 0,  1,  2,  3,  4,  5],\n",
       "       [ 6,  7,  8,  9, 10, 11],\n",
       "       [12, 13, 14, 15, 16, 17],\n",
       "       [18, 19, 20, 21, 22, 23]])"
      ]
     },
     "execution_count": 107,
     "metadata": {},
     "output_type": "execute_result"
    }
   ],
   "source": [
    "a.reshape((-1, 6))"
   ]
  },
  {
   "cell_type": "markdown",
   "id": "f85420ce",
   "metadata": {},
   "source": [
    "You can only use a single -1 per operation"
   ]
  },
  {
   "cell_type": "code",
   "execution_count": 108,
   "id": "35e2c05f",
   "metadata": {},
   "outputs": [
    {
     "ename": "ValueError",
     "evalue": "can only specify one unknown dimension",
     "output_type": "error",
     "traceback": [
      "\u001b[0;31m---------------------------------------------------------------------------\u001b[0m",
      "\u001b[0;31mValueError\u001b[0m                                Traceback (most recent call last)",
      "Input \u001b[0;32mIn [108]\u001b[0m, in \u001b[0;36m<cell line: 1>\u001b[0;34m()\u001b[0m\n\u001b[0;32m----> 1\u001b[0m \u001b[43ma\u001b[49m\u001b[38;5;241;43m.\u001b[39;49m\u001b[43mreshape\u001b[49m\u001b[43m(\u001b[49m\u001b[43m(\u001b[49m\u001b[38;5;241;43m-\u001b[39;49m\u001b[38;5;241;43m1\u001b[39;49m\u001b[43m,\u001b[49m\u001b[43m \u001b[49m\u001b[38;5;241;43m2\u001b[39;49m\u001b[43m,\u001b[49m\u001b[43m \u001b[49m\u001b[38;5;241;43m-\u001b[39;49m\u001b[38;5;241;43m1\u001b[39;49m\u001b[43m)\u001b[49m\u001b[43m)\u001b[49m\n",
      "\u001b[0;31mValueError\u001b[0m: can only specify one unknown dimension"
     ]
    }
   ],
   "source": [
    "a.reshape((-1, 2, -1))"
   ]
  },
  {
   "cell_type": "markdown",
   "id": "f1cfaab0",
   "metadata": {},
   "source": [
    "You can also reshape on a different number of dimensions"
   ]
  },
  {
   "cell_type": "code",
   "execution_count": 109,
   "id": "12ded05b",
   "metadata": {
    "scrolled": true
   },
   "outputs": [
    {
     "data": {
      "text/plain": [
       "array([[[ 0,  1,  2],\n",
       "        [ 3,  4,  5],\n",
       "        [ 6,  7,  8],\n",
       "        [ 9, 10, 11]],\n",
       "\n",
       "       [[12, 13, 14],\n",
       "        [15, 16, 17],\n",
       "        [18, 19, 20],\n",
       "        [21, 22, 23]]])"
      ]
     },
     "execution_count": 109,
     "metadata": {},
     "output_type": "execute_result"
    }
   ],
   "source": [
    "a.reshape((2, -1, 3))"
   ]
  },
  {
   "cell_type": "markdown",
   "id": "62276161",
   "metadata": {},
   "source": [
    "### Broadcasting\n",
    "Broadcasting is a powerful feature in NumPy that enables efficient array operations on arrays of different shapes and sizes. \n",
    "\n",
    "It allows for implicit element-wise operations between arrays, even if their shapes are not identical. \n",
    "\n",
    "Broadcasting eliminates the need for explicit loops, resulting in concise and efficient code.\n",
    "\n",
    "Lets start with an example. Supose you want to add a row vector to every row in a matrix"
   ]
  },
  {
   "cell_type": "code",
   "execution_count": 111,
   "id": "2f2bd471",
   "metadata": {},
   "outputs": [
    {
     "name": "stdout",
     "output_type": "stream",
     "text": [
      "[[ 1  2  3]\n",
      " [ 4  5  6]\n",
      " [ 7  8  9]\n",
      " [10 11 12]]\n",
      "[1 0 1]\n"
     ]
    }
   ],
   "source": [
    "x = np.array([[1,2,3], [4,5,6], [7,8,9], [10, 11, 12]])\n",
    "v = np.array([1, 0, 1])\n",
    "print(x)\n",
    "print(v)"
   ]
  },
  {
   "cell_type": "code",
   "execution_count": 110,
   "id": "21eddf1f",
   "metadata": {},
   "outputs": [
    {
     "name": "stdout",
     "output_type": "stream",
     "text": [
      "[[ 2  2  4]\n",
      " [ 5  5  7]\n",
      " [ 8  8 10]\n",
      " [11 11 13]]\n"
     ]
    }
   ],
   "source": [
    "y = np.empty_like(x)  # empty array with the same structure than x\n",
    "\n",
    "for i in range(4):\n",
    "    y[i, :] = x[i, :] + v\n",
    "print(y)"
   ]
  },
  {
   "cell_type": "markdown",
   "id": "c29b4518",
   "metadata": {},
   "source": [
    "There is another solution that avoid using the for loop: Build a new matrix tiling the row vector horizontally"
   ]
  },
  {
   "cell_type": "code",
   "execution_count": 112,
   "id": "d4d8571f",
   "metadata": {},
   "outputs": [
    {
     "name": "stdout",
     "output_type": "stream",
     "text": [
      "[[1 0 1]\n",
      " [1 0 1]\n",
      " [1 0 1]\n",
      " [1 0 1]]\n"
     ]
    }
   ],
   "source": [
    "vv = np.tile(v, (4, 1))\n",
    "print(vv)"
   ]
  },
  {
   "cell_type": "code",
   "execution_count": 113,
   "id": "2c6cfdfe",
   "metadata": {},
   "outputs": [
    {
     "name": "stdout",
     "output_type": "stream",
     "text": [
      "[[ 2  2  4]\n",
      " [ 5  5  7]\n",
      " [ 8  8 10]\n",
      " [11 11 13]]\n"
     ]
    }
   ],
   "source": [
    "y = x + vv\n",
    "print(y)"
   ]
  },
  {
   "cell_type": "markdown",
   "id": "704f4493",
   "metadata": {},
   "source": [
    "This is the way broadcasting work, doing matrix modifications automatically"
   ]
  },
  {
   "cell_type": "code",
   "execution_count": 114,
   "id": "2cfbd2e1",
   "metadata": {},
   "outputs": [
    {
     "data": {
      "text/plain": [
       "array([[ 2,  2,  4],\n",
       "       [ 5,  5,  7],\n",
       "       [ 8,  8, 10],\n",
       "       [11, 11, 13]])"
      ]
     },
     "execution_count": 114,
     "metadata": {},
     "output_type": "execute_result"
    }
   ],
   "source": [
    "x+v"
   ]
  },
  {
   "cell_type": "markdown",
   "id": "8b1864b1",
   "metadata": {},
   "source": [
    "**Broadcasting rules**\n",
    "- Array extension: If the arrays have different shapes, NumPy extends the smaller array by adding dimensions with size 1 to match the shape of the larger array. This extension is virtual and doesn't require actually replicating the data."
   ]
  },
  {
   "cell_type": "code",
   "execution_count": 115,
   "id": "2360ddb6",
   "metadata": {},
   "outputs": [
    {
     "name": "stdout",
     "output_type": "stream",
     "text": [
      "(4, 3)\n",
      "(3,)\n"
     ]
    }
   ],
   "source": [
    "print(x.shape)\n",
    "print(v.shape)"
   ]
  },
  {
   "cell_type": "markdown",
   "id": "7d2a203e",
   "metadata": {},
   "source": [
    "In this case, a one is added to the smallest array, so it finally is (4,3) and (1,3)\n",
    "\n",
    "- Dimensions compatibility: For two arrays to be compatible for broadcasting, their dimensions must either match or one of them must have a size of 1. If an array has a size of 1 along a particular dimension, it is stretched or repeated along that dimension to match the size of the other array."
   ]
  },
  {
   "cell_type": "code",
   "execution_count": 118,
   "id": "913d43f5",
   "metadata": {},
   "outputs": [],
   "source": [
    "# Compatibles\n",
    "a = np.random.random((3, 4, 1))\n",
    "b = np.random.random((3, 1, 4))\n",
    "c = a+b"
   ]
  },
  {
   "cell_type": "code",
   "execution_count": 119,
   "id": "6780812e",
   "metadata": {},
   "outputs": [
    {
     "ename": "ValueError",
     "evalue": "operands could not be broadcast together with shapes (3,4,1) (3,2,4) ",
     "output_type": "error",
     "traceback": [
      "\u001b[0;31m---------------------------------------------------------------------------\u001b[0m",
      "\u001b[0;31mValueError\u001b[0m                                Traceback (most recent call last)",
      "Input \u001b[0;32mIn [119]\u001b[0m, in \u001b[0;36m<cell line: 4>\u001b[0;34m()\u001b[0m\n\u001b[1;32m      2\u001b[0m a \u001b[38;5;241m=\u001b[39m np\u001b[38;5;241m.\u001b[39mrandom\u001b[38;5;241m.\u001b[39mrandom((\u001b[38;5;241m3\u001b[39m, \u001b[38;5;241m4\u001b[39m, \u001b[38;5;241m1\u001b[39m))\n\u001b[1;32m      3\u001b[0m b \u001b[38;5;241m=\u001b[39m np\u001b[38;5;241m.\u001b[39mrandom\u001b[38;5;241m.\u001b[39mrandom((\u001b[38;5;241m3\u001b[39m, \u001b[38;5;241m2\u001b[39m, \u001b[38;5;241m4\u001b[39m))\n\u001b[0;32m----> 4\u001b[0m c \u001b[38;5;241m=\u001b[39m \u001b[43ma\u001b[49m\u001b[38;5;241;43m+\u001b[39;49m\u001b[43mb\u001b[49m\n",
      "\u001b[0;31mValueError\u001b[0m: operands could not be broadcast together with shapes (3,4,1) (3,2,4) "
     ]
    }
   ],
   "source": [
    "# Incompatibles\n",
    "a = np.random.random((3, 4, 1))\n",
    "b = np.random.random((3, 2, 4))\n",
    "c = a+b"
   ]
  },
  {
   "cell_type": "markdown",
   "id": "dfe7fce0",
   "metadata": {},
   "source": [
    "- Element-wise operation: Once the arrays have compatible shapes, NumPy performs element-wise operations between them. Operations are applied independently to each element of the arrays."
   ]
  },
  {
   "cell_type": "code",
   "execution_count": 120,
   "id": "7f0cf229",
   "metadata": {},
   "outputs": [
    {
     "data": {
      "text/plain": [
       "(3, 4, 5)"
      ]
     },
     "execution_count": 120,
     "metadata": {},
     "output_type": "execute_result"
    }
   ],
   "source": [
    "a = np.random.random((3, 4, 1))\n",
    "b = np.random.random((1, 1, 5))\n",
    "(a+b).shape"
   ]
  },
  {
   "cell_type": "markdown",
   "id": "d8d5fbe8",
   "metadata": {},
   "source": [
    "**Note**: No actual dupplication is performed. Every transformation is virtual.\n",
    "\n",
    "Some examples:"
   ]
  },
  {
   "cell_type": "code",
   "execution_count": 121,
   "id": "2720649e",
   "metadata": {},
   "outputs": [
    {
     "name": "stdout",
     "output_type": "stream",
     "text": [
      "[[1. 1. 1. 1.]\n",
      " [1. 1. 1. 1.]\n",
      " [1. 1. 1. 1.]]\n",
      "[[3.]\n",
      " [3.]\n",
      " [3.]]\n"
     ]
    },
    {
     "data": {
      "text/plain": [
       "array([[4., 4., 4., 4.],\n",
       "       [4., 4., 4., 4.],\n",
       "       [4., 4., 4., 4.]])"
      ]
     },
     "execution_count": 121,
     "metadata": {},
     "output_type": "execute_result"
    }
   ],
   "source": [
    "a = np.ones((3, 4))\n",
    "b = np.ones((3, 1))*3\n",
    "print(a)\n",
    "print(b)\n",
    "a+b"
   ]
  },
  {
   "cell_type": "code",
   "execution_count": 125,
   "id": "382ca8bb",
   "metadata": {},
   "outputs": [
    {
     "name": "stdout",
     "output_type": "stream",
     "text": [
      "[1. 1. 1. 1.]\n",
      "[[5. 5. 5. 5.]\n",
      " [5. 5. 5. 5.]\n",
      " [5. 5. 5. 5.]]\n"
     ]
    },
    {
     "data": {
      "text/plain": [
       "array([[6., 6., 6., 6.],\n",
       "       [6., 6., 6., 6.],\n",
       "       [6., 6., 6., 6.]])"
      ]
     },
     "execution_count": 125,
     "metadata": {},
     "output_type": "execute_result"
    }
   ],
   "source": [
    "a = np.ones(4)\n",
    "b = np.ones((3, 4))*5\n",
    "print(a)\n",
    "print(b)\n",
    "a+b"
   ]
  },
  {
   "cell_type": "code",
   "execution_count": 126,
   "id": "d73ee4bc",
   "metadata": {},
   "outputs": [
    {
     "name": "stdout",
     "output_type": "stream",
     "text": [
      "[[1. 1. 1. 1.]]\n",
      "[[6.]\n",
      " [6.]\n",
      " [6.]]\n"
     ]
    },
    {
     "data": {
      "text/plain": [
       "array([[7., 7., 7., 7.],\n",
       "       [7., 7., 7., 7.],\n",
       "       [7., 7., 7., 7.]])"
      ]
     },
     "execution_count": 126,
     "metadata": {},
     "output_type": "execute_result"
    }
   ],
   "source": [
    "a = np.ones((1, 4))\n",
    "b = np.ones((3, 1))*6\n",
    "print(a)\n",
    "print(b)\n",
    "a+b"
   ]
  },
  {
   "cell_type": "markdown",
   "id": "001f50be",
   "metadata": {},
   "source": [
    "To learn more or debugging, you can directly get the broadcast result."
   ]
  },
  {
   "cell_type": "code",
   "execution_count": 127,
   "id": "46179099",
   "metadata": {},
   "outputs": [
    {
     "name": "stdout",
     "output_type": "stream",
     "text": [
      "[[1. 1. 1. 1.]\n",
      " [1. 1. 1. 1.]\n",
      " [1. 1. 1. 1.]]\n",
      "[[6. 6. 6. 6.]\n",
      " [6. 6. 6. 6.]\n",
      " [6. 6. 6. 6.]]\n"
     ]
    }
   ],
   "source": [
    "print(np.broadcast_to(a, ((3,4))))\n",
    "print(np.broadcast_to(b, ((3, 4))))"
   ]
  },
  {
   "cell_type": "markdown",
   "id": "5516e6a7",
   "metadata": {},
   "source": [
    "Functions that support broadcasting are known as **universal functions**. There is a very complete collection of those functions.\n",
    "\n",
    "Here some examples:"
   ]
  },
  {
   "cell_type": "code",
   "execution_count": 128,
   "id": "cf1b33d7",
   "metadata": {},
   "outputs": [
    {
     "name": "stdout",
     "output_type": "stream",
     "text": [
      "[[0.32460151 0.12158484 0.1397481 ]\n",
      " [0.52761216 0.69166833 0.75964068]\n",
      " [0.76558543 0.15103348 0.05155056]\n",
      " [0.26471519 0.40257923 0.75281193]]\n",
      "[[4.32460151 4.12158484 4.1397481 ]\n",
      " [4.52761216 4.69166833 4.75964068]\n",
      " [4.76558543 4.15103348 4.05155056]\n",
      " [4.26471519 4.40257923 4.75281193]]\n"
     ]
    }
   ],
   "source": [
    "# Add a constant to an array\n",
    "a = np.random.random((4, 3))\n",
    "print(a)\n",
    "print(a + 4)"
   ]
  },
  {
   "cell_type": "code",
   "execution_count": 129,
   "id": "82c35541",
   "metadata": {},
   "outputs": [
    {
     "data": {
      "text/plain": [
       "array([[4, 4, 4],\n",
       "       [4, 4, 4],\n",
       "       [4, 4, 4],\n",
       "       [4, 4, 4]])"
      ]
     },
     "execution_count": 129,
     "metadata": {},
     "output_type": "execute_result"
    }
   ],
   "source": [
    "np.broadcast_to(4, (4, 3))"
   ]
  },
  {
   "cell_type": "code",
   "execution_count": 130,
   "id": "30ae19ff",
   "metadata": {},
   "outputs": [
    {
     "data": {
      "text/plain": [
       "()"
      ]
     },
     "execution_count": 130,
     "metadata": {},
     "output_type": "execute_result"
    }
   ],
   "source": [
    "np.array(4).shape"
   ]
  },
  {
   "cell_type": "markdown",
   "id": "a584a790",
   "metadata": {},
   "source": [
    "Normalize a matrix by removing the mean value"
   ]
  },
  {
   "cell_type": "code",
   "execution_count": 132,
   "id": "37f51f9f",
   "metadata": {},
   "outputs": [
    {
     "name": "stdout",
     "output_type": "stream",
     "text": [
      "[[6 7 7]\n",
      " [3 2 9]\n",
      " [7 3 5]\n",
      " [9 6 5]]\n"
     ]
    }
   ],
   "source": [
    "a = np.random.randint(1, 10, size=(4,3))\n",
    "print(a)"
   ]
  },
  {
   "cell_type": "code",
   "execution_count": 134,
   "id": "d53fb16b",
   "metadata": {},
   "outputs": [
    {
     "name": "stdout",
     "output_type": "stream",
     "text": [
      "[6.25 4.5  6.5 ]\n"
     ]
    }
   ],
   "source": [
    "mean = np.average(a, axis=0)\n",
    "print(mean)"
   ]
  },
  {
   "cell_type": "code",
   "execution_count": 136,
   "id": "61bac065",
   "metadata": {},
   "outputs": [
    {
     "name": "stdout",
     "output_type": "stream",
     "text": [
      "[[-0.25  2.5   0.5 ]\n",
      " [-3.25 -2.5   2.5 ]\n",
      " [ 0.75 -1.5  -1.5 ]\n",
      " [ 2.75  1.5  -1.5 ]]\n"
     ]
    }
   ],
   "source": [
    "print(a - mean)"
   ]
  },
  {
   "cell_type": "code",
   "execution_count": 137,
   "id": "81b29697",
   "metadata": {},
   "outputs": [
    {
     "name": "stdout",
     "output_type": "stream",
     "text": [
      "0.0\n"
     ]
    }
   ],
   "source": [
    "print(np.sum(a-mean))"
   ]
  },
  {
   "cell_type": "markdown",
   "id": "d9459273",
   "metadata": {},
   "source": [
    "Uniformize matrix values using (x-min)/(max-min)"
   ]
  },
  {
   "cell_type": "code",
   "execution_count": 138,
   "id": "f307566b",
   "metadata": {},
   "outputs": [
    {
     "name": "stdout",
     "output_type": "stream",
     "text": [
      "[[6 7 3]\n",
      " [7 1 9]\n",
      " [8 1 9]\n",
      " [3 7 6]]\n"
     ]
    }
   ],
   "source": [
    "a = np.random.randint(1, 10, size=(4,3))\n",
    "print(a)"
   ]
  },
  {
   "cell_type": "code",
   "execution_count": 139,
   "id": "22249172",
   "metadata": {},
   "outputs": [
    {
     "name": "stdout",
     "output_type": "stream",
     "text": [
      "[[0.625 0.75  0.25 ]\n",
      " [0.75  0.    1.   ]\n",
      " [0.875 0.    1.   ]\n",
      " [0.25  0.75  0.625]]\n"
     ]
    }
   ],
   "source": [
    "mx = np.max(a)\n",
    "mn = np.min(a)\n",
    "print((a-mn)/(mx-mn))"
   ]
  },
  {
   "cell_type": "markdown",
   "id": "7dfe8d99",
   "metadata": {},
   "source": [
    "Create a multiplication table."
   ]
  },
  {
   "cell_type": "code",
   "execution_count": 140,
   "id": "1e785305",
   "metadata": {},
   "outputs": [
    {
     "name": "stdout",
     "output_type": "stream",
     "text": [
      "[ 1  2  3  4  5  6  7  8  9 10]\n"
     ]
    }
   ],
   "source": [
    "x = np.array(range(1, 11))\n",
    "print(x)"
   ]
  },
  {
   "cell_type": "code",
   "execution_count": 141,
   "id": "76339928",
   "metadata": {},
   "outputs": [
    {
     "name": "stdout",
     "output_type": "stream",
     "text": [
      "[[ 1]\n",
      " [ 2]\n",
      " [ 3]\n",
      " [ 4]\n",
      " [ 5]\n",
      " [ 6]\n",
      " [ 7]\n",
      " [ 8]\n",
      " [ 9]\n",
      " [10]]\n",
      "[[ 1  2  3  4  5  6  7  8  9 10]]\n"
     ]
    }
   ],
   "source": [
    "x = x[:, np.newaxis]\n",
    "print(x)\n",
    "print(x.T)"
   ]
  },
  {
   "cell_type": "code",
   "execution_count": 142,
   "id": "3e15570c",
   "metadata": {},
   "outputs": [
    {
     "data": {
      "text/plain": [
       "array([[  1,   2,   3,   4,   5,   6,   7,   8,   9,  10],\n",
       "       [  2,   4,   6,   8,  10,  12,  14,  16,  18,  20],\n",
       "       [  3,   6,   9,  12,  15,  18,  21,  24,  27,  30],\n",
       "       [  4,   8,  12,  16,  20,  24,  28,  32,  36,  40],\n",
       "       [  5,  10,  15,  20,  25,  30,  35,  40,  45,  50],\n",
       "       [  6,  12,  18,  24,  30,  36,  42,  48,  54,  60],\n",
       "       [  7,  14,  21,  28,  35,  42,  49,  56,  63,  70],\n",
       "       [  8,  16,  24,  32,  40,  48,  56,  64,  72,  80],\n",
       "       [  9,  18,  27,  36,  45,  54,  63,  72,  81,  90],\n",
       "       [ 10,  20,  30,  40,  50,  60,  70,  80,  90, 100]])"
      ]
     },
     "execution_count": 142,
     "metadata": {},
     "output_type": "execute_result"
    }
   ],
   "source": [
    "x*x.T"
   ]
  },
  {
   "cell_type": "markdown",
   "id": "90a2f7d5",
   "metadata": {},
   "source": [
    "More complex example, matrix of euclidean distances between pair of points"
   ]
  },
  {
   "cell_type": "code",
   "execution_count": 143,
   "id": "158915d0",
   "metadata": {},
   "outputs": [
    {
     "name": "stdout",
     "output_type": "stream",
     "text": [
      "[[[ 2  3]]\n",
      "\n",
      " [[ 4  5]]\n",
      "\n",
      " [[-1  8]]\n",
      "\n",
      " [[ 0  3]]]\n"
     ]
    }
   ],
   "source": [
    "coords = np.array([(2, 3), (4, 5), (-1,8), (0, 3)])\n",
    "x1 = coords[:, np.newaxis, :]\n",
    "x2 = coords[np.newaxis, :, :]\n",
    "print(x1)"
   ]
  },
  {
   "cell_type": "code",
   "execution_count": 144,
   "id": "600de855",
   "metadata": {},
   "outputs": [
    {
     "name": "stdout",
     "output_type": "stream",
     "text": [
      "[[[ 2  3]\n",
      "  [ 4  5]\n",
      "  [-1  8]\n",
      "  [ 0  3]]]\n"
     ]
    }
   ],
   "source": [
    "print(x2)"
   ]
  },
  {
   "cell_type": "code",
   "execution_count": 145,
   "id": "748cc7db",
   "metadata": {},
   "outputs": [
    {
     "name": "stdout",
     "output_type": "stream",
     "text": [
      "(4, 1, 2)\n",
      "(1, 4, 2)\n"
     ]
    }
   ],
   "source": [
    "print(x1.shape)\n",
    "print(x2.shape)"
   ]
  },
  {
   "cell_type": "code",
   "execution_count": 146,
   "id": "07de083d",
   "metadata": {},
   "outputs": [
    {
     "data": {
      "text/plain": [
       "array([[[ 2,  3],\n",
       "        [ 2,  3],\n",
       "        [ 2,  3],\n",
       "        [ 2,  3]],\n",
       "\n",
       "       [[ 4,  5],\n",
       "        [ 4,  5],\n",
       "        [ 4,  5],\n",
       "        [ 4,  5]],\n",
       "\n",
       "       [[-1,  8],\n",
       "        [-1,  8],\n",
       "        [-1,  8],\n",
       "        [-1,  8]],\n",
       "\n",
       "       [[ 0,  3],\n",
       "        [ 0,  3],\n",
       "        [ 0,  3],\n",
       "        [ 0,  3]]])"
      ]
     },
     "execution_count": 146,
     "metadata": {},
     "output_type": "execute_result"
    }
   ],
   "source": [
    "np.broadcast_to(x1, (4, 4, 2))"
   ]
  },
  {
   "cell_type": "code",
   "execution_count": 147,
   "id": "4d616b75",
   "metadata": {},
   "outputs": [
    {
     "data": {
      "text/plain": [
       "array([[[ 2,  3],\n",
       "        [ 4,  5],\n",
       "        [-1,  8],\n",
       "        [ 0,  3]],\n",
       "\n",
       "       [[ 2,  3],\n",
       "        [ 4,  5],\n",
       "        [-1,  8],\n",
       "        [ 0,  3]],\n",
       "\n",
       "       [[ 2,  3],\n",
       "        [ 4,  5],\n",
       "        [-1,  8],\n",
       "        [ 0,  3]],\n",
       "\n",
       "       [[ 2,  3],\n",
       "        [ 4,  5],\n",
       "        [-1,  8],\n",
       "        [ 0,  3]]])"
      ]
     },
     "execution_count": 147,
     "metadata": {},
     "output_type": "execute_result"
    }
   ],
   "source": [
    "np.broadcast_to(x2, (4, 4, 2))"
   ]
  },
  {
   "cell_type": "code",
   "execution_count": 148,
   "id": "5bcaf89b",
   "metadata": {},
   "outputs": [
    {
     "data": {
      "text/plain": [
       "array([[0.        , 2.82842712, 5.83095189, 2.        ],\n",
       "       [2.82842712, 0.        , 5.83095189, 4.47213595],\n",
       "       [5.83095189, 5.83095189, 0.        , 5.09901951],\n",
       "       [2.        , 4.47213595, 5.09901951, 0.        ]])"
      ]
     },
     "execution_count": 148,
     "metadata": {},
     "output_type": "execute_result"
    }
   ],
   "source": [
    "np.sqrt(np.sum((x1 - x2)**2, axis=-1))"
   ]
  },
  {
   "cell_type": "markdown",
   "id": "1a519460",
   "metadata": {},
   "source": [
    "# Solved Exercises"
   ]
  },
  {
   "cell_type": "markdown",
   "id": "c0c0460f",
   "metadata": {},
   "source": [
    "**Exercise**. Create a one dimensional array with numbers from 0 to 9"
   ]
  },
  {
   "cell_type": "code",
   "execution_count": 149,
   "id": "0a4e04d5",
   "metadata": {},
   "outputs": [
    {
     "name": "stdout",
     "output_type": "stream",
     "text": [
      "[0 1 2 3 4 5 6 7 8 9]\n",
      "[0 1 2 3 4 5 6 7 8 9]\n",
      "[0 1 2 3 4 5 6 7 8 9]\n"
     ]
    }
   ],
   "source": [
    "print(np.arange(0,10))\n",
    "print(np.array(range(0,10)))\n",
    "print(np.array([0, 1, 2, 3, 4, 5, 6, 7, 8, 9]))"
   ]
  },
  {
   "cell_type": "markdown",
   "id": "af292749",
   "metadata": {},
   "source": [
    "**Exercise**. Create a boolean array of 3x3 with all values in True"
   ]
  },
  {
   "cell_type": "code",
   "execution_count": 152,
   "id": "0f8829db",
   "metadata": {},
   "outputs": [
    {
     "name": "stdout",
     "output_type": "stream",
     "text": [
      "[[ True  True  True]\n",
      " [ True  True  True]\n",
      " [ True  True  True]]\n",
      "[[ True  True  True]\n",
      " [ True  True  True]\n",
      " [ True  True  True]]\n",
      "[[ True  True  True]\n",
      " [ True  True  True]\n",
      " [ True  True  True]]\n"
     ]
    }
   ],
   "source": [
    "print(np.full((3,3), True, dtype=bool))\n",
    "print(np.zeros((3,3)) == 0)\n",
    "print(np.ones((3,3), dtype=bool))"
   ]
  },
  {
   "cell_type": "markdown",
   "id": "e768900d",
   "metadata": {},
   "source": [
    "**Exercise**. Extract all the odd numbers fro a 1D array"
   ]
  },
  {
   "cell_type": "code",
   "execution_count": 154,
   "id": "e29a7f91",
   "metadata": {},
   "outputs": [
    {
     "name": "stdout",
     "output_type": "stream",
     "text": [
      "[0 1 2 3 4 5 6 7 8 9]\n"
     ]
    },
    {
     "data": {
      "text/plain": [
       "array([1, 3, 5, 7, 9])"
      ]
     },
     "execution_count": 154,
     "metadata": {},
     "output_type": "execute_result"
    }
   ],
   "source": [
    "arr = np.arange(0,10)\n",
    "print(arr)\n",
    "arr[arr % 2 == 1]"
   ]
  },
  {
   "cell_type": "markdown",
   "id": "bbb36ad0",
   "metadata": {},
   "source": [
    "**Exercise**. Replace all negative numbers in an array by constant 33"
   ]
  },
  {
   "cell_type": "code",
   "execution_count": 155,
   "id": "a8bb8dc8",
   "metadata": {},
   "outputs": [
    {
     "name": "stdout",
     "output_type": "stream",
     "text": [
      "[ 9 -1  3 -5  3 -8  7  9  7  0]\n",
      "[ 9 33  3 33  3 33  7  9  7  0]\n"
     ]
    }
   ],
   "source": [
    "arr = np.random.randint(-10, 10, size=(10))\n",
    "print(arr)\n",
    "arr[arr < 0] = 33\n",
    "print(arr)"
   ]
  },
  {
   "cell_type": "markdown",
   "id": "f82156da",
   "metadata": {},
   "source": [
    "**Exercise**. Replace all positive numbers by -5, but withoug changing the original array"
   ]
  },
  {
   "cell_type": "code",
   "execution_count": 156,
   "id": "fb4731b0",
   "metadata": {},
   "outputs": [
    {
     "name": "stdout",
     "output_type": "stream",
     "text": [
      "[-2  5 -2  7 -5  1  3  2 -8  7]\n"
     ]
    },
    {
     "data": {
      "text/plain": [
       "array([-2, -5, -2, -5, -5, -5, -5, -5, -8, -5])"
      ]
     },
     "execution_count": 156,
     "metadata": {},
     "output_type": "execute_result"
    }
   ],
   "source": [
    "arr = np.random.randint(-10, 10, size=(10))\n",
    "print(arr)\n",
    "np.where(arr > 0, -5, arr)"
   ]
  },
  {
   "cell_type": "markdown",
   "id": "a12fefa8",
   "metadata": {},
   "source": [
    "**Exercise**. Replace a 1D array with numbers from 1 to 10 into a 2D array with two rows"
   ]
  },
  {
   "cell_type": "code",
   "execution_count": 157,
   "id": "92bb6948",
   "metadata": {},
   "outputs": [
    {
     "data": {
      "text/plain": [
       "array([[ 1,  2,  3,  4,  5],\n",
       "       [ 6,  7,  8,  9, 10]])"
      ]
     },
     "execution_count": 157,
     "metadata": {},
     "output_type": "execute_result"
    }
   ],
   "source": [
    "# 5. Convierta un arreglo 1D con los numeros del 1 al 10 en otro 2D con dos filas\n",
    "a = np.arange(1, 11)\n",
    "a.reshape((-1, 5))"
   ]
  },
  {
   "cell_type": "markdown",
   "id": "227742a9",
   "metadata": {},
   "source": [
    "**Exercise**. Stack two arrays vertically and two arrays horizontally"
   ]
  },
  {
   "cell_type": "code",
   "execution_count": 158,
   "id": "ea62f896",
   "metadata": {},
   "outputs": [
    {
     "name": "stdout",
     "output_type": "stream",
     "text": [
      "[[1. 1. 3. 3. 3. 3. 3.]\n",
      " [1. 1. 3. 3. 3. 3. 3.]\n",
      " [1. 1. 3. 3. 3. 3. 3.]]\n",
      "[[1. 1.]\n",
      " [1. 1.]\n",
      " [1. 1.]\n",
      " [2. 2.]\n",
      " [2. 2.]\n",
      " [2. 2.]\n",
      " [2. 2.]]\n"
     ]
    }
   ],
   "source": [
    "a = np.ones((3, 2))\n",
    "b = np.ones((4, 2)) * 2\n",
    "c = np.ones((3, 5)) * 3\n",
    "print(np.hstack([a, c]))\n",
    "print(np.vstack([a, b]))"
   ]
  },
  {
   "cell_type": "markdown",
   "id": "82383063",
   "metadata": {},
   "source": [
    "**Exercise**. Starting from the array [1, 2, 3], generate the following array transforming a using numpy functions:\n",
    "[1, 1, 1, 2, 2, 2, 3, 3, 3, 1, 2, 3, 1, 2, 3, 1, 2, 3]"
   ]
  },
  {
   "cell_type": "code",
   "execution_count": 160,
   "id": "2f5ce099",
   "metadata": {},
   "outputs": [
    {
     "data": {
      "text/plain": [
       "array([1, 1, 1, 2, 2, 2, 3, 3, 3, 1, 2, 3, 1, 2, 3, 1, 2, 3])"
      ]
     },
     "execution_count": 160,
     "metadata": {},
     "output_type": "execute_result"
    }
   ],
   "source": [
    "a = np.array([1, 2, 3])\n",
    "out = np.array([1, 1, 1, 2, 2, 2, 3, 3, 3, 1, 2, 3, 1, 2, 3, 1, 2, 3])\n",
    "\n",
    "np.hstack([\n",
    "    np.vstack([a, a, a]).T.reshape((1, -1))[0],\n",
    "    a, a, a])"
   ]
  },
  {
   "cell_type": "markdown",
   "id": "a9bac67f",
   "metadata": {},
   "source": [
    "Like most things in Python that looks complex, there is a better way of doing it"
   ]
  },
  {
   "cell_type": "code",
   "execution_count": 161,
   "id": "6067f940",
   "metadata": {},
   "outputs": [
    {
     "data": {
      "text/plain": [
       "array([1, 1, 1, 2, 2, 2, 3, 3, 3, 1, 2, 3, 1, 2, 3, 1, 2, 3])"
      ]
     },
     "execution_count": 161,
     "metadata": {},
     "output_type": "execute_result"
    }
   ],
   "source": [
    "np.r_[np.repeat(a,3), np.tile(a, 3)]"
   ]
  },
  {
   "cell_type": "markdown",
   "id": "67ae06c0",
   "metadata": {},
   "source": [
    "**Exercise**. Find the positions where two arrays match"
   ]
  },
  {
   "cell_type": "code",
   "execution_count": 165,
   "id": "10e089c8",
   "metadata": {},
   "outputs": [
    {
     "data": {
      "text/plain": [
       "(array([1, 3, 5, 7]),)"
      ]
     },
     "execution_count": 165,
     "metadata": {},
     "output_type": "execute_result"
    }
   ],
   "source": [
    "a = np.array([1,2,3,2,3,4,3,4,5,6])\n",
    "b = np.array([7,2,10,2,7,4,9,4,9,8])\n",
    "np.where(a == b)"
   ]
  },
  {
   "cell_type": "markdown",
   "id": "11f329b6",
   "metadata": {},
   "source": [
    "**Exercise**. From a numpy array get a subarray with values between 5 and 10, both included"
   ]
  },
  {
   "cell_type": "code",
   "execution_count": 166,
   "id": "e8356b3e",
   "metadata": {},
   "outputs": [
    {
     "data": {
      "text/plain": [
       "array([ 6,  9, 10])"
      ]
     },
     "execution_count": 166,
     "metadata": {},
     "output_type": "execute_result"
    }
   ],
   "source": [
    "a = np.array([2, 6, 1, 9, 10, 3, 27])\n",
    "a[np.where((5 <= a) & (a <= 10))]"
   ]
  },
  {
   "cell_type": "markdown",
   "id": "7a01994e",
   "metadata": {},
   "source": [
    "**Exercise**. Swap the first and second row of an array"
   ]
  },
  {
   "cell_type": "code",
   "execution_count": 168,
   "id": "5b859cab",
   "metadata": {},
   "outputs": [
    {
     "name": "stdout",
     "output_type": "stream",
     "text": [
      "[[0 1 2]\n",
      " [3 4 5]\n",
      " [6 7 8]]\n",
      "[[3 4 5]\n",
      " [0 1 2]\n",
      " [6 7 8]]\n"
     ]
    }
   ],
   "source": [
    "arr = np.arange(9).reshape(3,3)\n",
    "print(arr)\n",
    "print(arr[[1, 0, 2], :])"
   ]
  },
  {
   "cell_type": "markdown",
   "id": "fa458719",
   "metadata": {},
   "source": [
    "**Exercise**. Swap the last two columns from an array"
   ]
  },
  {
   "cell_type": "code",
   "execution_count": 170,
   "id": "c5a6d603",
   "metadata": {},
   "outputs": [
    {
     "name": "stdout",
     "output_type": "stream",
     "text": [
      "[[0 1 2]\n",
      " [3 4 5]\n",
      " [6 7 8]]\n",
      "[[0 2 1]\n",
      " [3 5 4]\n",
      " [6 8 7]]\n"
     ]
    }
   ],
   "source": [
    "arr = np.arange(9).reshape(3,3)\n",
    "print(arr)\n",
    "print(arr[:, [0, 2, 1]])"
   ]
  },
  {
   "cell_type": "markdown",
   "id": "f42c063d",
   "metadata": {},
   "source": [
    "**Exercise**. Invert the rows of a numpy array."
   ]
  },
  {
   "cell_type": "code",
   "execution_count": 173,
   "id": "1673690d",
   "metadata": {},
   "outputs": [
    {
     "name": "stdout",
     "output_type": "stream",
     "text": [
      "[[ 0  1  2  3]\n",
      " [ 4  5  6  7]\n",
      " [ 8  9 10 11]\n",
      " [12 13 14 15]]\n"
     ]
    },
    {
     "data": {
      "text/plain": [
       "array([[12, 13, 14, 15],\n",
       "       [ 8,  9, 10, 11],\n",
       "       [ 4,  5,  6,  7],\n",
       "       [ 0,  1,  2,  3]])"
      ]
     },
     "execution_count": 173,
     "metadata": {},
     "output_type": "execute_result"
    }
   ],
   "source": [
    "arr = np.arange(16).reshape(4,4)\n",
    "print(arr)\n",
    "arr[np.arange(3, -1, -1), :]"
   ]
  },
  {
   "cell_type": "markdown",
   "id": "33987bda",
   "metadata": {},
   "source": [
    "As usual, there is a simpler solution"
   ]
  },
  {
   "cell_type": "code",
   "execution_count": 175,
   "id": "15291500",
   "metadata": {},
   "outputs": [
    {
     "data": {
      "text/plain": [
       "array([[12, 13, 14, 15],\n",
       "       [ 8,  9, 10, 11],\n",
       "       [ 4,  5,  6,  7],\n",
       "       [ 0,  1,  2,  3]])"
      ]
     },
     "execution_count": 175,
     "metadata": {},
     "output_type": "execute_result"
    }
   ],
   "source": [
    "arr[::-1, :]"
   ]
  },
  {
   "cell_type": "markdown",
   "id": "09dd5369",
   "metadata": {},
   "source": [
    "**Exercise**. Invert the columns from a numpy array"
   ]
  },
  {
   "cell_type": "code",
   "execution_count": 177,
   "id": "63e7cf0f",
   "metadata": {},
   "outputs": [
    {
     "name": "stdout",
     "output_type": "stream",
     "text": [
      "[[ 0  1  2  3]\n",
      " [ 4  5  6  7]\n",
      " [ 8  9 10 11]\n",
      " [12 13 14 15]]\n",
      "[[ 3  2  1  0]\n",
      " [ 7  6  5  4]\n",
      " [11 10  9  8]\n",
      " [15 14 13 12]]\n"
     ]
    }
   ],
   "source": [
    "arr = np.arange(16).reshape(4,4)\n",
    "print(arr)\n",
    "print(arr[:,::-1])"
   ]
  },
  {
   "cell_type": "markdown",
   "id": "8f032853",
   "metadata": {},
   "source": [
    "**Exercise**. Create a numpy array with 1 in the border and 0 in the inside"
   ]
  },
  {
   "cell_type": "code",
   "execution_count": 178,
   "id": "c6669a09",
   "metadata": {},
   "outputs": [
    {
     "data": {
      "text/plain": [
       "array([[1., 1., 1., 1., 1., 1., 1., 1.],\n",
       "       [1., 0., 0., 0., 0., 0., 0., 1.],\n",
       "       [1., 0., 0., 0., 0., 0., 0., 1.],\n",
       "       [1., 1., 1., 1., 1., 1., 1., 1.]])"
      ]
     },
     "execution_count": 178,
     "metadata": {},
     "output_type": "execute_result"
    }
   ],
   "source": [
    "def cuad(size):\n",
    "    a = np.ones(size)\n",
    "    a[1:-1,1:-1] = 0\n",
    "    return a\n",
    "\n",
    "cuad((4, 8))"
   ]
  },
  {
   "cell_type": "markdown",
   "id": "3e544548",
   "metadata": {},
   "source": [
    "**Exercise**. Create a padding of 0 around a 2D array."
   ]
  },
  {
   "cell_type": "code",
   "execution_count": 179,
   "id": "38da2df8",
   "metadata": {},
   "outputs": [
    {
     "name": "stdout",
     "output_type": "stream",
     "text": [
      "[[0 1 2]\n",
      " [3 4 5]\n",
      " [6 7 8]]\n",
      "[[0. 0. 0. 0. 0.]\n",
      " [0. 0. 1. 2. 0.]\n",
      " [0. 3. 4. 5. 0.]\n",
      " [0. 6. 7. 8. 0.]\n",
      " [0. 0. 0. 0. 0.]]\n"
     ]
    }
   ],
   "source": [
    "a = np.arange(9).reshape(3,3)\n",
    "print(a)\n",
    "r,c = a.shape\n",
    "b = np.zeros((r+2, c+2))\n",
    "b[1:-1, 1:-1] = a\n",
    "print(b)"
   ]
  },
  {
   "cell_type": "markdown",
   "id": "19d00102",
   "metadata": {},
   "source": [
    "This is a so common operation that already has a numpy function for that, having many more optons"
   ]
  },
  {
   "cell_type": "code",
   "execution_count": 184,
   "id": "7e406040",
   "metadata": {},
   "outputs": [
    {
     "data": {
      "text/plain": [
       "array([[0, 0, 0, 0, 0],\n",
       "       [0, 0, 1, 2, 0],\n",
       "       [0, 3, 4, 5, 0],\n",
       "       [0, 6, 7, 8, 0],\n",
       "       [0, 0, 0, 0, 0]])"
      ]
     },
     "execution_count": 184,
     "metadata": {},
     "output_type": "execute_result"
    }
   ],
   "source": [
    "np.pad(a, pad_width=1, mode='constant', constant_values=0)"
   ]
  },
  {
   "cell_type": "markdown",
   "id": "dbca00b1",
   "metadata": {},
   "source": [
    "**Exercise**. Create a square 5x5 matrix with values 1, 2, 3, ... just below the diagonal."
   ]
  },
  {
   "cell_type": "code",
   "execution_count": 192,
   "id": "3f283b4f",
   "metadata": {},
   "outputs": [
    {
     "data": {
      "text/plain": [
       "array([[0, 0, 0, 0, 0],\n",
       "       [1, 0, 0, 0, 0],\n",
       "       [0, 2, 0, 0, 0],\n",
       "       [0, 0, 3, 0, 0],\n",
       "       [0, 0, 0, 4, 0]])"
      ]
     },
     "execution_count": 192,
     "metadata": {},
     "output_type": "execute_result"
    }
   ],
   "source": [
    "a = np.zeros((5, 5), dtype=int)\n",
    "for idx in range(4):\n",
    "    a[idx+1, idx] = idx + 1\n",
    "a"
   ]
  },
  {
   "cell_type": "markdown",
   "id": "65de34d4",
   "metadata": {},
   "source": [
    "There is a simpler way using np.diag"
   ]
  },
  {
   "cell_type": "code",
   "execution_count": 197,
   "id": "782d0a75",
   "metadata": {},
   "outputs": [
    {
     "data": {
      "text/plain": [
       "array([[0, 0, 0, 0, 0],\n",
       "       [1, 0, 0, 0, 0],\n",
       "       [0, 2, 0, 0, 0],\n",
       "       [0, 0, 3, 0, 0],\n",
       "       [0, 0, 0, 4, 0]])"
      ]
     },
     "execution_count": 197,
     "metadata": {},
     "output_type": "execute_result"
    }
   ],
   "source": [
    "np.diag(range(1,5), k=-1)"
   ]
  },
  {
   "cell_type": "markdown",
   "id": "def1cd1e",
   "metadata": {},
   "source": [
    "**Exercise**. Create a 8x8 matrix with a chessboard-like structure"
   ]
  },
  {
   "cell_type": "code",
   "execution_count": 45,
   "id": "9b7cb5e9",
   "metadata": {},
   "outputs": [
    {
     "data": {
      "text/plain": [
       "array([[0, 1, 0, 1, 0, 1, 0, 1],\n",
       "       [1, 0, 1, 0, 1, 0, 1, 0],\n",
       "       [0, 1, 0, 1, 0, 1, 0, 1],\n",
       "       [1, 0, 1, 0, 1, 0, 1, 0],\n",
       "       [0, 1, 0, 1, 0, 1, 0, 1],\n",
       "       [1, 0, 1, 0, 1, 0, 1, 0],\n",
       "       [0, 1, 0, 1, 0, 1, 0, 1],\n",
       "       [1, 0, 1, 0, 1, 0, 1, 0]])"
      ]
     },
     "execution_count": 45,
     "metadata": {},
     "output_type": "execute_result"
    }
   ],
   "source": [
    "(np.arange(0,81).reshape((9,-1)) % 2)[:8,:8]"
   ]
  },
  {
   "cell_type": "markdown",
   "id": "de801f09",
   "metadata": {},
   "source": [
    "There are many other solutions, like this one"
   ]
  },
  {
   "cell_type": "code",
   "execution_count": 198,
   "id": "bcd52ab8",
   "metadata": {},
   "outputs": [
    {
     "data": {
      "text/plain": [
       "array([[0., 1., 0., 1., 0., 1., 0., 1.],\n",
       "       [1., 0., 1., 0., 1., 0., 1., 0.],\n",
       "       [0., 1., 0., 1., 0., 1., 0., 1.],\n",
       "       [1., 0., 1., 0., 1., 0., 1., 0.],\n",
       "       [0., 1., 0., 1., 0., 1., 0., 1.],\n",
       "       [1., 0., 1., 0., 1., 0., 1., 0.],\n",
       "       [0., 1., 0., 1., 0., 1., 0., 1.],\n",
       "       [1., 0., 1., 0., 1., 0., 1., 0.]])"
      ]
     },
     "execution_count": 198,
     "metadata": {},
     "output_type": "execute_result"
    }
   ],
   "source": [
    "a = np.ones((8,8))\n",
    "a[::2,::2] = 0\n",
    "a[1::2,1::2] = 0\n",
    "a"
   ]
  },
  {
   "cell_type": "markdown",
   "id": "66a669f9",
   "metadata": {},
   "source": [
    "The same using np.tile"
   ]
  },
  {
   "cell_type": "code",
   "execution_count": 199,
   "id": "bb9b2cb0",
   "metadata": {},
   "outputs": [
    {
     "data": {
      "text/plain": [
       "array([[1, 0, 1, 0, 1, 0, 1, 0],\n",
       "       [0, 1, 0, 1, 0, 1, 0, 1],\n",
       "       [1, 0, 1, 0, 1, 0, 1, 0],\n",
       "       [0, 1, 0, 1, 0, 1, 0, 1],\n",
       "       [1, 0, 1, 0, 1, 0, 1, 0],\n",
       "       [0, 1, 0, 1, 0, 1, 0, 1],\n",
       "       [1, 0, 1, 0, 1, 0, 1, 0],\n",
       "       [0, 1, 0, 1, 0, 1, 0, 1]])"
      ]
     },
     "execution_count": 199,
     "metadata": {},
     "output_type": "execute_result"
    }
   ],
   "source": [
    "np.tile([1, 0], 36).reshape((-1, 9))[:, :-1]"
   ]
  },
  {
   "cell_type": "markdown",
   "id": "32a95115",
   "metadata": {},
   "source": [
    "Other with np.tile"
   ]
  },
  {
   "cell_type": "code",
   "execution_count": 200,
   "id": "3f646c94",
   "metadata": {},
   "outputs": [
    {
     "data": {
      "text/plain": [
       "array([[0, 1, 0, 1, 0, 1, 0, 1],\n",
       "       [1, 0, 1, 0, 1, 0, 1, 0],\n",
       "       [0, 1, 0, 1, 0, 1, 0, 1],\n",
       "       [1, 0, 1, 0, 1, 0, 1, 0],\n",
       "       [0, 1, 0, 1, 0, 1, 0, 1],\n",
       "       [1, 0, 1, 0, 1, 0, 1, 0],\n",
       "       [0, 1, 0, 1, 0, 1, 0, 1],\n",
       "       [1, 0, 1, 0, 1, 0, 1, 0]])"
      ]
     },
     "execution_count": 200,
     "metadata": {},
     "output_type": "execute_result"
    }
   ],
   "source": [
    "np.tile([[0, 1],[1,0]], (4,4))"
   ]
  },
  {
   "cell_type": "markdown",
   "id": "3393289b",
   "metadata": {},
   "source": [
    "**Exercise**. Normalize a 5x5 array"
   ]
  },
  {
   "cell_type": "code",
   "execution_count": 202,
   "id": "6cb039b3",
   "metadata": {},
   "outputs": [
    {
     "name": "stdout",
     "output_type": "stream",
     "text": [
      "[[ 0.79319212  1.11490928  1.0740123  -1.33645257  0.70465325]\n",
      " [-1.87412037  0.60459742  0.36317626  0.35800222  0.95086675]\n",
      " [-0.65458865 -0.77147867  1.0878553  -0.65568534  0.11699032]\n",
      " [-0.2557065  -1.17881771 -1.76774791  1.2127547   1.34891586]\n",
      " [ 0.95114783  0.17385669  0.01501575 -0.75619523 -1.61915306]]\n"
     ]
    }
   ],
   "source": [
    "arr = np.random.random((5,5))\n",
    "m = np.mean(arr)\n",
    "st = np.std(arr)\n",
    "norm = (arr - m)/st\n",
    "print(norm)"
   ]
  },
  {
   "cell_type": "markdown",
   "id": "861566fc",
   "metadata": {},
   "source": [
    "**Exercise**. In a 1D array, find the oposite (-x) of the elements between 3 and 8"
   ]
  },
  {
   "cell_type": "code",
   "execution_count": 203,
   "id": "f66e78d9",
   "metadata": {},
   "outputs": [
    {
     "data": {
      "text/plain": [
       "array([ 1,  2, -3, -4, -5, -6, -7, -8,  9, 10, 11, 12, 13])"
      ]
     },
     "execution_count": 203,
     "metadata": {},
     "output_type": "execute_result"
    }
   ],
   "source": [
    "arr = np.arange(1, 14)\n",
    "arr[(arr >= 3)&(arr <=8)] *= -1\n",
    "arr"
   ]
  },
  {
   "cell_type": "markdown",
   "id": "e7072ec5",
   "metadata": {},
   "source": [
    "**Exercise**. Create a 5x5 matrix with values in the rows from 1 to 4"
   ]
  },
  {
   "cell_type": "code",
   "execution_count": 204,
   "id": "8877729b",
   "metadata": {},
   "outputs": [
    {
     "data": {
      "text/plain": [
       "array([[0., 1., 2., 3., 4.],\n",
       "       [0., 1., 2., 3., 4.],\n",
       "       [0., 1., 2., 3., 4.],\n",
       "       [0., 1., 2., 3., 4.],\n",
       "       [0., 1., 2., 3., 4.]])"
      ]
     },
     "execution_count": 204,
     "metadata": {},
     "output_type": "execute_result"
    }
   ],
   "source": [
    "arr = np.zeros((5, 5))\n",
    "arr + np.arange(5)"
   ]
  },
  {
   "cell_type": "markdown",
   "id": "dced206d",
   "metadata": {},
   "source": [
    "doing broadcast by hand:"
   ]
  },
  {
   "cell_type": "code",
   "execution_count": 206,
   "id": "abd4405e",
   "metadata": {},
   "outputs": [
    {
     "data": {
      "text/plain": [
       "array([[0, 1, 2, 3, 4],\n",
       "       [0, 1, 2, 3, 4],\n",
       "       [0, 1, 2, 3, 4],\n",
       "       [0, 1, 2, 3, 4],\n",
       "       [0, 1, 2, 3, 4]])"
      ]
     },
     "execution_count": 206,
     "metadata": {},
     "output_type": "execute_result"
    }
   ],
   "source": [
    "np.tile(np.arange(5), (5,1))"
   ]
  },
  {
   "cell_type": "markdown",
   "id": "a2aff81a",
   "metadata": {},
   "source": [
    "**Exercise**. Create a vector of size 10 with x-distant values between 0 and 1, both excluded"
   ]
  },
  {
   "cell_type": "code",
   "execution_count": 209,
   "id": "d0d6cf59",
   "metadata": {},
   "outputs": [
    {
     "data": {
      "text/plain": [
       "array([0.09090909, 0.18181818, 0.27272727, 0.36363636, 0.45454545,\n",
       "       0.54545455, 0.63636364, 0.72727273, 0.81818182, 0.90909091])"
      ]
     },
     "execution_count": 209,
     "metadata": {},
     "output_type": "execute_result"
    }
   ],
   "source": [
    "(np.arange(0,11)*(1/11))[1:]"
   ]
  },
  {
   "cell_type": "markdown",
   "id": "6eb96168",
   "metadata": {},
   "source": [
    "there is a numpy function for that"
   ]
  },
  {
   "cell_type": "code",
   "execution_count": 211,
   "id": "d81b6506",
   "metadata": {},
   "outputs": [
    {
     "data": {
      "text/plain": [
       "array([0.09090909, 0.18181818, 0.27272727, 0.36363636, 0.45454545,\n",
       "       0.54545455, 0.63636364, 0.72727273, 0.81818182, 0.90909091])"
      ]
     },
     "execution_count": 211,
     "metadata": {},
     "output_type": "execute_result"
    }
   ],
   "source": [
    "np.linspace(0,1,11,endpoint=False)[1:]"
   ]
  },
  {
   "cell_type": "markdown",
   "id": "bc889fcb",
   "metadata": {},
   "source": [
    "**Exercise**. A matrix contains cartesian coordinates. Convert them to polar coordinates."
   ]
  },
  {
   "cell_type": "code",
   "execution_count": 213,
   "id": "596a35ad",
   "metadata": {},
   "outputs": [
    {
     "name": "stdout",
     "output_type": "stream",
     "text": [
      "[[0.91970977 0.79243561]\n",
      " [0.48987371 0.43600286]\n",
      " [0.00334765 0.83958714]\n",
      " [0.82941152 0.22431476]\n",
      " [0.98885016 0.19359945]]\n"
     ]
    },
    {
     "data": {
      "text/plain": [
       "array([[1.21400999, 0.71119856],\n",
       "       [0.65580084, 0.72728007],\n",
       "       [0.83959381, 1.56680909],\n",
       "       [0.85920927, 0.26413167],\n",
       "       [1.00762364, 0.1933369 ]])"
      ]
     },
     "execution_count": 213,
     "metadata": {},
     "output_type": "execute_result"
    }
   ],
   "source": [
    "cart = np.random.random((5,2))\n",
    "print(cart)\n",
    "\n",
    "x, y = cart[:,0], cart[:,1]\n",
    "r = np.sqrt(x**2+y**2)\n",
    "t = np.arctan2(y, x)\n",
    "np.hstack([r[:,np.newaxis], t[:, np.newaxis]])"
   ]
  },
  {
   "cell_type": "markdown",
   "id": "f948935b",
   "metadata": {},
   "source": [
    "**Exercise**. Create a random vector and substitute the maximum value by 0\n",
    "\n",
    "Hint: use the np.argmax function"
   ]
  },
  {
   "cell_type": "code",
   "execution_count": 214,
   "id": "70d48aea",
   "metadata": {},
   "outputs": [
    {
     "name": "stdout",
     "output_type": "stream",
     "text": [
      "[0.84036843 0.83799785 0.28955445 0.68200849 0.95667029 0.69232624\n",
      " 0.11228948 0.37968504 0.98526196 0.95298598]\n"
     ]
    },
    {
     "data": {
      "text/plain": [
       "array([0.84036843, 0.83799785, 0.28955445, 0.68200849, 0.95667029,\n",
       "       0.69232624, 0.11228948, 0.37968504, 0.        , 0.95298598])"
      ]
     },
     "execution_count": 214,
     "metadata": {},
     "output_type": "execute_result"
    }
   ],
   "source": [
    "v = np.random.random(10)\n",
    "print(v)\n",
    "v[np.argmax(v)] = 0\n",
    "v"
   ]
  },
  {
   "cell_type": "markdown",
   "id": "e0d0e242",
   "metadata": {},
   "source": [
    "**Exercise**. Find the value closer to a given value in a random array"
   ]
  },
  {
   "cell_type": "code",
   "execution_count": 216,
   "id": "2eb1c28c",
   "metadata": {},
   "outputs": [
    {
     "name": "stdout",
     "output_type": "stream",
     "text": [
      "[31 75 36 63 86 61 25  1  0 16 11 82  3 69  0 24 31 83  5 28]\n"
     ]
    },
    {
     "data": {
      "text/plain": [
       "16"
      ]
     },
     "execution_count": 216,
     "metadata": {},
     "output_type": "execute_result"
    }
   ],
   "source": [
    "arr = np.random.randint(0,100, size=(20))\n",
    "v = 15\n",
    "print(arr)\n",
    "arr[np.argmin(np.abs(arr - v))]"
   ]
  },
  {
   "cell_type": "markdown",
   "id": "37d81586",
   "metadata": {},
   "source": [
    "**Exercise**. Build an array of positions that uniformly cover the area [0,1]x[0,1]"
   ]
  },
  {
   "cell_type": "code",
   "execution_count": 217,
   "id": "cbbe9bda",
   "metadata": {},
   "outputs": [
    {
     "data": {
      "text/plain": [
       "array([[0.  , 0.  ],\n",
       "       [0.  , 0.25],\n",
       "       [0.  , 0.5 ],\n",
       "       [0.  , 0.75],\n",
       "       [0.  , 1.  ],\n",
       "       [0.25, 0.  ],\n",
       "       [0.25, 0.25],\n",
       "       [0.25, 0.5 ],\n",
       "       [0.25, 0.75],\n",
       "       [0.25, 1.  ],\n",
       "       [0.5 , 0.  ],\n",
       "       [0.5 , 0.25],\n",
       "       [0.5 , 0.5 ],\n",
       "       [0.5 , 0.75],\n",
       "       [0.5 , 1.  ],\n",
       "       [0.75, 0.  ],\n",
       "       [0.75, 0.25],\n",
       "       [0.75, 0.5 ],\n",
       "       [0.75, 0.75],\n",
       "       [0.75, 1.  ],\n",
       "       [1.  , 0.  ],\n",
       "       [1.  , 0.25],\n",
       "       [1.  , 0.5 ],\n",
       "       [1.  , 0.75],\n",
       "       [1.  , 1.  ]])"
      ]
     },
     "execution_count": 217,
     "metadata": {},
     "output_type": "execute_result"
    }
   ],
   "source": [
    "delta = 5\n",
    "import itertools as it\n",
    "np.array(list(it.product(range(0,delta), range(0, delta)))) / (delta - 1)"
   ]
  },
  {
   "cell_type": "markdown",
   "id": "02a71874",
   "metadata": {},
   "source": [
    "There is numpy function for doing something similar."
   ]
  },
  {
   "cell_type": "code",
   "execution_count": 218,
   "id": "80c3e314",
   "metadata": {
    "scrolled": true
   },
   "outputs": [
    {
     "data": {
      "text/plain": [
       "(array([[0.  , 0.25, 0.5 , 0.75, 1.  ],\n",
       "        [0.  , 0.25, 0.5 , 0.75, 1.  ],\n",
       "        [0.  , 0.25, 0.5 , 0.75, 1.  ],\n",
       "        [0.  , 0.25, 0.5 , 0.75, 1.  ],\n",
       "        [0.  , 0.25, 0.5 , 0.75, 1.  ]]),\n",
       " array([[0.  , 0.  , 0.  , 0.  , 0.  ],\n",
       "        [0.25, 0.25, 0.25, 0.25, 0.25],\n",
       "        [0.5 , 0.5 , 0.5 , 0.5 , 0.5 ],\n",
       "        [0.75, 0.75, 0.75, 0.75, 0.75],\n",
       "        [1.  , 1.  , 1.  , 1.  , 1.  ]]))"
      ]
     },
     "execution_count": 218,
     "metadata": {},
     "output_type": "execute_result"
    }
   ],
   "source": [
    "delta = 5\n",
    "x, y = np.meshgrid(np.linspace(0,1,delta), np.linspace(0,1,delta))\n",
    "x,y"
   ]
  },
  {
   "cell_type": "markdown",
   "id": "66808bda",
   "metadata": {},
   "source": [
    "This way of returning values is very handy for many applications, like function evaluation"
   ]
  },
  {
   "cell_type": "code",
   "execution_count": 219,
   "id": "76565e6b",
   "metadata": {
    "scrolled": true
   },
   "outputs": [
    {
     "data": {
      "text/plain": [
       "array([[0.        , 0.06245932, 0.24740396, 0.53330267, 0.84147098],\n",
       "       [0.06245932, 0.12467473, 0.30743851, 0.58509727, 0.87357494],\n",
       "       [0.24740396, 0.30743851, 0.47942554, 0.72600866, 0.94898462],\n",
       "       [0.53330267, 0.58509727, 0.72600866, 0.90226759, 0.99996559],\n",
       "       [0.84147098, 0.87357494, 0.94898462, 0.99996559, 0.90929743]])"
      ]
     },
     "execution_count": 219,
     "metadata": {},
     "output_type": "execute_result"
    }
   ],
   "source": [
    "np.sin(x**2 + y**2)"
   ]
  },
  {
   "cell_type": "code",
   "execution_count": 220,
   "id": "77d61c17",
   "metadata": {},
   "outputs": [
    {
     "ename": "ModuleNotFoundError",
     "evalue": "No module named 'matplotlib'",
     "output_type": "error",
     "traceback": [
      "\u001b[0;31m---------------------------------------------------------------------------\u001b[0m",
      "\u001b[0;31mModuleNotFoundError\u001b[0m                       Traceback (most recent call last)",
      "Input \u001b[0;32mIn [220]\u001b[0m, in \u001b[0;36m<cell line: 1>\u001b[0;34m()\u001b[0m\n\u001b[0;32m----> 1\u001b[0m \u001b[38;5;28;01mimport\u001b[39;00m \u001b[38;5;21;01mmatplotlib\u001b[39;00m\u001b[38;5;21;01m.\u001b[39;00m\u001b[38;5;21;01mpyplot\u001b[39;00m \u001b[38;5;28;01mas\u001b[39;00m \u001b[38;5;21;01mplt\u001b[39;00m\n\u001b[1;32m      2\u001b[0m \u001b[38;5;28;01mfrom\u001b[39;00m \u001b[38;5;21;01mmpl_toolkits\u001b[39;00m\u001b[38;5;21;01m.\u001b[39;00m\u001b[38;5;21;01mmplot3d\u001b[39;00m \u001b[38;5;28;01mimport\u001b[39;00m Axes3D\n",
      "\u001b[0;31mModuleNotFoundError\u001b[0m: No module named 'matplotlib'"
     ]
    }
   ],
   "source": [
    "import matplotlib.pyplot as plt\n",
    "from mpl_toolkits.mplot3d import Axes3D"
   ]
  },
  {
   "cell_type": "code",
   "execution_count": null,
   "id": "f8b7878b",
   "metadata": {},
   "outputs": [],
   "source": [
    "# 29. Dado un arreglo de 4 dimensiones, conviertalo en un arreglo de 3 dimensiones colapsando las dos ultimas en 1\n",
    "arr = np.arange(48).reshape((2, 3, 4, 2))\n",
    "print(arr)\n",
    "arr2 = arr.reshape(arr.shape[:-2]+(-1,))\n",
    "print(arr2)"
   ]
  },
  {
   "cell_type": "code",
   "execution_count": null,
   "id": "96c4c4dc",
   "metadata": {},
   "outputs": [],
   "source": [
    "# 30. Considere el vector [1,2,3,4,5]. Como hacemos un nuevo vector insertando 3 ceros consecutivos \n",
    "# entre cada uno de estos valores\n",
    "x = np.array([1, 2, 3, 4, 5])\n",
    "nz = 6\n",
    "np.hstack([x[:,np.newaxis], np.zeros((5, nz))]).reshape((1,-1))"
   ]
  },
  {
   "cell_type": "code",
   "execution_count": null,
   "id": "36124ccb",
   "metadata": {},
   "outputs": [],
   "source": [
    "# otra solución\n",
    "result = np.zeros(len(x)+(len(x)-1)*nz)\n",
    "result[::nz+1] = x\n",
    "result"
   ]
  },
  {
   "cell_type": "code",
   "execution_count": null,
   "id": "034f4bd3",
   "metadata": {},
   "outputs": [],
   "source": []
  }
 ],
 "metadata": {
  "kernelspec": {
   "display_name": "python_lectures",
   "language": "python",
   "name": "python_lectures"
  },
  "language_info": {
   "codemirror_mode": {
    "name": "ipython",
    "version": 3
   },
   "file_extension": ".py",
   "mimetype": "text/x-python",
   "name": "python",
   "nbconvert_exporter": "python",
   "pygments_lexer": "ipython3",
   "version": "3.8.16"
  }
 },
 "nbformat": 4,
 "nbformat_minor": 5
}
