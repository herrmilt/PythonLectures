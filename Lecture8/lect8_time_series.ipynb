{
 "cells": [
  {
   "cell_type": "markdown",
   "id": "9911371c",
   "metadata": {},
   "source": [
    "## Lecture 8. Time Series Analysis and Forecast\n",
    "\n",
    "Outline:\n",
    "- [Time Series Analysis](time_series_intro.ipynb)\n",
    "- [Predicting Energy Consumption with XGBoost](pred_energy.ipynb)\n",
    "- Recurrent Neural Networks (RNN), presentation\n",
    "- [RNN in Python](rnn.ipynb)\n",
    "- [Solving a real problem with RNN](rnn_real_problem.ipynb)\n",
    "- Long Short Time Memory (LSTM), presentation\n",
    "- [LSTM in Python](lstm.ipynb)\n",
    "\n",
    "Usar generadores de espirales y comparar ...\n",
    "- Comenzar por lineas simples ...\n"
   ]
  }
 ],
 "metadata": {
  "kernelspec": {
   "display_name": "python_lectures",
   "language": "python",
   "name": "python_lectures"
  },
  "language_info": {
   "codemirror_mode": {
    "name": "ipython",
    "version": 3
   },
   "file_extension": ".py",
   "mimetype": "text/x-python",
   "name": "python",
   "nbconvert_exporter": "python",
   "pygments_lexer": "ipython3",
   "version": "3.8.16"
  }
 },
 "nbformat": 4,
 "nbformat_minor": 5
}
