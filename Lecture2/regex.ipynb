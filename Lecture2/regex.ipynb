{
 "cells": [
  {
   "cell_type": "markdown",
   "id": "68ab7c4f",
   "metadata": {},
   "source": [
    "# Regular Expressions\n",
    "\n",
    "Regular expressions, often referred to as regex or regexp, are powerful and flexible patterns used to match and manipulate text. They provide a concise and efficient way to search, extract, and modify specific patterns of characters within strings.\n",
    "Python, being a versatile programming language, integrates regular expressions through the re module. \n",
    "\n",
    "## Regular expressions in action"
   ]
  },
  {
   "cell_type": "code",
   "execution_count": 1,
   "id": "0a4fa06d",
   "metadata": {},
   "outputs": [
    {
     "name": "stdout",
     "output_type": "stream",
     "text": [
      "True\n",
      "False\n"
     ]
    }
   ],
   "source": [
    "import re\n",
    "\n",
    "# Validating email\n",
    "\n",
    "def is_valid_email(email):\n",
    "    pattern = r'^[\\w\\.-]+@[\\w\\.-]+\\.\\w+$'\n",
    "    return re.match(pattern, email) is not None\n",
    "\n",
    "email1 = \"john.doe@example.com\"\n",
    "email2 = \"invalid_email\"\n",
    "\n",
    "print(is_valid_email(email1)) \n",
    "print(is_valid_email(email2))  \n"
   ]
  },
  {
   "cell_type": "code",
   "execution_count": 2,
   "id": "44b0643f",
   "metadata": {},
   "outputs": [
    {
     "name": "stdout",
     "output_type": "stream",
     "text": [
      "True\n",
      "False\n",
      "True\n"
     ]
    }
   ],
   "source": [
    "# Validating phone numbers\n",
    "\n",
    "def is_valid_phone_number(phone_number):\n",
    "    pattern = r'^\\d{3}-\\d{3}-\\d{4}(-\\d{2})?$'\n",
    "    return re.match(pattern, phone_number) is not None\n",
    "\n",
    "phone1 = \"123-456-7890-34\"\n",
    "phone2 = \"9876543210\"\n",
    "phone3 = \"123-456-7890\"\n",
    "\n",
    "print(is_valid_phone_number(phone1))  \n",
    "print(is_valid_phone_number(phone2))  \n",
    "print(is_valid_phone_number(phone3))  \n"
   ]
  },
  {
   "cell_type": "code",
   "execution_count": 3,
   "id": "97f3d33c",
   "metadata": {},
   "outputs": [
    {
     "name": "stdout",
     "output_type": "stream",
     "text": [
      "['https://www.example.com', 'https://blog.example.com']\n"
     ]
    }
   ],
   "source": [
    "# Extract URLs from text\n",
    "\n",
    "text = \"Visit my website at https://www.example.com or https://blog.example.com\"\n",
    "\n",
    "pattern = r'https?://[\\w\\.-]+'\n",
    "urls = re.findall(pattern, text)\n",
    "\n",
    "print(urls)  \n"
   ]
  },
  {
   "cell_type": "code",
   "execution_count": 4,
   "id": "5a6c40d9",
   "metadata": {},
   "outputs": [
    {
     "name": "stdout",
     "output_type": "stream",
     "text": [
      "Error Type: File not found\n",
      "File Name: filename.txt\n"
     ]
    }
   ],
   "source": [
    "# Parsing log files\n",
    "\n",
    "log = \"Error: File not found (filename.txt)\"\n",
    "\n",
    "pattern = r'Error: (.+) \\((.+)\\)'\n",
    "match = re.search(pattern, log)\n",
    "\n",
    "if match:\n",
    "    error_type = match.group(1)\n",
    "    file_name = match.group(2)\n",
    "    print(f\"Error Type: {error_type}\")\n",
    "    print(f\"File Name: {file_name}\")\n",
    "else:\n",
    "    print(\"No match found.\")\n"
   ]
  },
  {
   "cell_type": "code",
   "execution_count": 5,
   "id": "11b93e5c",
   "metadata": {},
   "outputs": [
    {
     "name": "stdout",
     "output_type": "stream",
     "text": [
      "This text contains some unwanted characters\n"
     ]
    }
   ],
   "source": [
    "# Data cleaning\n",
    "\n",
    "text = \"This text contains! some@ unwanted# characters$\"\n",
    "\n",
    "pattern = r'[!@#$]'\n",
    "cleaned_text = re.sub(pattern, '', text)\n",
    "\n",
    "print(cleaned_text)  \n"
   ]
  },
  {
   "cell_type": "code",
   "execution_count": 6,
   "id": "c570e6d0",
   "metadata": {},
   "outputs": [
    {
     "name": "stdout",
     "output_type": "stream",
     "text": [
      "['Hello', 'how', 'are', 'you', 'doing', 'today']\n"
     ]
    }
   ],
   "source": [
    "# Tokenizing a sentence\n",
    "import re\n",
    "\n",
    "sentence = \"Hello, how are you doing today?\"\n",
    "\n",
    "pattern = r'\\w+'\n",
    "tokens = re.findall(pattern, sentence)\n",
    "\n",
    "print(tokens)  \n"
   ]
  },
  {
   "cell_type": "code",
   "execution_count": 7,
   "id": "7b60b420",
   "metadata": {},
   "outputs": [
    {
     "name": "stdout",
     "output_type": "stream",
     "text": [
      "['colorful', 'colorfull']\n"
     ]
    }
   ],
   "source": [
    "# Find words that ends with \"ful\" or \"full\"\n",
    "\n",
    "sentence = \"The colorful brown fox jumps over the colorfull lazy dog.\"\n",
    "\n",
    "pattern = r'\\b\\w+full?\\b'\n",
    "result = re.findall(pattern, sentence)\n",
    "\n",
    "print(result)  \n"
   ]
  },
  {
   "cell_type": "markdown",
   "id": "67d8e402",
   "metadata": {},
   "source": [
    "## Basics of Regular Expressions\n",
    "\n",
    "### Matching functions\n",
    "\n",
    "**match** function attempts to match RE pattern to string with optional flags. Here is the syntax for this function:\n",
    "\n",
    "re.match(pattern, string, flags=0)\n",
    "\n",
    "match function returns a **match** objects on success, or **None** on failure. We get *group(idx)* or *groups* to get the expression\n"
   ]
  },
  {
   "cell_type": "code",
   "execution_count": 8,
   "id": "bf9f75ce",
   "metadata": {},
   "outputs": [
    {
     "name": "stdout",
     "output_type": "stream",
     "text": [
      "Cats are smarter than dogs\n",
      "Cats\n",
      "smarter\n"
     ]
    }
   ],
   "source": [
    "line = \"Cats are smarter than dogs\"\n",
    "\n",
    "matchObj = re.match( r'(.*) are (.*?) .*', line)\n",
    "\n",
    "if matchObj:\n",
    "    print(matchObj.group(0))\n",
    "    print(matchObj.group(1))\n",
    "    print(matchObj.group(2))\n",
    "else:\n",
    "    print(\"No match!!\")"
   ]
  },
  {
   "cell_type": "code",
   "execution_count": 9,
   "id": "50488b18",
   "metadata": {},
   "outputs": [
    {
     "name": "stdout",
     "output_type": "stream",
     "text": [
      "None\n"
     ]
    }
   ],
   "source": [
    "line = \"Cats arex smarter than dogs\"\n",
    "\n",
    "matchObj = re.match( r'(.*) are (.*?) .*', line)\n",
    "print(matchObj)"
   ]
  },
  {
   "cell_type": "markdown",
   "id": "0e0b7998",
   "metadata": {},
   "source": [
    "Search vs Match: match checks for a match only at the beginning of the string, while search checks for a match anywhere in the string"
   ]
  },
  {
   "cell_type": "code",
   "execution_count": 10,
   "id": "f42f57e3",
   "metadata": {},
   "outputs": [
    {
     "name": "stdout",
     "output_type": "stream",
     "text": [
      "None\n",
      "are smarter than dogs\n"
     ]
    }
   ],
   "source": [
    "line = \"Cats are smarter than dogs\"\n",
    "\n",
    "matchObj = re.match( r'are (.*?) .*', line)\n",
    "print(matchObj)\n",
    "\n",
    "matchObj = re.search( r'are (.*?) .*', line)\n",
    "print(matchObj.group(0))"
   ]
  },
  {
   "cell_type": "markdown",
   "id": "865eed20",
   "metadata": {},
   "source": [
    "**findall** returns all the ocurrences of the matching pattern"
   ]
  },
  {
   "cell_type": "code",
   "execution_count": 11,
   "id": "e8f06338",
   "metadata": {},
   "outputs": [
    {
     "data": {
      "text/plain": [
       "['sells',\n",
       " 'seashells',\n",
       " 'seashore',\n",
       " 'shells',\n",
       " 'she',\n",
       " 'sells',\n",
       " 'surely',\n",
       " 'seashells']"
      ]
     },
     "execution_count": 11,
     "metadata": {},
     "output_type": "execute_result"
    }
   ],
   "source": [
    "line = \"She sells seashells by the seashore. The shells she sells are surely seashells\"\n",
    "re.findall(r's\\w*', line)"
   ]
  },
  {
   "cell_type": "markdown",
   "id": "51b50bcd",
   "metadata": {},
   "source": [
    "### Search and replace with **sub**"
   ]
  },
  {
   "cell_type": "code",
   "execution_count": 12,
   "id": "bb01551a",
   "metadata": {},
   "outputs": [
    {
     "data": {
      "text/plain": [
       "'She sells seapebbles by the seashore. The pebbles she sells are surely seapebbles.'"
      ]
     },
     "execution_count": 12,
     "metadata": {},
     "output_type": "execute_result"
    }
   ],
   "source": [
    "text = \"She sells seashells by the seashore. The shells she sells are surely seashells.\"\n",
    "re.sub(r\"shells\", \"pebbles\", text)"
   ]
  },
  {
   "cell_type": "code",
   "execution_count": 13,
   "id": "a6bed225",
   "metadata": {},
   "outputs": [
    {
     "name": "stdout",
     "output_type": "stream",
     "text": [
      "The total cost is $[NUMBER]. The discount is [NUMBER]%.\n"
     ]
    }
   ],
   "source": [
    "text = \"The total cost is $99.99. The discount is 20%.\"\n",
    "pattern = r\"\\d+(\\.\\d+)?\"\n",
    "replacement = \"[NUMBER]\"\n",
    "\n",
    "new_text = re.sub(pattern, replacement, text)\n",
    "\n",
    "print(new_text)\n"
   ]
  },
  {
   "cell_type": "markdown",
   "id": "3980e063",
   "metadata": {},
   "source": [
    "### Splitting strings with re"
   ]
  },
  {
   "cell_type": "code",
   "execution_count": 14,
   "id": "eb5167c1",
   "metadata": {},
   "outputs": [
    {
     "name": "stdout",
     "output_type": "stream",
     "text": [
      "['Hello', 'World', 'Python', 'Regex']\n",
      "['Hello', '', '', 'World', '', '', '', '', 'Python', '', '', '', 'Regex']\n"
     ]
    }
   ],
   "source": [
    "text = \"Hello   World     Python    Regex\"\n",
    "words = re.split(r'\\s+', text)\n",
    "print(words)\n",
    "print(text.split(' '))"
   ]
  },
  {
   "cell_type": "code",
   "execution_count": 15,
   "id": "8caaa3c2",
   "metadata": {},
   "outputs": [
    {
     "name": "stdout",
     "output_type": "stream",
     "text": [
      "['Hello', ' World', ' How are you', '']\n"
     ]
    }
   ],
   "source": [
    "text = \"Hello, World! How are you?\"\n",
    "segments = re.split(r'[\\.,\\?!]', text)\n",
    "print(segments)"
   ]
  },
  {
   "cell_type": "markdown",
   "id": "e3608fcf",
   "metadata": {},
   "source": [
    "### Regular expression patterns\n",
    "\n",
    "Except for control characters, (+ ? . * ^ $ ( ) [ ] { } | \\), all characters match themselves. You can escape a control character by preceding it with a backslash."
   ]
  },
  {
   "cell_type": "code",
   "execution_count": 16,
   "id": "364a09cd",
   "metadata": {},
   "outputs": [
    {
     "name": "stdout",
     "output_type": "stream",
     "text": [
      "['Hello']\n",
      "['Hello', 'High']\n"
     ]
    }
   ],
   "source": [
    "# ^, matches beginning of line\n",
    "text = \"Hello, World! Welcome to High Python.\"\n",
    "\n",
    "print(re.findall(r'^H\\w+', text))\n",
    "print(re.findall(r'H\\w+', text))"
   ]
  },
  {
   "cell_type": "code",
   "execution_count": 17,
   "id": "cfcca7ec",
   "metadata": {},
   "outputs": [
    {
     "name": "stdout",
     "output_type": "stream",
     "text": [
      "['Hello', 'Hi', 'Heritage']\n"
     ]
    }
   ],
   "source": [
    "# Why findall and not simply match\n",
    "print(re.findall(r'^H\\w+', \"Hello\\nHi Honey\\nHeritage\", flags=re.MULTILINE))"
   ]
  },
  {
   "cell_type": "code",
   "execution_count": 18,
   "id": "87dcda6c",
   "metadata": {},
   "outputs": [
    {
     "name": "stdout",
     "output_type": "stream",
     "text": [
      "['fog', 'rog']\n"
     ]
    }
   ],
   "source": [
    "# $, matches end of line\n",
    "print(re.findall(r'\\w+g$', \"Hello\\ndog fog\\nrog\", flags=re.MULTILINE))"
   ]
  },
  {
   "cell_type": "code",
   "execution_count": 19,
   "id": "5f16ef7f",
   "metadata": {},
   "outputs": [
    {
     "name": "stdout",
     "output_type": "stream",
     "text": [
      "['are smarter than dogs']\n"
     ]
    }
   ],
   "source": [
    "# ., matches any single character except newline\n",
    "line = \"Cats are smarter than dogs, said the cat\"\n",
    "\n",
    "print(re.findall( r'are .* dogs', line))"
   ]
  },
  {
   "cell_type": "code",
   "execution_count": 20,
   "id": "ed171e72",
   "metadata": {},
   "outputs": [
    {
     "name": "stdout",
     "output_type": "stream",
     "text": [
      "['cat', 'sat', 'mat']\n"
     ]
    }
   ],
   "source": [
    "# [] Matches any single character in the brackets\n",
    "text = \"The cat sat on the mat.\"\n",
    "\n",
    "pattern = r'[cms]\\w+'\n",
    "\n",
    "matches = re.findall(pattern, text)\n",
    "print(matches)"
   ]
  },
  {
   "cell_type": "code",
   "execution_count": 21,
   "id": "347c8b5a",
   "metadata": {},
   "outputs": [
    {
     "name": "stdout",
     "output_type": "stream",
     "text": [
      "['sat', 'on']\n"
     ]
    }
   ],
   "source": [
    "# We can also use ranges with -\n",
    "text = \"The cat sat on the mat.\"\n",
    "\n",
    "pattern = r'\\b[o-s]\\w+\\b'\n",
    "\n",
    "matches = re.findall(pattern, text)\n",
    "print(matches)"
   ]
  },
  {
   "cell_type": "code",
   "execution_count": 22,
   "id": "45cce740",
   "metadata": {},
   "outputs": [
    {
     "name": "stdout",
     "output_type": "stream",
     "text": [
      "['3', '4', '3', '4']\n",
      "['1', '2', '5', '6', '7', '8', '9', '1', '2', '5', '6', '7', '8']\n"
     ]
    }
   ],
   "source": [
    "# [^] Matches any single character NOT in the brackets\n",
    "text = \"12345678912345678\"\n",
    "\n",
    "print(re.findall(r'[34]', text))\n",
    "print(re.findall(r'[^34]', text))\n"
   ]
  },
  {
   "cell_type": "code",
   "execution_count": 23,
   "id": "226e473f",
   "metadata": {},
   "outputs": [
    {
     "name": "stdout",
     "output_type": "stream",
     "text": [
      "[('rest', 're'), ('pest', 'pe')]\n"
     ]
    }
   ],
   "source": [
    "# | Mathes one expression or the other\n",
    "text = \"The cat rest in a pest sat on the mat.\"\n",
    "\n",
    "pattern = r'((re|pe)st)'\n",
    "\n",
    "matches = re.findall(pattern, text)\n",
    "print(matches)"
   ]
  },
  {
   "cell_type": "markdown",
   "id": "363b9d37",
   "metadata": {},
   "source": [
    "### Character classes\n",
    "- \\w, word characters\n",
    "- \\W, nonword characters\n",
    "- \\s, whitespaces, equivalent to [\\t\\n\\r\\f]\n",
    "- \\S, non whitespaces\n",
    "- \\d, digits\n",
    "- \\D, nondigits\n",
    "- \\b, word boundaries\n",
    "- \\B, nonword boundaries\n",
    "- \\n, \\t, newlines, tabs"
   ]
  },
  {
   "cell_type": "markdown",
   "id": "c6370225",
   "metadata": {},
   "source": [
    "### Repetition cases"
   ]
  },
  {
   "cell_type": "code",
   "execution_count": 24,
   "id": "87e1c279",
   "metadata": {},
   "outputs": [
    {
     "name": "stdout",
     "output_type": "stream",
     "text": [
      "['1234', '124']\n"
     ]
    }
   ],
   "source": [
    "# ?, optional\n",
    "text = \"1234 124 1256 1244 12334\"\n",
    "\n",
    "print(re.findall(r'\\b123?4\\b', text))"
   ]
  },
  {
   "cell_type": "code",
   "execution_count": 25,
   "id": "59c19a93",
   "metadata": {},
   "outputs": [
    {
     "name": "stdout",
     "output_type": "stream",
     "text": [
      "['1234', '124', '12334']\n"
     ]
    }
   ],
   "source": [
    "# *, cero or more\n",
    "text = \"1234 124 1256 1244 12334\"\n",
    "\n",
    "print(re.findall(r'\\b123*4\\b', text))"
   ]
  },
  {
   "cell_type": "code",
   "execution_count": 26,
   "id": "4e976489",
   "metadata": {},
   "outputs": [
    {
     "name": "stdout",
     "output_type": "stream",
     "text": [
      "['1234', '12334']\n"
     ]
    }
   ],
   "source": [
    "# +, one or more\n",
    "text = \"1234 124 1256 1244 12334\"\n",
    "\n",
    "print(re.findall(r'\\b123+4\\b', text))"
   ]
  },
  {
   "cell_type": "code",
   "execution_count": 27,
   "id": "af568a7e",
   "metadata": {},
   "outputs": [
    {
     "name": "stdout",
     "output_type": "stream",
     "text": [
      "['1234']\n",
      "['123334']\n",
      "['12334', '123334', '1233334', '12333334']\n",
      "['1234', '12334', '123334']\n"
     ]
    }
   ],
   "source": [
    "# {n}, {n,}, {n1,n2}\n",
    "text = \"1234 124 1256 1244 12334 123334 1233334 12333334\"\n",
    "\n",
    "print(re.findall(r'\\b123{1}4\\b', text))\n",
    "print(re.findall(r'\\b123{3}4\\b', text))\n",
    "print(re.findall(r'\\b123{2,}4\\b', text))\n",
    "print(re.findall(r'\\b123{1,3}4\\b', text))"
   ]
  },
  {
   "cell_type": "markdown",
   "id": "2f3c8113",
   "metadata": {},
   "source": [
    "### Anchors"
   ]
  },
  {
   "cell_type": "code",
   "execution_count": 28,
   "id": "effabc47",
   "metadata": {},
   "outputs": [
    {
     "name": "stdout",
     "output_type": "stream",
     "text": [
      "Matches with ^:\n",
      "['Hello', 'Hi', 'Hub']\n",
      "Matches with \\A:\n",
      "['Hello']\n",
      "Matches with \b:\n",
      "['Hello', 'Hi', 'Huge', 'Hub', 'High']\n"
     ]
    }
   ],
   "source": [
    "text = \"Hello World\\nHi to Python Huge World\\nHub is High bold\"\n",
    "\n",
    "print(\"Matches with ^:\")\n",
    "print(re.findall(r'^H\\w+', text, re.MULTILINE))\n",
    "\n",
    "print(\"Matches with \\A:\")\n",
    "print(re.findall(r'\\AH\\w+', text, re.MULTILINE))\n",
    "\n",
    "print(\"Matches with \\b:\")\n",
    "print(re.findall(r'\\bH\\w+', text, re.MULTILINE))"
   ]
  },
  {
   "cell_type": "code",
   "execution_count": 29,
   "id": "74274a17",
   "metadata": {},
   "outputs": [
    {
     "name": "stdout",
     "output_type": "stream",
     "text": [
      "Matches with $:\n",
      "['World', 'World', 'bold']\n",
      "Matches with \\Z:\n",
      "['bold']\n",
      "Matches with \b:\n",
      "['World', 'old', 'World', 'bold']\n"
     ]
    }
   ],
   "source": [
    "text = \"Hello World\\nHi to old Python Huge World\\nHub is High bold\"\n",
    "\n",
    "print(\"Matches with $:\")\n",
    "print(re.findall(r'\\w+d$', text, re.MULTILINE))\n",
    "\n",
    "print(\"Matches with \\Z:\")\n",
    "print(re.findall(r'\\w+d\\Z', text, re.MULTILINE))\n",
    "\n",
    "print(\"Matches with \\b:\")\n",
    "print(re.findall(r'\\w+d\\b', text, re.MULTILINE))"
   ]
  },
  {
   "cell_type": "markdown",
   "id": "7a2bb15d",
   "metadata": {},
   "source": [
    "## Regular expressions in action ... again ..."
   ]
  },
  {
   "cell_type": "code",
   "execution_count": 30,
   "id": "930096f7",
   "metadata": {},
   "outputs": [
    {
     "name": "stdout",
     "output_type": "stream",
     "text": [
      "Letters: ['Hello', 'World']\n",
      "Digits: ['123', '456']\n",
      "Alphanumeric: ['Hello123', 'World456']\n"
     ]
    }
   ],
   "source": [
    "text = \"Hello123 World456\"\n",
    "letters = re.findall(r'[A-Za-z]+', text)\n",
    "digits = re.findall(r'\\d+', text)\n",
    "alphanumeric = re.findall(r'\\w+', text)\n",
    "\n",
    "print(\"Letters:\", letters)\n",
    "print(\"Digits:\", digits)\n",
    "print(\"Alphanumeric:\", alphanumeric)"
   ]
  },
  {
   "cell_type": "code",
   "execution_count": 31,
   "id": "ef440ad4",
   "metadata": {},
   "outputs": [
    {
     "name": "stdout",
     "output_type": "stream",
     "text": [
      "Phone Numbers: ['+1-555-123-4567']\n",
      "Email Addresses: ['support@example.com']\n"
     ]
    }
   ],
   "source": [
    "# Extracting email and phone number\n",
    "\n",
    "text = \"Contact us at support@example.com or call +1-555-123-4567 for assistance.\"\n",
    "phone_numbers = re.findall(r'\\+1-\\d{3}-\\d{3}-\\d{4}', text)\n",
    "email_addresses = re.findall(r'\\b[\\w.-]+@[\\w.-]+\\.\\w+\\b', text)\n",
    "\n",
    "print(\"Phone Numbers:\", phone_numbers)\n",
    "print(\"Email Addresses:\", email_addresses)\n"
   ]
  },
  {
   "cell_type": "markdown",
   "id": "6ebe1261",
   "metadata": {},
   "source": [
    "Can you find some text that matches with the email pattern and that are invalid emails?\n",
    "- Can you fix the expression?"
   ]
  },
  {
   "cell_type": "code",
   "execution_count": 32,
   "id": "4caad35a",
   "metadata": {},
   "outputs": [
    {
     "data": {
      "text/plain": [
       "['support@.example.com']"
      ]
     },
     "execution_count": 32,
     "metadata": {},
     "output_type": "execute_result"
    }
   ],
   "source": [
    "# Here is one ...\n",
    "text = \"Contact support@.example.com\"\n",
    "re.findall(r'\\b[\\w.-]+@[\\w.-]+\\.\\w+\\b', text)"
   ]
  },
  {
   "cell_type": "code",
   "execution_count": 33,
   "id": "017b7d8f",
   "metadata": {},
   "outputs": [
    {
     "name": "stdout",
     "output_type": "stream",
     "text": [
      "Dates: ['2023-05-23']\n",
      "Times: ['12:30 PM']\n"
     ]
    }
   ],
   "source": [
    "# Matching date and times\n",
    "\n",
    "text = \"Today is 2023-05-23 and the time is 12:30 PM.\"\n",
    "dates = re.findall(r'\\d{4}-\\d{2}-\\d{2}', text)\n",
    "times = re.findall(r'\\d{1,2}:\\d{2}\\s(?:AM|PM)', text)\n",
    "\n",
    "print(\"Dates:\", dates)\n",
    "print(\"Times:\", times)\n"
   ]
  },
  {
   "cell_type": "code",
   "execution_count": 34,
   "id": "f555b9f7",
   "metadata": {},
   "outputs": [
    {
     "name": "stdout",
     "output_type": "stream",
     "text": [
      "Name: John\n",
      "Last name: Doe\n"
     ]
    }
   ],
   "source": [
    "# Extracting data from text\n",
    "\n",
    "text = \"Hello, my name is John Doe.\"\n",
    "match = re.search(r'my name is (\\w+)\\s+(\\w+)', text)\n",
    "\n",
    "if match:\n",
    "    name = match.group(1)\n",
    "    last_name = match.group(2)\n",
    "    print(\"Name:\", name)\n",
    "    print(\"Last name:\", last_name)\n"
   ]
  },
  {
   "cell_type": "code",
   "execution_count": 35,
   "id": "67742311",
   "metadata": {},
   "outputs": [
    {
     "name": "stdout",
     "output_type": "stream",
     "text": [
      "Name: John Doe\n",
      "Email: john.doe@example.com\n"
     ]
    }
   ],
   "source": [
    "text = \"Contact: John Doe (john.doe@example.com)\"\n",
    "pattern = r'Contact: (\\w+ \\w+) \\(([\\w.]+@\\w+\\.\\w+)\\)'\n",
    "\n",
    "match = re.search(pattern, text)\n",
    "if match:\n",
    "    name = match.group(1)\n",
    "    email = match.group(2)\n",
    "    print(\"Name:\", name)\n",
    "    print(\"Email:\", email)\n"
   ]
  },
  {
   "cell_type": "code",
   "execution_count": 36,
   "id": "8eca177f",
   "metadata": {},
   "outputs": [
    {
     "name": "stdout",
     "output_type": "stream",
     "text": [
      "Repeated Words: ['fox', 'dog']\n"
     ]
    }
   ],
   "source": [
    "# Using backreferences\n",
    "\n",
    "text = \"The quick brown fox fox jumps over the lazy dog dog.\"\n",
    "\n",
    "pattern = r'(\\b\\w+\\b) \\1'\n",
    "matches = re.findall(pattern, text)\n",
    "print(\"Repeated Words:\", matches)\n"
   ]
  },
  {
   "cell_type": "code",
   "execution_count": 37,
   "id": "742d8a8a",
   "metadata": {},
   "outputs": [
    {
     "name": "stdout",
     "output_type": "stream",
     "text": [
      "Car Type: ['']\n"
     ]
    }
   ],
   "source": [
    "# Non-capturing groups\n",
    "\n",
    "# I want to extract the words that are preceded by the words 'new' or 'old'\n",
    "text = \"I bought a new car, but I don't have a driver's license.\"\n",
    "\n",
    "pattern = r'new|old\\s(\\w+)'\n",
    "matches = re.findall(pattern, text)\n",
    "print(\"Car Type:\", matches)\n"
   ]
  },
  {
   "cell_type": "markdown",
   "id": "b947f075",
   "metadata": {},
   "source": [
    "No match .... lets see what happens"
   ]
  },
  {
   "cell_type": "code",
   "execution_count": 38,
   "id": "b87e5388",
   "metadata": {},
   "outputs": [
    {
     "data": {
      "text/plain": [
       "['new', 'old car']"
      ]
     },
     "execution_count": 38,
     "metadata": {},
     "output_type": "execute_result"
    }
   ],
   "source": [
    "re.findall(\"new|old\\s\\w+\", \"new car old car\")"
   ]
  },
  {
   "cell_type": "markdown",
   "id": "a69f86dc",
   "metadata": {},
   "source": [
    "the problem is a word grouping issue, so lets use parenthesis"
   ]
  },
  {
   "cell_type": "code",
   "execution_count": 39,
   "id": "0490e86e",
   "metadata": {},
   "outputs": [
    {
     "name": "stdout",
     "output_type": "stream",
     "text": [
      "Car Type: [('new', 'car')]\n"
     ]
    }
   ],
   "source": [
    "pattern = r'(new|old)\\s(\\w+)'\n",
    "matches = re.findall(pattern, text)\n",
    "print(\"Car Type:\", matches)"
   ]
  },
  {
   "cell_type": "markdown",
   "id": "0e515ea2",
   "metadata": {},
   "source": [
    "Now we have a problem, because the parenthesis used for grouping words are now understood as groups to capture"
   ]
  },
  {
   "cell_type": "markdown",
   "id": "6fa5e644",
   "metadata": {},
   "source": [
    "The solution: non capturing groups"
   ]
  },
  {
   "cell_type": "code",
   "execution_count": 40,
   "id": "a6aead82",
   "metadata": {},
   "outputs": [
    {
     "name": "stdout",
     "output_type": "stream",
     "text": [
      "Car Type: ['car']\n"
     ]
    }
   ],
   "source": [
    "pattern = r'(?:new|old) (\\w+)'\n",
    "matches = re.findall(pattern, text)\n",
    "print(\"Car Type:\", matches)\n"
   ]
  },
  {
   "cell_type": "markdown",
   "id": "aaf07195",
   "metadata": {},
   "source": [
    "## Some more complex regular expresions to play with..."
   ]
  },
  {
   "cell_type": "code",
   "execution_count": 41,
   "id": "9a96d953",
   "metadata": {},
   "outputs": [
    {
     "name": "stdout",
     "output_type": "stream",
     "text": [
      "Matched:  (123) 456-7890\n",
      "Matched:  (123)456-7890\n",
      "Matched:  123-456-7890\n",
      "Matched:  123.456.7890\n",
      "Matched:  1234567890\n",
      "Matched:  +31636363634\n",
      "Matched:  +91 (123) 456-7890\n",
      "Matched:  +91 (123)456-7890\n",
      "Matched:  +91 123-456-7890\n",
      "Matched:  +91 123.456.7890\n",
      "Matched:  +91 1234567890\n",
      "Matched:  +91 123 456 7890\n"
     ]
    }
   ],
   "source": [
    "# Phone numbers\n",
    "\n",
    "expression = r\"^(\\+\\d{1,2}\\s?)?\\(?\\d{3}\\)?[\\s\\-\\.]?\\d{3}[\\-.\\s]?\\d{4}$\"\n",
    "for v in [\n",
    "    \"(123) 456-7890\",\n",
    "    \"(123)456-7890\",\n",
    "    \"123-456-7890\",\n",
    "    \"123.456.7890\",\n",
    "    \"1234567890\",\n",
    "    \"+31636363634\",\n",
    "    \"+91 (123) 456-7890\",\n",
    "    \"+91 (123)456-7890\",\n",
    "    \"+91 123-456-7890\",\n",
    "    \"+91 123.456.7890\",\n",
    "    \"+91 1234567890\",\n",
    "    \"+91 123 456 7890\",\n",
    "]:\n",
    "    if re.match(expression, v):\n",
    "        print(\"Matched: \", v)\n",
    "    else:\n",
    "        print(\"*******  \", v)"
   ]
  },
  {
   "cell_type": "code",
   "execution_count": 42,
   "id": "aa90edd7",
   "metadata": {},
   "outputs": [
    {
     "name": "stdout",
     "output_type": "stream",
     "text": [
      "Matched:  01.01.2023\n",
      "Matched:  01/01/23\n",
      "Matched:  01-01-23\n",
      "Matched:  01.01.23\n",
      "Matched:  01/01/2019\n",
      "Matched:  01-01-2019\n",
      "Matched:  01.01.2019\n",
      "Matched:  01/01/19\n",
      "Matched:  01-01-19\n",
      "Matched:  01.01.19\n",
      "Matched:  01/01/2023\n",
      "Matched:  01-01-2023\n",
      "Matched:  01.01.2023\n",
      "Matched:  01/01/23\n",
      "Matched:  01-01-23\n",
      "Matched:  01.01.23\n",
      "Matched:  01/01/2019\n"
     ]
    }
   ],
   "source": [
    "# Dates\n",
    "\n",
    "expression = r\"^\\d{2}[./\\-]\\d{2}[./\\-]\\d{2,4}$\"\n",
    "for v in [\n",
    "    \"01.01.2023\",\n",
    "    \"01/01/23\",\n",
    "    \"01-01-23\",\n",
    "    \"01.01.23\",\n",
    "    \"01/01/2019\",\n",
    "    \"01-01-2019\",\n",
    "    \"01.01.2019\",\n",
    "    \"01/01/19\",\n",
    "    \"01-01-19\",\n",
    "    \"01.01.19\",\n",
    "    \"01/01/2023\",\n",
    "    \"01-01-2023\",\n",
    "    \"01.01.2023\",\n",
    "    \"01/01/23\",\n",
    "    \"01-01-23\",\n",
    "    \"01.01.23\",\n",
    "    \"01/01/2019\",\n",
    "]:\n",
    "    if re.match(expression, v):\n",
    "        print(\"Matched: \", v)\n",
    "    else:\n",
    "        print(\"*******  \", v)"
   ]
  },
  {
   "cell_type": "code",
   "execution_count": 43,
   "id": "69727897",
   "metadata": {},
   "outputs": [
    {
     "name": "stdout",
     "output_type": "stream",
     "text": [
      "Matched:  1:00 am\n",
      "Matched:  1:00 pm\n",
      "Matched:  01:00 am\n",
      "Matched:  01:00 pm\n",
      "*******   1:00am\n",
      "*******   1:00pm\n",
      "*******   01:00am\n",
      "*******   01:00pm\n",
      "*******   1400\n",
      "*******   0800\n"
     ]
    }
   ],
   "source": [
    "# Times\n",
    "\n",
    "expression = r\"^\\d{1,2}:\\d{2}\\s[ap]m$\"\n",
    "for v in [\n",
    "    \"1:00 am\",\n",
    "    \"1:00 pm\",\n",
    "    \"01:00 am\",\n",
    "    \"01:00 pm\",\n",
    "    \"1:00am\",\n",
    "    \"1:00pm\",\n",
    "    \"01:00am\",\n",
    "    \"01:00pm\",\n",
    "    \"1400\",\n",
    "    \"0800\"\n",
    "]:\n",
    "    if re.match(expression, v):\n",
    "        print(\"Matched: \", v)\n",
    "    else:\n",
    "        print(\"*******  \", v)"
   ]
  },
  {
   "cell_type": "code",
   "execution_count": 44,
   "id": "a09fba41",
   "metadata": {},
   "outputs": [
    {
     "name": "stdout",
     "output_type": "stream",
     "text": [
      "Matched:  http://www.google.com\n",
      "Matched:  https://www.google.com\n",
      "Matched:  http://google.com\n",
      "Matched:  https://google.com\n",
      "Matched:  http://www.google.com/\n",
      "Matched:  https://www.google.com/\n",
      "Matched:  http://google.com/\n",
      "Matched:  http://yahoo.com/\n",
      "Matched:  https://google.com/\n",
      "Matched:  https://google.cu/\n",
      "Matched:  http://www.google.com/index.html\n",
      "Matched:  https://www.google.com/index.html\n",
      "Matched:  http://google.com/index.html\n",
      "Matched:  https://google.com/index.html\n",
      "Matched:  google.com/index.html\n"
     ]
    }
   ],
   "source": [
    "# Urls\n",
    "\n",
    "expression = r\"^(https?://)?(www\\.)?[a-zA-Z\\-_]+\\.[a-zA-Z]+(?:/index.html)?/?$\"\n",
    "for v in [\n",
    "    \"http://www.google.com\",\n",
    "    \"https://www.google.com\",\n",
    "    \"http://google.com\",\n",
    "    \"https://google.com\",\n",
    "    \"http://www.google.com/\",\n",
    "    \"https://www.google.com/\",\n",
    "    \"http://google.com/\",\n",
    "    \"http://yahoo.com/\",\n",
    "    \"https://google.com/\",\n",
    "    \"https://google.cu/\",\n",
    "    \"http://www.google.com/index.html\",\n",
    "    \"https://www.google.com/index.html\",\n",
    "    \"http://google.com/index.html\",\n",
    "    \"https://google.com/index.html\",\n",
    "    \"google.com/index.html\"\n",
    "]:\n",
    "    if re.match(expression, v):\n",
    "        print(\"Matched: \", v)\n",
    "    else:\n",
    "        print(\"*******  \", v)"
   ]
  }
 ],
 "metadata": {
  "kernelspec": {
   "display_name": "Python [conda env:python_lectures]",
   "language": "python",
   "name": "conda-env-python_lectures-py"
  },
  "language_info": {
   "codemirror_mode": {
    "name": "ipython",
    "version": 3
   },
   "file_extension": ".py",
   "mimetype": "text/x-python",
   "name": "python",
   "nbconvert_exporter": "python",
   "pygments_lexer": "ipython3",
   "version": "3.8.16"
  }
 },
 "nbformat": 4,
 "nbformat_minor": 5
}
