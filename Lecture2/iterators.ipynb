{
 "cells": [
  {
   "cell_type": "markdown",
   "id": "d360f9ef",
   "metadata": {},
   "source": [
    "# Iterators\n",
    "\n",
    "In computer science, an iterator is a programming construct that represents a sequence of elements and provides an interface for accessing those elements sequentially. It is an object or data structure that allows traversal and processing of a collection of items one at a time.\n",
    "\n",
    "In Python, an iterator is an object that implements the iterator protocol, which consists of the \\_\\_iter\\_\\_() and \\_\\_next\\_\\_() methods. Iterators are used to loop over a collection of elements or to generate a sequence of values on the fly."
   ]
  },
  {
   "cell_type": "code",
   "execution_count": 18,
   "id": "866ff4b9",
   "metadata": {},
   "outputs": [],
   "source": [
    "r = range(5)"
   ]
  },
  {
   "cell_type": "code",
   "execution_count": 3,
   "id": "42e8d2cb",
   "metadata": {},
   "outputs": [
    {
     "data": {
      "text/plain": [
       "range"
      ]
     },
     "execution_count": 3,
     "metadata": {},
     "output_type": "execute_result"
    }
   ],
   "source": [
    "type(r)"
   ]
  },
  {
   "cell_type": "markdown",
   "id": "41173c0e",
   "metadata": {},
   "source": [
    "you can iterate range values, one at a time, with a for loop"
   ]
  },
  {
   "cell_type": "code",
   "execution_count": 4,
   "id": "a983ce5b",
   "metadata": {},
   "outputs": [
    {
     "name": "stdout",
     "output_type": "stream",
     "text": [
      "0, 1, 2, 3, 4, "
     ]
    }
   ],
   "source": [
    "for v in r:\n",
    "    print(v, end=\", \")"
   ]
  },
  {
   "cell_type": "markdown",
   "id": "abd26a8a",
   "metadata": {},
   "source": [
    "What does the **for** method do?"
   ]
  },
  {
   "cell_type": "code",
   "execution_count": 6,
   "id": "dce86b50",
   "metadata": {},
   "outputs": [
    {
     "name": "stdout",
     "output_type": "stream",
     "text": [
      "0, 1, 2, 3, 4, "
     ]
    }
   ],
   "source": [
    "it = iter(r)\n",
    "try:\n",
    "    while True:\n",
    "        v = next(it)\n",
    "        print(v, end=\", \")\n",
    "except StopIteration:\n",
    "    pass\n",
    "    "
   ]
  },
  {
   "cell_type": "markdown",
   "id": "a80d7072",
   "metadata": {},
   "source": [
    "By providing a standardized interface for iterating over collections, iterators promote modular and reusable code. They decouple the traversal logic from the specific collection implementation, allowing different types of collections to be traversed uniformly using the same iteration constructs.\n",
    "\n",
    "As iterators traverse elements one by one, they enable the creation of dynamic element generation without requiring additional storage. \n",
    "- This feature is exemplified by methods like range, where elements are generated on-the-fly as needed during the iteration process. \n",
    "- By avoiding the need for extra storage, iterators provide an efficient and memory-friendly approach to handle large or dynamically generated collections."
   ]
  },
  {
   "cell_type": "code",
   "execution_count": 7,
   "id": "6120bebd",
   "metadata": {},
   "outputs": [
    {
     "name": "stdout",
     "output_type": "stream",
     "text": [
      "333283335000\n"
     ]
    }
   ],
   "source": [
    "# Sum the squares a large collection of numbers without actually creating the numbers list\n",
    "t = 0\n",
    "for v in range(10000):\n",
    "    t += v * v\n",
    "print(t)"
   ]
  },
  {
   "cell_type": "markdown",
   "id": "14924b73",
   "metadata": {},
   "source": [
    "## Common Python iterators\n",
    "\n",
    "**enumerate** enhances the iteration process by transforming each iterated element into a tuple consisting of its position (index) and the element itself"
   ]
  },
  {
   "cell_type": "code",
   "execution_count": 8,
   "id": "10a6a6ff",
   "metadata": {},
   "outputs": [
    {
     "name": "stdout",
     "output_type": "stream",
     "text": [
      "0 a\n",
      "1 b\n",
      "2 c\n",
      "3 d\n",
      "4 e\n",
      "5 f\n",
      "6 g\n",
      "7 h\n"
     ]
    }
   ],
   "source": [
    "l = ['a', 'b', 'c', 'd', 'e', 'f', 'g', 'h']\n",
    "for idx, v in enumerate(l):\n",
    "    print(idx, v)"
   ]
  },
  {
   "cell_type": "code",
   "execution_count": 9,
   "id": "6fc64368",
   "metadata": {},
   "outputs": [
    {
     "data": {
      "text/plain": [
       "['a', 'c', 'e', 'g']"
      ]
     },
     "execution_count": 9,
     "metadata": {},
     "output_type": "execute_result"
    }
   ],
   "source": [
    "# Select elements in even positions\n",
    "[v for idx, v in enumerate(l) if idx % 2 == 0]"
   ]
  },
  {
   "cell_type": "markdown",
   "id": "ebddeb16",
   "metadata": {},
   "source": [
    "**map** applies a given function to each item of an iterable (e.g., a list, tuple, or string) and returns an iterator with the results. It takes two arguments: the function to apply and the iterable to process"
   ]
  },
  {
   "cell_type": "code",
   "execution_count": 10,
   "id": "59c74ab6",
   "metadata": {},
   "outputs": [
    {
     "name": "stdout",
     "output_type": "stream",
     "text": [
      "2\n",
      "4\n",
      "6\n",
      "8\n",
      "10\n"
     ]
    }
   ],
   "source": [
    "def double(x):\n",
    "    return 2 * x\n",
    "\n",
    "numbers = [1, 2, 3, 4, 5]\n",
    "\n",
    "for n in map(double, numbers):\n",
    "    print(n)"
   ]
  },
  {
   "cell_type": "markdown",
   "id": "9dc3a6cc",
   "metadata": {},
   "source": [
    "Note that you can convert a finite enumerator to a list using a comprehensionr or the list constructor"
   ]
  },
  {
   "cell_type": "code",
   "execution_count": 12,
   "id": "30c7980d",
   "metadata": {},
   "outputs": [
    {
     "data": {
      "text/plain": [
       "[2, 4, 6, 8, 10]"
      ]
     },
     "execution_count": 12,
     "metadata": {},
     "output_type": "execute_result"
    }
   ],
   "source": [
    "[x for x in map(double, numbers)]"
   ]
  },
  {
   "cell_type": "code",
   "execution_count": 11,
   "id": "c5107315",
   "metadata": {},
   "outputs": [
    {
     "data": {
      "text/plain": [
       "[2, 4, 6, 8, 10]"
      ]
     },
     "execution_count": 11,
     "metadata": {},
     "output_type": "execute_result"
    }
   ],
   "source": [
    "list(map(double, numbers))"
   ]
  },
  {
   "cell_type": "markdown",
   "id": "384e4e4f",
   "metadata": {},
   "source": [
    "**filter** creates an iterator from elements of an iterable that satisfy a certain condition. It takes two arguments: the filtering function and the iterable to process."
   ]
  },
  {
   "cell_type": "code",
   "execution_count": 13,
   "id": "ca64e02e",
   "metadata": {},
   "outputs": [
    {
     "data": {
      "text/plain": [
       "[2, 4, 6, 8, 10]"
      ]
     },
     "execution_count": 13,
     "metadata": {},
     "output_type": "execute_result"
    }
   ],
   "source": [
    "def is_even(x):\n",
    "    return x % 2 == 0\n",
    "\n",
    "numbers = [1, 2, 3, 4, 5, 6, 7, 8, 9, 10]\n",
    "even_numbers = filter(is_even, numbers)\n",
    "\n",
    "list(even_numbers)"
   ]
  },
  {
   "cell_type": "markdown",
   "id": "cd98cc36",
   "metadata": {},
   "source": [
    "map and filter can be combined together"
   ]
  },
  {
   "cell_type": "code",
   "execution_count": 16,
   "id": "40c975d4",
   "metadata": {},
   "outputs": [
    {
     "data": {
      "text/plain": [
       "[4, 8, 12, 16, 20]"
      ]
     },
     "execution_count": 16,
     "metadata": {},
     "output_type": "execute_result"
    }
   ],
   "source": [
    "list(map(double, filter(is_even, numbers)))"
   ]
  },
  {
   "cell_type": "markdown",
   "id": "526b7f60",
   "metadata": {},
   "source": [
    "**Note**. List comprehensions are only syntactic sugar of using map() and filter() functions."
   ]
  },
  {
   "cell_type": "markdown",
   "id": "348cd94d",
   "metadata": {},
   "source": [
    "**zip** function in Python is a built-in function that allows you to combine elements from multiple iterables into tuples. It returns an iterator that produces tuples containing elements from each input iterable, until the shortest iterable is exhausted."
   ]
  },
  {
   "cell_type": "code",
   "execution_count": 17,
   "id": "c19c9c13",
   "metadata": {},
   "outputs": [
    {
     "data": {
      "text/plain": [
       "[(1, 'a'), (2, 'b'), (3, 'c')]"
      ]
     },
     "execution_count": 17,
     "metadata": {},
     "output_type": "execute_result"
    }
   ],
   "source": [
    "numbers = [1, 2, 3]\n",
    "letters = ['a', 'b', 'c']\n",
    "list(zip(numbers, letters))"
   ]
  },
  {
   "cell_type": "code",
   "execution_count": 19,
   "id": "85973a68",
   "metadata": {},
   "outputs": [
    {
     "data": {
      "text/plain": [
       "[7, 10, 12, 16]"
      ]
     },
     "execution_count": 19,
     "metadata": {},
     "output_type": "execute_result"
    }
   ],
   "source": [
    "numbers = [2, 4, 5, 6]\n",
    "numbers2 = [5, 6, 7, 10]\n",
    "result = []\n",
    "for n1, n2 in zip(numbers, numbers2):\n",
    "    result.append(n1+n)\n",
    "result"
   ]
  },
  {
   "cell_type": "code",
   "execution_count": 20,
   "id": "28b7ef33",
   "metadata": {},
   "outputs": [
    {
     "data": {
      "text/plain": [
       "[7, 10, 12, 16]"
      ]
     },
     "execution_count": 20,
     "metadata": {},
     "output_type": "execute_result"
    }
   ],
   "source": [
    "[n1 + n2 for n1, n2 in zip(numbers, numbers2)]"
   ]
  },
  {
   "cell_type": "markdown",
   "id": "d63bb2d8",
   "metadata": {},
   "source": [
    "Select which elements to consider using a mask"
   ]
  },
  {
   "cell_type": "code",
   "execution_count": 21,
   "id": "9e8dd9a2",
   "metadata": {},
   "outputs": [
    {
     "data": {
      "text/plain": [
       "[23, 12, 1, 27, 12]"
      ]
     },
     "execution_count": 21,
     "metadata": {},
     "output_type": "execute_result"
    }
   ],
   "source": [
    "elements = [23, 34, 12, 1, 6, 8, 27, 12]\n",
    "mask = [True, False, True, True, False, False, True, True]\n",
    "\n",
    "[e for e, m in zip(elements, mask) if m]"
   ]
  },
  {
   "cell_type": "markdown",
   "id": "cda999eb",
   "metadata": {},
   "source": [
    "Implement 'enumerate'"
   ]
  },
  {
   "cell_type": "code",
   "execution_count": 24,
   "id": "c71886f3",
   "metadata": {},
   "outputs": [
    {
     "name": "stdout",
     "output_type": "stream",
     "text": [
      "(0, 23)\n",
      "(1, 34)\n",
      "(2, 12)\n",
      "(3, 1)\n",
      "(4, 6)\n",
      "(5, 8)\n",
      "(6, 27)\n",
      "(7, 12)\n"
     ]
    }
   ],
   "source": [
    "elements = [23, 34, 12, 1, 6, 8, 27, 12]\n",
    "for v in zip(range(len(elements)), elements):\n",
    "    print(v)"
   ]
  },
  {
   "cell_type": "markdown",
   "id": "4f2b0cde",
   "metadata": {},
   "source": [
    "## itertools package\n",
    "\n",
    "itertools is a module in Python's standard library that provides a collection of functions for creating and working with iterators efficiently. It offers various tools for combinatorial iterators and looping constructs beyond what the built-in functions and libraries offer."
   ]
  },
  {
   "cell_type": "code",
   "execution_count": 25,
   "id": "35b7faa0",
   "metadata": {},
   "outputs": [],
   "source": [
    "import itertools as it"
   ]
  },
  {
   "cell_type": "markdown",
   "id": "3bdeb067",
   "metadata": {},
   "source": [
    "**Permutations**"
   ]
  },
  {
   "cell_type": "code",
   "execution_count": 26,
   "id": "71a14406",
   "metadata": {},
   "outputs": [
    {
     "name": "stdout",
     "output_type": "stream",
     "text": [
      "(0, 1, 2) (0, 2, 1) (1, 0, 2) (1, 2, 0) (2, 0, 1) (2, 1, 0)\n"
     ]
    }
   ],
   "source": [
    "p = it.permutations(range(3))\n",
    "print(*p)"
   ]
  },
  {
   "cell_type": "markdown",
   "id": "1c25acee",
   "metadata": {},
   "source": [
    "Example. upose you are playing scrabble, and you want to know the possible words that you can form with the letters you actually have with maximum size: matrs"
   ]
  },
  {
   "cell_type": "code",
   "execution_count": 44,
   "id": "3660976d",
   "metadata": {},
   "outputs": [
    {
     "data": {
      "text/plain": [
       "['matrs',\n",
       " 'matsr',\n",
       " 'marts',\n",
       " 'marst',\n",
       " 'mastr',\n",
       " 'masrt',\n",
       " 'mtars',\n",
       " 'mtasr',\n",
       " 'mtras',\n",
       " 'mtrsa',\n",
       " 'mtsar',\n",
       " 'mtsra',\n",
       " 'mrats',\n",
       " 'mrast',\n",
       " 'mrtas',\n",
       " 'mrtsa',\n",
       " 'mrsat',\n",
       " 'mrsta',\n",
       " 'msatr',\n",
       " 'msart',\n",
       " 'mstar',\n",
       " 'mstra',\n",
       " 'msrat',\n",
       " 'msrta',\n",
       " 'amtrs',\n",
       " 'amtsr',\n",
       " 'amrts',\n",
       " 'amrst',\n",
       " 'amstr',\n",
       " 'amsrt',\n",
       " 'atmrs',\n",
       " 'atmsr',\n",
       " 'atrms',\n",
       " 'atrsm',\n",
       " 'atsmr',\n",
       " 'atsrm',\n",
       " 'armts',\n",
       " 'armst',\n",
       " 'artms',\n",
       " 'artsm',\n",
       " 'arsmt',\n",
       " 'arstm',\n",
       " 'asmtr',\n",
       " 'asmrt',\n",
       " 'astmr',\n",
       " 'astrm',\n",
       " 'asrmt',\n",
       " 'asrtm',\n",
       " 'tmars',\n",
       " 'tmasr',\n",
       " 'tmras',\n",
       " 'tmrsa',\n",
       " 'tmsar',\n",
       " 'tmsra',\n",
       " 'tamrs',\n",
       " 'tamsr',\n",
       " 'tarms',\n",
       " 'tarsm',\n",
       " 'tasmr',\n",
       " 'tasrm',\n",
       " 'trmas',\n",
       " 'trmsa',\n",
       " 'trams',\n",
       " 'trasm',\n",
       " 'trsma',\n",
       " 'trsam',\n",
       " 'tsmar',\n",
       " 'tsmra',\n",
       " 'tsamr',\n",
       " 'tsarm',\n",
       " 'tsrma',\n",
       " 'tsram',\n",
       " 'rmats',\n",
       " 'rmast',\n",
       " 'rmtas',\n",
       " 'rmtsa',\n",
       " 'rmsat',\n",
       " 'rmsta',\n",
       " 'ramts',\n",
       " 'ramst',\n",
       " 'ratms',\n",
       " 'ratsm',\n",
       " 'rasmt',\n",
       " 'rastm',\n",
       " 'rtmas',\n",
       " 'rtmsa',\n",
       " 'rtams',\n",
       " 'rtasm',\n",
       " 'rtsma',\n",
       " 'rtsam',\n",
       " 'rsmat',\n",
       " 'rsmta',\n",
       " 'rsamt',\n",
       " 'rsatm',\n",
       " 'rstma',\n",
       " 'rstam',\n",
       " 'smatr',\n",
       " 'smart',\n",
       " 'smtar',\n",
       " 'smtra',\n",
       " 'smrat',\n",
       " 'smrta',\n",
       " 'samtr',\n",
       " 'samrt',\n",
       " 'satmr',\n",
       " 'satrm',\n",
       " 'sarmt',\n",
       " 'sartm',\n",
       " 'stmar',\n",
       " 'stmra',\n",
       " 'stamr',\n",
       " 'starm',\n",
       " 'strma',\n",
       " 'stram',\n",
       " 'srmat',\n",
       " 'srmta',\n",
       " 'sramt',\n",
       " 'sratm',\n",
       " 'srtma',\n",
       " 'srtam']"
      ]
     },
     "execution_count": 44,
     "metadata": {},
     "output_type": "execute_result"
    }
   ],
   "source": [
    "def word_exists(w):\n",
    "    return True\n",
    "\n",
    "[\"\".join(p) for p in it.permutations('matrs') if word_exists(\"\".join(p))]"
   ]
  },
  {
   "cell_type": "markdown",
   "id": "36457cfe",
   "metadata": {},
   "source": [
    "**combinations**"
   ]
  },
  {
   "cell_type": "code",
   "execution_count": 29,
   "id": "1cb8ec5d",
   "metadata": {},
   "outputs": [
    {
     "data": {
      "text/plain": [
       "[(0, 1), (0, 2), (0, 3), (1, 2), (1, 3), (2, 3)]"
      ]
     },
     "execution_count": 29,
     "metadata": {},
     "output_type": "execute_result"
    }
   ],
   "source": [
    "list(it.combinations(range(4), 2))"
   ]
  },
  {
   "cell_type": "markdown",
   "id": "87748a57",
   "metadata": {},
   "source": [
    "Example, find all the pairs of numbers in a collection which sum is 12"
   ]
  },
  {
   "cell_type": "code",
   "execution_count": 31,
   "id": "15a837ca",
   "metadata": {},
   "outputs": [
    {
     "data": {
      "text/plain": [
       "[(2, 10), (4, 8), (5, 7)]"
      ]
     },
     "execution_count": 31,
     "metadata": {},
     "output_type": "execute_result"
    }
   ],
   "source": [
    "list = [1, 2, 4, 5, 7, 8, 9, 10, 12]\n",
    "s = 12\n",
    "[(x, y) for x, y in it.combinations(list, 2) if x+y == 12]"
   ]
  },
  {
   "cell_type": "markdown",
   "id": "95226ff9",
   "metadata": {},
   "source": [
    "Other iterators ..."
   ]
  },
  {
   "cell_type": "code",
   "execution_count": 46,
   "id": "810ca4a5",
   "metadata": {},
   "outputs": [
    {
     "name": "stdout",
     "output_type": "stream",
     "text": [
      "('a', 0) ('a', 1) ('a', 2) ('b', 0) ('b', 1) ('b', 2) ('c', 0) ('c', 1) ('c', 2)\n"
     ]
    }
   ],
   "source": [
    "# Cartesian product\n",
    "p = it.product('abc', range(3))\n",
    "print(*p)"
   ]
  },
  {
   "cell_type": "code",
   "execution_count": 49,
   "id": "8bae7d5a",
   "metadata": {},
   "outputs": [
    {
     "name": "stdout",
     "output_type": "stream",
     "text": [
      "0 a\n",
      "1 b\n",
      "2 c\n",
      "3 d\n",
      "4 a\n",
      "5 b\n",
      "6 c\n",
      "7 d\n",
      "8 a\n",
      "9 b\n",
      "10 c\n",
      "11 d\n",
      "12 a\n",
      "13 b\n",
      "14 c\n"
     ]
    }
   ],
   "source": [
    "# Cyclical generator\n",
    "for a, b in zip(range(15), it.cycle('abcd')):\n",
    "    print(a, b)"
   ]
  },
  {
   "cell_type": "code",
   "execution_count": 51,
   "id": "0f17ca44",
   "metadata": {},
   "outputs": [
    {
     "name": "stdout",
     "output_type": "stream",
     "text": [
      "[0, 1, 2, 3, 4, 5, 6, 7, 8, 9, 10, 11, 12, 13, 14, 15, 16, 17, 18, 19]\n",
      "0 1 3 6 10 15 21 28 36 45 55 66 78 91 105 120 136 153 171 190\n"
     ]
    }
   ],
   "source": [
    "# acumulador\n",
    "def add(x, y):\n",
    "    return x+y\n",
    "\n",
    "print(list(range(20)))\n",
    "print(*it.accumulate(range(20), add))"
   ]
  },
  {
   "cell_type": "code",
   "execution_count": 52,
   "id": "c66b9348",
   "metadata": {},
   "outputs": [
    {
     "name": "stdout",
     "output_type": "stream",
     "text": [
      "a ab abc abcd abcde abcdef abcdefg\n"
     ]
    }
   ],
   "source": [
    "print(*it.accumulate('abcdefg', add))"
   ]
  },
  {
   "cell_type": "code",
   "execution_count": 56,
   "id": "01db774a",
   "metadata": {},
   "outputs": [
    {
     "name": "stdout",
     "output_type": "stream",
     "text": [
      "[78, 9, 59, 66, 78, 6, 31, 64, 67, 40, 88, 25, 9, 71, 67, 46, 14, 36, 100, 51]\n",
      "run_max 78 78 78 78 78 78 78 78 78 78 88 88 88 88 88 88 88 88 100 100\n",
      "run_min 78 9 9 9 9 6 6 6 6 6 6 6 6 6 6 6 6 6 6 6\n"
     ]
    }
   ],
   "source": [
    "import random\n",
    "random.seed(10)\n",
    "l = [random.randint(5, 100) for _ in range(20)]\n",
    "print(l)\n",
    "# running max\n",
    "print('run_max', *it.accumulate(l, max))\n",
    "print('run_min', *it.accumulate(l, min))"
   ]
  },
  {
   "cell_type": "code",
   "execution_count": 58,
   "id": "26090a9c",
   "metadata": {},
   "outputs": [
    {
     "name": "stdout",
     "output_type": "stream",
     "text": [
      "[83, 53, 10, 79, 5, 35, 22, 29, 43, 73, 51, 35, 45, 90, 75, 62, 60, 65, 13, 88]\n",
      "rest 0\n",
      "- 10 5 35 35 45 90 75 60 65\n",
      "rest 1\n",
      "- 51\n",
      "rest 2\n",
      "- 22 62\n",
      "rest 3\n",
      "- 83 53 43 73 13 88\n",
      "rest 4\n",
      "- 79 29\n"
     ]
    }
   ],
   "source": [
    "# groupby\n",
    "def reminder(x):\n",
    "    return x % 5\n",
    "\n",
    "l = [random.randint(5, 100) for _ in range(20)]\n",
    "print(l)\n",
    "l.sort(key = lambda x: x % 5)\n",
    "for k, g in it.groupby(l, reminder):\n",
    "    print(\"rest\", k)\n",
    "    print(\"-\", *g)\n"
   ]
  },
  {
   "cell_type": "markdown",
   "id": "8ab70643",
   "metadata": {},
   "source": [
    "### Generator expressions\n",
    "\n",
    "In Python, generator expressions are a concise and memory-efficient way to create iterators. They are similar to list comprehensions but with a subtle difference: instead of creating a list, they generate values on-the-fly as you iterate over them.\n",
    "\n",
    "For example, to calculate the sum of the squared values of numbers between 1 and 100, you can do this:"
   ]
  },
  {
   "cell_type": "code",
   "execution_count": 60,
   "id": "3fdeb2b1",
   "metadata": {},
   "outputs": [
    {
     "data": {
      "text/plain": [
       "338350"
      ]
     },
     "execution_count": 60,
     "metadata": {},
     "output_type": "execute_result"
    }
   ],
   "source": [
    "values = [x**2 for x in range(101)]\n",
    "sum(values)"
   ]
  },
  {
   "cell_type": "markdown",
   "id": "4dff8be5",
   "metadata": {},
   "source": [
    "Note that the list of squared values was created for single use of each values, so using a generator expressions is more memory-efficient"
   ]
  },
  {
   "cell_type": "code",
   "execution_count": 62,
   "id": "451e7bbc",
   "metadata": {},
   "outputs": [
    {
     "name": "stdout",
     "output_type": "stream",
     "text": [
      "<generator object <genexpr> at 0x7f2118387e40>\n"
     ]
    },
    {
     "data": {
      "text/plain": [
       "338350"
      ]
     },
     "execution_count": 62,
     "metadata": {},
     "output_type": "execute_result"
    }
   ],
   "source": [
    "values_generator = (x **2 for x in range(101))\n",
    "print(values_generator)\n",
    "sum(values_generator)"
   ]
  },
  {
   "cell_type": "markdown",
   "id": "3468df80",
   "metadata": {},
   "source": [
    "Example: calculate the sum of the products of elements in two lists"
   ]
  },
  {
   "cell_type": "code",
   "execution_count": 63,
   "id": "b3bed654",
   "metadata": {},
   "outputs": [
    {
     "name": "stdout",
     "output_type": "stream",
     "text": [
      "67620\n"
     ]
    }
   ],
   "source": [
    "l1 = range(0, 120, 5)\n",
    "l2 = range(2, 1000, 3)\n",
    "gen = (x*y for x, y in zip(l1, l2))\n",
    "print(sum(gen))"
   ]
  },
  {
   "cell_type": "markdown",
   "id": "42c08795",
   "metadata": {},
   "source": [
    "A generator is a recipe for constructing values, instead of a list, which is a collection of values."
   ]
  }
 ],
 "metadata": {
  "kernelspec": {
   "display_name": "Python [conda env:python_lectures]",
   "language": "python",
   "name": "conda-env-python_lectures-py"
  },
  "language_info": {
   "codemirror_mode": {
    "name": "ipython",
    "version": 3
   },
   "file_extension": ".py",
   "mimetype": "text/x-python",
   "name": "python",
   "nbconvert_exporter": "python",
   "pygments_lexer": "ipython3",
   "version": "3.8.16"
  }
 },
 "nbformat": 4,
 "nbformat_minor": 5
}
