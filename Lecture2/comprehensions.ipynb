{
 "cells": [
  {
   "cell_type": "markdown",
   "id": "24d212f6",
   "metadata": {},
   "source": [
    "# Comprehensions\n",
    "\n",
    "Python comprehensions are concise ways to create new sequences (lists, sets, dictionaries) by performing operations on existing sequences. \n",
    "- They allow you to write compact and readable code to generate sequences based on certain conditions or transformations. \n",
    "\n",
    "There are three types of comprehensions in Python: list comprehensions, set comprehensions, and dictionary comprehensions."
   ]
  },
  {
   "cell_type": "markdown",
   "id": "28ffee8d",
   "metadata": {},
   "source": [
    "## List comprehensions\n",
    "List comprehensions provide a concise way to create new lists based on existing lists or other iterable objects.\n",
    "\n",
    "Syntax: \n",
    "\n",
    "new_list = [expression for item in iterable if condition]\n",
    "\n",
    "Where:\n",
    "- expression: The operation or transformation to apply to each item.\n",
    "- item: The element from the iterable that is being processed.\n",
    "- iterable: The existing list, string, or any other iterable object.\n",
    "- condition (optional): A condition that filters the elements based on a certain criteria.\n",
    "\n",
    "Lets see some examples"
   ]
  },
  {
   "cell_type": "code",
   "execution_count": 12,
   "id": "45c49ccb",
   "metadata": {},
   "outputs": [],
   "source": [
    "base_list = [1, 2, 3, 4, 5, 6, 7, 8]"
   ]
  },
  {
   "cell_type": "code",
   "execution_count": 13,
   "id": "265851eb",
   "metadata": {},
   "outputs": [
    {
     "data": {
      "text/plain": [
       "[1, 2, 3, 4, 5, 6, 7, 8]"
      ]
     },
     "execution_count": 13,
     "metadata": {},
     "output_type": "execute_result"
    }
   ],
   "source": [
    "[x for x in base_list]"
   ]
  },
  {
   "cell_type": "markdown",
   "id": "5b15faf6",
   "metadata": {},
   "source": [
    "Lets apply some transformations"
   ]
  },
  {
   "cell_type": "code",
   "execution_count": 14,
   "id": "34b83971",
   "metadata": {},
   "outputs": [
    {
     "data": {
      "text/plain": [
       "[1, 4, 9, 16, 25, 36, 49, 64]"
      ]
     },
     "execution_count": 14,
     "metadata": {},
     "output_type": "execute_result"
    }
   ],
   "source": [
    "[x ** 2 for x in base_list]"
   ]
  },
  {
   "cell_type": "code",
   "execution_count": 16,
   "id": "9d1dbe13",
   "metadata": {},
   "outputs": [
    {
     "data": {
      "text/plain": [
       "[False, False, False, False, False, True, True, True]"
      ]
     },
     "execution_count": 16,
     "metadata": {},
     "output_type": "execute_result"
    }
   ],
   "source": [
    "[x > 5 for x in base_list]"
   ]
  },
  {
   "cell_type": "markdown",
   "id": "dc0943f7",
   "metadata": {},
   "source": [
    "We can create structured types inside the resultant list"
   ]
  },
  {
   "cell_type": "code",
   "execution_count": 17,
   "id": "17ed8a54",
   "metadata": {
    "scrolled": true
   },
   "outputs": [
    {
     "data": {
      "text/plain": [
       "[(1, 1), (2, 4), (3, 9), (4, 16), (5, 25), (6, 36), (7, 49), (8, 64)]"
      ]
     },
     "execution_count": 17,
     "metadata": {},
     "output_type": "execute_result"
    }
   ],
   "source": [
    "[(x, x**2) for x in base_list]"
   ]
  },
  {
   "cell_type": "code",
   "execution_count": 24,
   "id": "14df6cd3",
   "metadata": {
    "scrolled": true
   },
   "outputs": [
    {
     "data": {
      "text/plain": [
       "[[1, 2, 3],\n",
       " [2, 3, 4],\n",
       " [3, 4, 5],\n",
       " [4, 5, 6],\n",
       " [5, 6, 7],\n",
       " [6, 7, 8],\n",
       " [7, 8, 9],\n",
       " [8, 9, 10]]"
      ]
     },
     "execution_count": 24,
     "metadata": {},
     "output_type": "execute_result"
    }
   ],
   "source": [
    "[[x, x+1, x+2] for x in base_list]"
   ]
  },
  {
   "cell_type": "code",
   "execution_count": 19,
   "id": "7ff3aeaa",
   "metadata": {
    "scrolled": true
   },
   "outputs": [
    {
     "data": {
      "text/plain": [
       "['<>',\n",
       " '<><>',\n",
       " '<><><>',\n",
       " '<><><><>',\n",
       " '<><><><><>',\n",
       " '<><><><><><>',\n",
       " '<><><><><><><>',\n",
       " '<><><><><><><><>']"
      ]
     },
     "execution_count": 19,
     "metadata": {},
     "output_type": "execute_result"
    }
   ],
   "source": [
    "[\"<>\" * x for x in base_list]"
   ]
  },
  {
   "cell_type": "markdown",
   "id": "04d6cbf8",
   "metadata": {},
   "source": [
    "Filtering the results"
   ]
  },
  {
   "cell_type": "code",
   "execution_count": 20,
   "id": "50cdcfe5",
   "metadata": {},
   "outputs": [
    {
     "data": {
      "text/plain": [
       "[1, 2, 3, 4, 5, 6, 7, 8]"
      ]
     },
     "execution_count": 20,
     "metadata": {},
     "output_type": "execute_result"
    }
   ],
   "source": [
    "base_list"
   ]
  },
  {
   "cell_type": "code",
   "execution_count": 21,
   "id": "d608bb9a",
   "metadata": {},
   "outputs": [
    {
     "data": {
      "text/plain": [
       "[5, 6, 7, 8]"
      ]
     },
     "execution_count": 21,
     "metadata": {},
     "output_type": "execute_result"
    }
   ],
   "source": [
    "[x for x in base_list if x > 4]"
   ]
  },
  {
   "cell_type": "code",
   "execution_count": 22,
   "id": "4227959b",
   "metadata": {},
   "outputs": [
    {
     "data": {
      "text/plain": [
       "[2, 4, 6, 8]"
      ]
     },
     "execution_count": 22,
     "metadata": {},
     "output_type": "execute_result"
    }
   ],
   "source": [
    "[x for x in base_list if x % 2 == 0]"
   ]
  },
  {
   "cell_type": "markdown",
   "id": "eec52eb9",
   "metadata": {},
   "source": [
    "### Nested comprehensions\n",
    "You can also nest comprehensions, where you every element you create using another comprehension"
   ]
  },
  {
   "cell_type": "code",
   "execution_count": 23,
   "id": "c3825db5",
   "metadata": {
    "scrolled": true
   },
   "outputs": [
    {
     "data": {
      "text/plain": [
       "[[0],\n",
       " [0, 1],\n",
       " [0, 1, 2],\n",
       " [0, 1, 2, 3],\n",
       " [0, 1, 2, 3, 4],\n",
       " [0, 1, 2, 3, 4, 5],\n",
       " [0, 1, 2, 3, 4, 5, 6],\n",
       " [0, 1, 2, 3, 4, 5, 6, 7]]"
      ]
     },
     "execution_count": 23,
     "metadata": {},
     "output_type": "execute_result"
    }
   ],
   "source": [
    "[[v for v in range(x)] for x in base_list]"
   ]
  },
  {
   "cell_type": "code",
   "execution_count": 25,
   "id": "6e5d9243",
   "metadata": {},
   "outputs": [
    {
     "data": {
      "text/plain": [
       "[[1, 2, 3], [2, 4, 6], [3, 6, 9]]"
      ]
     },
     "execution_count": 25,
     "metadata": {},
     "output_type": "execute_result"
    }
   ],
   "source": [
    "[[row * col for col in range(1, 4)] for row in range(1, 4)]"
   ]
  },
  {
   "cell_type": "code",
   "execution_count": 32,
   "id": "4b825cad",
   "metadata": {},
   "outputs": [
    {
     "data": {
      "text/plain": [
       "[1, 2, 3, 4, 5, 6, 7, 8, 9]"
      ]
     },
     "execution_count": 32,
     "metadata": {},
     "output_type": "execute_result"
    }
   ],
   "source": [
    "# Flattening a nested list\n",
    "nested_list = [[1, 2, 3], [4, 5, 6], [7, 8, 9]]\n",
    "\n",
    "[v for sublist in nested_list for v in sublist]"
   ]
  },
  {
   "cell_type": "code",
   "execution_count": 33,
   "id": "fe9a5a01",
   "metadata": {},
   "outputs": [
    {
     "name": "stdout",
     "output_type": "stream",
     "text": [
      "[(1, 2), (1, 3), (1, 4), (1, 5), (2, 1), (2, 3), (2, 4), (2, 5), (3, 1), (3, 2), (3, 4), (3, 5), (4, 1), (4, 2), (4, 3), (4, 5), (5, 1), (5, 2), (5, 3), (5, 4)]\n"
     ]
    }
   ],
   "source": [
    "# Creating a list of tuples\n",
    "numbers = [1, 2, 3, 4, 5]\n",
    "pairs = [(x, y) for x in numbers for y in numbers if x != y]\n",
    "print(pairs)"
   ]
  },
  {
   "cell_type": "markdown",
   "id": "9bbb1a08",
   "metadata": {},
   "source": [
    "## Dictionary Comprehensions\n",
    "Dictionary comprehensions in Python allow you to create dictionaries in a concise and expressive manner. They follow a similar syntax to list comprehensions but produce dictionaries as their result.\n",
    "\n",
    "Syntax:\n",
    "\n",
    "new_dict = {key_expression: value_expression for item in iterable if condition}\n",
    "\n",
    "Lets see some examples:"
   ]
  },
  {
   "cell_type": "code",
   "execution_count": 36,
   "id": "3a986917",
   "metadata": {},
   "outputs": [
    {
     "data": {
      "text/plain": [
       "[0, 1, 2, 3, 4, 5, 6, 7, 8, 9]"
      ]
     },
     "execution_count": 36,
     "metadata": {},
     "output_type": "execute_result"
    }
   ],
   "source": [
    "values = [x for x in range(10)]\n",
    "values"
   ]
  },
  {
   "cell_type": "code",
   "execution_count": 37,
   "id": "3e46b7dd",
   "metadata": {
    "scrolled": true
   },
   "outputs": [
    {
     "data": {
      "text/plain": [
       "{0: 0, 1: 0, 2: 0, 3: 0, 4: 0, 5: 0, 6: 0, 7: 0, 8: 0, 9: 0}"
      ]
     },
     "execution_count": 37,
     "metadata": {},
     "output_type": "execute_result"
    }
   ],
   "source": [
    "{x: 0 for x in values}"
   ]
  },
  {
   "cell_type": "code",
   "execution_count": 38,
   "id": "91c90ab1",
   "metadata": {},
   "outputs": [
    {
     "data": {
      "text/plain": [
       "{0: 0, 1: 1, 2: 4, 3: 9, 4: 16, 5: 25, 6: 36, 7: 49, 8: 64, 9: 81}"
      ]
     },
     "execution_count": 38,
     "metadata": {},
     "output_type": "execute_result"
    }
   ],
   "source": [
    "{x: x**2 for x in values}"
   ]
  },
  {
   "cell_type": "code",
   "execution_count": 39,
   "id": "67fa5740",
   "metadata": {
    "scrolled": false
   },
   "outputs": [
    {
     "data": {
      "text/plain": [
       "{(0, True): (0, 1),\n",
       " (1, False): (1, 2),\n",
       " (2, True): (2, 3),\n",
       " (3, False): (3, 4),\n",
       " (4, True): (4, 5),\n",
       " (5, False): (5, 6),\n",
       " (6, True): (6, 7),\n",
       " (7, False): (7, 8),\n",
       " (8, True): (8, 9),\n",
       " (9, False): (9, 10)}"
      ]
     },
     "execution_count": 39,
     "metadata": {},
     "output_type": "execute_result"
    }
   ],
   "source": [
    "{(x, x % 2 == 0): (x, x+1) for x in values}"
   ]
  },
  {
   "cell_type": "code",
   "execution_count": 44,
   "id": "9bcc4a88",
   "metadata": {},
   "outputs": [],
   "source": [
    "stone_names = [\"Quartz\", \"Amethyst\", \"Diamond\", \"Ruby\", \"Emerald\", \"Sapphire\", \"Topaz\", \"Opal\", \"Jade\", \"Citrine\"]"
   ]
  },
  {
   "cell_type": "code",
   "execution_count": 45,
   "id": "534aeeb0",
   "metadata": {},
   "outputs": [
    {
     "data": {
      "text/plain": [
       "{'Quartz': 6,\n",
       " 'Amethyst': 8,\n",
       " 'Diamond': 7,\n",
       " 'Ruby': 4,\n",
       " 'Emerald': 7,\n",
       " 'Sapphire': 8,\n",
       " 'Topaz': 5,\n",
       " 'Opal': 4,\n",
       " 'Jade': 4,\n",
       " 'Citrine': 7}"
      ]
     },
     "execution_count": 45,
     "metadata": {},
     "output_type": "execute_result"
    }
   ],
   "source": [
    "# Associate name with length\n",
    "{name: len(name) for name in stone_names}"
   ]
  },
  {
   "cell_type": "code",
   "execution_count": 46,
   "id": "1d58ef0c",
   "metadata": {},
   "outputs": [
    {
     "data": {
      "text/plain": [
       "{'Quartz': 2,\n",
       " 'Amethyst': 2,\n",
       " 'Diamond': 3,\n",
       " 'Ruby': 1,\n",
       " 'Emerald': 3,\n",
       " 'Sapphire': 3,\n",
       " 'Topaz': 2,\n",
       " 'Opal': 2,\n",
       " 'Jade': 2,\n",
       " 'Citrine': 3}"
      ]
     },
     "execution_count": 46,
     "metadata": {},
     "output_type": "execute_result"
    }
   ],
   "source": [
    "# count vowels\n",
    "{name: sum(1 for letter in name.lower() if letter in 'aeiou') for name in stone_names}"
   ]
  },
  {
   "cell_type": "code",
   "execution_count": 47,
   "id": "bbab9f0a",
   "metadata": {},
   "outputs": [
    {
     "data": {
      "text/plain": [
       "{'Quartz': 'Yes',\n",
       " 'Amethyst': 'Yes',\n",
       " 'Diamond': 'Yes',\n",
       " 'Ruby': 'No',\n",
       " 'Emerald': 'Yes',\n",
       " 'Sapphire': 'Yes',\n",
       " 'Topaz': 'Yes',\n",
       " 'Opal': 'Yes',\n",
       " 'Jade': 'Yes',\n",
       " 'Citrine': 'No'}"
      ]
     },
     "execution_count": 47,
     "metadata": {},
     "output_type": "execute_result"
    }
   ],
   "source": [
    "# Contains 'a'?\n",
    "{name: 'Yes' if 'a' in name.lower() else 'No' for name in stone_names}"
   ]
  },
  {
   "cell_type": "code",
   "execution_count": 48,
   "id": "8fdacd12",
   "metadata": {},
   "outputs": [
    {
     "data": {
      "text/plain": [
       "{'Quartz': 'ztrauQ',\n",
       " 'Amethyst': 'tsyhtemA',\n",
       " 'Diamond': 'dnomaiD',\n",
       " 'Ruby': 'ybuR',\n",
       " 'Emerald': 'dlaremE',\n",
       " 'Sapphire': 'erihppaS',\n",
       " 'Topaz': 'zapoT',\n",
       " 'Opal': 'lapO',\n",
       " 'Jade': 'edaJ',\n",
       " 'Citrine': 'enirtiC'}"
      ]
     },
     "execution_count": 48,
     "metadata": {},
     "output_type": "execute_result"
    }
   ],
   "source": [
    "# Reverse names\n",
    "{name: name[::-1] for name in stone_names}"
   ]
  },
  {
   "cell_type": "markdown",
   "id": "5d5414f6",
   "metadata": {},
   "source": [
    "Filters can also be used"
   ]
  },
  {
   "cell_type": "code",
   "execution_count": 43,
   "id": "64092d39",
   "metadata": {
    "scrolled": true
   },
   "outputs": [
    {
     "data": {
      "text/plain": [
       "{'Amethyst': 8, 'Emerald': 7, 'Opal': 4}"
      ]
     },
     "execution_count": 43,
     "metadata": {},
     "output_type": "execute_result"
    }
   ],
   "source": [
    "{s: len(s) for s in stone_names if s[0] in \"AEIOU\"}"
   ]
  },
  {
   "cell_type": "code",
   "execution_count": 50,
   "id": "a051ffef",
   "metadata": {},
   "outputs": [
    {
     "data": {
      "text/plain": [
       "{'Quartz': 6,\n",
       " 'Amethyst': 8,\n",
       " 'Diamond': 7,\n",
       " 'Emerald': 7,\n",
       " 'Sapphire': 8,\n",
       " 'Citrine': 7}"
      ]
     },
     "execution_count": 50,
     "metadata": {},
     "output_type": "execute_result"
    }
   ],
   "source": [
    "{name: len(name) for name in stone_names if len(name) > 5}"
   ]
  },
  {
   "cell_type": "code",
   "execution_count": 51,
   "id": "8e8dad1c",
   "metadata": {},
   "outputs": [
    {
     "data": {
      "text/plain": [
       "{'Amethyst': 2, 'Emerald': 3, 'Opal': 2}"
      ]
     },
     "execution_count": 51,
     "metadata": {},
     "output_type": "execute_result"
    }
   ],
   "source": [
    "{name: sum(1 for letter in name.lower() if letter in 'aeiou') for name in stone_names if name[0].lower() in 'aeiou'}"
   ]
  },
  {
   "cell_type": "code",
   "execution_count": 54,
   "id": "e8e578c2",
   "metadata": {},
   "outputs": [
    {
     "data": {
      "text/plain": [
       "{'madam': None, 'level': None}"
      ]
     },
     "execution_count": 54,
     "metadata": {},
     "output_type": "execute_result"
    }
   ],
   "source": [
    "# Only for palyndromes\n",
    "words = ['opal', 'emerald', 'ruby', 'madam', 'sapphire', 'level', 'diamond']\n",
    "{name: None for name in words if name.lower() == name.lower()[::-1]}\n"
   ]
  }
 ],
 "metadata": {
  "kernelspec": {
   "display_name": "Python [conda env:python_lectures]",
   "language": "python",
   "name": "conda-env-python_lectures-py"
  },
  "language_info": {
   "codemirror_mode": {
    "name": "ipython",
    "version": 3
   },
   "file_extension": ".py",
   "mimetype": "text/x-python",
   "name": "python",
   "nbconvert_exporter": "python",
   "pygments_lexer": "ipython3",
   "version": "3.8.16"
  }
 },
 "nbformat": 4,
 "nbformat_minor": 5
}
